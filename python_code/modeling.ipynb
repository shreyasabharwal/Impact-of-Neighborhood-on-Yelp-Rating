{
 "cells": [
  {
   "cell_type": "code",
   "execution_count": 545,
   "metadata": {},
   "outputs": [],
   "source": [
    "import pandas as pd\n",
    "import seaborn as sns\n",
    "import matplotlib.pyplot as plt\n",
    "import numpy as np\n",
    "from sklearn.model_selection import train_test_split\n",
    "from sklearn.preprocessing import MinMaxScaler\n",
    "from sklearn.linear_model import LinearRegression, LogisticRegression\n",
    "import seaborn as sns\n",
    "import matplotlib.pyplot as plt\n",
    "from sklearn.ensemble import RandomForestClassifier"
   ]
  },
  {
   "cell_type": "code",
   "execution_count": 546,
   "metadata": {},
   "outputs": [],
   "source": [
    "from sklearn import linear_model\n",
    "from sklearn import metrics"
   ]
  },
  {
   "cell_type": "code",
   "execution_count": 547,
   "metadata": {},
   "outputs": [],
   "source": [
    "import psycopg2\n",
    "\n",
    "# connect to the PostgreSQL server\n",
    "conn = psycopg2.connect(host=\"imt575group4.cdzfpivjhvbj.us-east-1.rds.amazonaws.com\", database=\"imt575\", user=\"amir\", password=\"pleasework123\")"
   ]
  },
  {
   "cell_type": "code",
   "execution_count": 548,
   "metadata": {},
   "outputs": [],
   "source": [
    "def minmaxscale(x):\n",
    "    a = (x - x.min())/(x.max() - x.min())\n",
    "    return a"
   ]
  },
  {
   "cell_type": "markdown",
   "metadata": {},
   "source": [
    "### Only Business Characterstics"
   ]
  },
  {
   "cell_type": "code",
   "execution_count": 534,
   "metadata": {},
   "outputs": [
    {
     "data": {
      "text/plain": [
       "Index(['business_id', 'review_count', 'stars', 'accepts_credit_cards',\n",
       "       'good_for_kids', 'outdoor_seating', 'restaurants_delivery',\n",
       "       'restaurants_price_range', 'restaurants_reservations',\n",
       "       'restaurants_takeout', 'neighborhood', 'business_parking',\n",
       "       'business_count', 'gini_index', 'num_check_ins', 'stars_cont',\n",
       "       'hotelstravel_count', 'auto_count', 'arts_count', 'active_count',\n",
       "       'education_count', 'shopping_count', 'restaurants_count',\n",
       "       'dist_to_auto', 'dist_to_arts', 'dist_to_restaurants',\n",
       "       'dist_to_beautysvc', 'dist_to_pets', 'dist_to_professional',\n",
       "       'dist_to_hotelstravel', 'dist_to_shopping', 'dist_to_eventservices',\n",
       "       'dist_to_nightlife', 'dist_to_health', 'dist_to_localservices',\n",
       "       'dist_to_financialservices', 'dist_to_homeservices',\n",
       "       'dist_to_realestate', 'dist_to_active', 'dist_to_religiousorgs',\n",
       "       'dist_to_localflavor', 'dist_to_publicservicesgovt',\n",
       "       'dist_to_education', 'dist_to_massmedia', 'dist_to_strip',\n",
       "       'kmeans_label', 'kmeans_gini', 'dist_5_star_hotel',\n",
       "       'dist_5_star_movie_hall', 'avg_stars_100m'],\n",
       "      dtype='object')"
      ]
     },
     "execution_count": 534,
     "metadata": {},
     "output_type": "execute_result"
    }
   ],
   "source": [
    "neighborhood = pd.read_sql('SELECT * from business_neighborhood_view_2',conn)\n",
    "\n",
    "neighborhood.columns"
   ]
  },
  {
   "cell_type": "code",
   "execution_count": 535,
   "metadata": {},
   "outputs": [],
   "source": [
    "business = neighborhood[['review_count', 'stars', 'accepts_credit_cards',\n",
    "       'good_for_kids', 'outdoor_seating', 'restaurants_delivery',\n",
    "       'restaurants_price_range', 'restaurants_reservations',\n",
    "       'restaurants_takeout','business_parking',]]"
   ]
  },
  {
   "cell_type": "code",
   "execution_count": 536,
   "metadata": {},
   "outputs": [],
   "source": [
    "y=business['stars']\n",
    "X = business.drop('stars',axis=1)"
   ]
  },
  {
   "cell_type": "code",
   "execution_count": 537,
   "metadata": {},
   "outputs": [],
   "source": [
    "# changing to binary\n",
    "mapping = {1:0,1.5:0,2:0,2.5:0,3:0,3.5:0,4:1,4.5:1,5:1}\n",
    "y=y.apply(lambda x :mapping[x])"
   ]
  },
  {
   "cell_type": "code",
   "execution_count": 538,
   "metadata": {},
   "outputs": [
    {
     "data": {
      "text/plain": [
       "0    4915\n",
       "1    3538\n",
       "Name: stars, dtype: int64"
      ]
     },
     "execution_count": 538,
     "metadata": {},
     "output_type": "execute_result"
    }
   ],
   "source": [
    "y.value_counts()"
   ]
  },
  {
   "cell_type": "code",
   "execution_count": 539,
   "metadata": {},
   "outputs": [],
   "source": [
    "X = pd.get_dummies(X)\n",
    "X_bete = X.apply(minmaxscale)\n"
   ]
  },
  {
   "cell_type": "code",
   "execution_count": 540,
   "metadata": {},
   "outputs": [],
   "source": [
    "X_train, X_test, y_train, y_test = train_test_split(X_bete, y, test_size=0.20, random_state=42)"
   ]
  },
  {
   "cell_type": "code",
   "execution_count": 541,
   "metadata": {},
   "outputs": [
    {
     "data": {
      "text/plain": [
       "0.6493199290360734"
      ]
     },
     "execution_count": 541,
     "metadata": {},
     "output_type": "execute_result"
    }
   ],
   "source": [
    "clf = GradientBoostingClassifier()\n",
    "clf.fit(X_train, y_train)\n",
    "y_pred = clf.predict(X_test)\n",
    "metrics.accuracy_score(y_test,y_pred)"
   ]
  },
  {
   "cell_type": "markdown",
   "metadata": {},
   "source": [
    "#### Logistic Regression"
   ]
  },
  {
   "cell_type": "code",
   "execution_count": 411,
   "metadata": {},
   "outputs": [
    {
     "data": {
      "text/plain": [
       "0.6321703134240094"
      ]
     },
     "execution_count": 411,
     "metadata": {},
     "output_type": "execute_result"
    }
   ],
   "source": [
    "clf = LogisticRegression(C=1500)\n",
    "clf.fit(X_train, y_train)\n",
    "y_pred = clf.predict(X_test)\n",
    "metrics.accuracy_score(y_test,y_pred)"
   ]
  },
  {
   "cell_type": "code",
   "execution_count": 542,
   "metadata": {},
   "outputs": [
    {
     "name": "stderr",
     "output_type": "stream",
     "text": [
      "/Users/sahilaggarwal/anaconda2/envs/py36/lib/python3.6/site-packages/sklearn/utils/deprecation.py:122: FutureWarning: You are accessing a training score ('train_score'), which will not be available by default any more in 0.21. If you need training scores, please set return_train_score=True\n",
      "  warnings.warn(*warn_args, **warn_kwargs)\n"
     ]
    },
    {
     "data": {
      "text/plain": [
       "{'fit_time': array([0.36572576, 0.34258699, 0.4508419 , 0.33519101, 0.42596292]),\n",
       " 'score_time': array([0.00313926, 0.00495815, 0.00375104, 0.00337195, 0.00303006]),\n",
       " 'test_score': array([0.63867534, 0.59905381, 0.644589  , 0.6260355 , 0.62248521]),\n",
       " 'train_score': array([0.66296954, 0.67213842, 0.65764567, 0.66627236, 0.66242792])}"
      ]
     },
     "execution_count": 542,
     "metadata": {},
     "output_type": "execute_result"
    }
   ],
   "source": [
    "cv = cross_validate(clf,X_bete,y,cv=5)\n",
    "cv"
   ]
  },
  {
   "cell_type": "code",
   "execution_count": 543,
   "metadata": {},
   "outputs": [
    {
     "data": {
      "text/plain": [
       "0.6261677729994156"
      ]
     },
     "execution_count": 543,
     "metadata": {},
     "output_type": "execute_result"
    }
   ],
   "source": [
    "np.mean(cv['test_score'])"
   ]
  },
  {
   "cell_type": "code",
   "execution_count": null,
   "metadata": {},
   "outputs": [],
   "source": []
  },
  {
   "cell_type": "code",
   "execution_count": null,
   "metadata": {},
   "outputs": [],
   "source": []
  },
  {
   "cell_type": "code",
   "execution_count": 392,
   "metadata": {},
   "outputs": [
    {
     "data": {
      "text/plain": [
       "0.3580613254203759"
      ]
     },
     "execution_count": 392,
     "metadata": {},
     "output_type": "execute_result"
    }
   ],
   "source": [
    "metrics.f1_score(y_test,y_pred)"
   ]
  },
  {
   "cell_type": "code",
   "execution_count": 396,
   "metadata": {},
   "outputs": [
    {
     "data": {
      "text/plain": [
       "0.6321703134240094"
      ]
     },
     "execution_count": 396,
     "metadata": {},
     "output_type": "execute_result"
    }
   ],
   "source": [
    "clf = LogisticRegression(C=1500)\n",
    "clf.fit(X_train, y_train)\n",
    "y_pred = clf.predict(X_test)\n",
    "metrics.accuracy_score(y_test,y_pred)"
   ]
  },
  {
   "cell_type": "code",
   "execution_count": 397,
   "metadata": {},
   "outputs": [
    {
     "data": {
      "text/plain": [
       "0.38537549407114624"
      ]
     },
     "execution_count": 397,
     "metadata": {},
     "output_type": "execute_result"
    }
   ],
   "source": [
    "metrics.f1_score(y_test,y_pred)"
   ]
  },
  {
   "cell_type": "markdown",
   "metadata": {},
   "source": [
    "~67%"
   ]
  },
  {
   "cell_type": "code",
   "execution_count": 394,
   "metadata": {},
   "outputs": [
    {
     "data": {
      "text/plain": [
       "0.6230031948881789"
      ]
     },
     "execution_count": 394,
     "metadata": {},
     "output_type": "execute_result"
    }
   ],
   "source": [
    "metrics.precision_score(y_test,y_pred)"
   ]
  },
  {
   "cell_type": "code",
   "execution_count": 395,
   "metadata": {},
   "outputs": [
    {
     "data": {
      "text/plain": [
       "0.27896995708154504"
      ]
     },
     "execution_count": 395,
     "metadata": {},
     "output_type": "execute_result"
    }
   ],
   "source": [
    "metrics.recall_score(y_test,y_pred)"
   ]
  },
  {
   "cell_type": "markdown",
   "metadata": {},
   "source": [
    "#### Statsmodel"
   ]
  },
  {
   "cell_type": "code",
   "execution_count": 477,
   "metadata": {},
   "outputs": [],
   "source": [
    "from scipy import stats\n",
    "stats.chisqprob = lambda chisq, X_train: stats.chi2.sf(chisq, X_train)"
   ]
  },
  {
   "cell_type": "code",
   "execution_count": 480,
   "metadata": {},
   "outputs": [
    {
     "name": "stdout",
     "output_type": "stream",
     "text": [
      "Optimization terminated successfully.\n",
      "         Current function value: 0.654617\n",
      "         Iterations 6\n",
      "                           Logit Regression Results                           \n",
      "==============================================================================\n",
      "Dep. Variable:                  stars   No. Observations:                 8453\n",
      "Model:                          Logit   Df Residuals:                     8443\n",
      "Method:                           MLE   Df Model:                            9\n",
      "Date:                Sat, 01 Dec 2018   Pseudo R-squ.:                 0.03707\n",
      "Time:                        20:03:04   Log-Likelihood:                -5533.5\n",
      "converged:                       True   LL-Null:                       -5746.5\n",
      "                                        LLR p-value:                 3.718e-86\n",
      "============================================================================================\n",
      "                               coef    std err          z      P>|z|      [0.025      0.975]\n",
      "--------------------------------------------------------------------------------------------\n",
      "const                        0.2485      0.210      1.185      0.236      -0.162       0.659\n",
      "review_count                 8.5142      0.839     10.144      0.000       6.869      10.159\n",
      "accepts_credit_cards        -1.0377      0.188     -5.533      0.000      -1.405      -0.670\n",
      "good_for_kids               -0.0763      0.080     -0.954      0.340      -0.233       0.081\n",
      "outdoor_seating              0.2804      0.059      4.789      0.000       0.166       0.395\n",
      "restaurants_delivery         0.5374      0.063      8.565      0.000       0.414       0.660\n",
      "restaurants_price_range     -0.2283      0.130     -1.762      0.078      -0.482       0.026\n",
      "restaurants_reservations     0.5124      0.065      7.849      0.000       0.384       0.640\n",
      "restaurants_takeout         -0.0744      0.081     -0.915      0.360      -0.234       0.085\n",
      "business_parking             0.1532      0.054      2.862      0.004       0.048       0.258\n",
      "============================================================================================\n"
     ]
    }
   ],
   "source": [
    "import statsmodels.api as sm\n",
    "X_bete = sm.add_constant(X_bete)\n",
    "mdl = sm.Logit(y, X_bete)\n",
    "mdl_fit = mdl.fit(maxiter=100)\n",
    "print (mdl_fit.summary())"
   ]
  },
  {
   "cell_type": "code",
   "execution_count": 481,
   "metadata": {},
   "outputs": [
    {
     "data": {
      "text/html": [
       "<table class=\"simpletable\">\n",
       "<caption>Logit Regression Results</caption>\n",
       "<tr>\n",
       "  <th>Dep. Variable:</th>       <td>stars</td>      <th>  No. Observations:  </th>  <td>  8453</td>  \n",
       "</tr>\n",
       "<tr>\n",
       "  <th>Model:</th>               <td>Logit</td>      <th>  Df Residuals:      </th>  <td>  8443</td>  \n",
       "</tr>\n",
       "<tr>\n",
       "  <th>Method:</th>               <td>MLE</td>       <th>  Df Model:          </th>  <td>     9</td>  \n",
       "</tr>\n",
       "<tr>\n",
       "  <th>Date:</th>          <td>Sat, 01 Dec 2018</td> <th>  Pseudo R-squ.:     </th>  <td>0.03707</td> \n",
       "</tr>\n",
       "<tr>\n",
       "  <th>Time:</th>              <td>20:03:05</td>     <th>  Log-Likelihood:    </th> <td> -5533.5</td> \n",
       "</tr>\n",
       "<tr>\n",
       "  <th>converged:</th>           <td>True</td>       <th>  LL-Null:           </th> <td> -5746.5</td> \n",
       "</tr>\n",
       "<tr>\n",
       "  <th> </th>                      <td> </td>        <th>  LLR p-value:       </th> <td>3.718e-86</td>\n",
       "</tr>\n",
       "</table>\n",
       "<table class=\"simpletable\">\n",
       "<tr>\n",
       "              <td></td>                <th>coef</th>     <th>std err</th>      <th>z</th>      <th>P>|z|</th>  <th>[0.025</th>    <th>0.975]</th>  \n",
       "</tr>\n",
       "<tr>\n",
       "  <th>const</th>                    <td>    0.2485</td> <td>    0.210</td> <td>    1.185</td> <td> 0.236</td> <td>   -0.162</td> <td>    0.659</td>\n",
       "</tr>\n",
       "<tr>\n",
       "  <th>review_count</th>             <td>    8.5142</td> <td>    0.839</td> <td>   10.144</td> <td> 0.000</td> <td>    6.869</td> <td>   10.159</td>\n",
       "</tr>\n",
       "<tr>\n",
       "  <th>accepts_credit_cards</th>     <td>   -1.0377</td> <td>    0.188</td> <td>   -5.533</td> <td> 0.000</td> <td>   -1.405</td> <td>   -0.670</td>\n",
       "</tr>\n",
       "<tr>\n",
       "  <th>good_for_kids</th>            <td>   -0.0763</td> <td>    0.080</td> <td>   -0.954</td> <td> 0.340</td> <td>   -0.233</td> <td>    0.081</td>\n",
       "</tr>\n",
       "<tr>\n",
       "  <th>outdoor_seating</th>          <td>    0.2804</td> <td>    0.059</td> <td>    4.789</td> <td> 0.000</td> <td>    0.166</td> <td>    0.395</td>\n",
       "</tr>\n",
       "<tr>\n",
       "  <th>restaurants_delivery</th>     <td>    0.5374</td> <td>    0.063</td> <td>    8.565</td> <td> 0.000</td> <td>    0.414</td> <td>    0.660</td>\n",
       "</tr>\n",
       "<tr>\n",
       "  <th>restaurants_price_range</th>  <td>   -0.2283</td> <td>    0.130</td> <td>   -1.762</td> <td> 0.078</td> <td>   -0.482</td> <td>    0.026</td>\n",
       "</tr>\n",
       "<tr>\n",
       "  <th>restaurants_reservations</th> <td>    0.5124</td> <td>    0.065</td> <td>    7.849</td> <td> 0.000</td> <td>    0.384</td> <td>    0.640</td>\n",
       "</tr>\n",
       "<tr>\n",
       "  <th>restaurants_takeout</th>      <td>   -0.0744</td> <td>    0.081</td> <td>   -0.915</td> <td> 0.360</td> <td>   -0.234</td> <td>    0.085</td>\n",
       "</tr>\n",
       "<tr>\n",
       "  <th>business_parking</th>         <td>    0.1532</td> <td>    0.054</td> <td>    2.862</td> <td> 0.004</td> <td>    0.048</td> <td>    0.258</td>\n",
       "</tr>\n",
       "</table>"
      ],
      "text/plain": [
       "<class 'statsmodels.iolib.summary.Summary'>\n",
       "\"\"\"\n",
       "                           Logit Regression Results                           \n",
       "==============================================================================\n",
       "Dep. Variable:                  stars   No. Observations:                 8453\n",
       "Model:                          Logit   Df Residuals:                     8443\n",
       "Method:                           MLE   Df Model:                            9\n",
       "Date:                Sat, 01 Dec 2018   Pseudo R-squ.:                 0.03707\n",
       "Time:                        20:03:05   Log-Likelihood:                -5533.5\n",
       "converged:                       True   LL-Null:                       -5746.5\n",
       "                                        LLR p-value:                 3.718e-86\n",
       "============================================================================================\n",
       "                               coef    std err          z      P>|z|      [0.025      0.975]\n",
       "--------------------------------------------------------------------------------------------\n",
       "const                        0.2485      0.210      1.185      0.236      -0.162       0.659\n",
       "review_count                 8.5142      0.839     10.144      0.000       6.869      10.159\n",
       "accepts_credit_cards        -1.0377      0.188     -5.533      0.000      -1.405      -0.670\n",
       "good_for_kids               -0.0763      0.080     -0.954      0.340      -0.233       0.081\n",
       "outdoor_seating              0.2804      0.059      4.789      0.000       0.166       0.395\n",
       "restaurants_delivery         0.5374      0.063      8.565      0.000       0.414       0.660\n",
       "restaurants_price_range     -0.2283      0.130     -1.762      0.078      -0.482       0.026\n",
       "restaurants_reservations     0.5124      0.065      7.849      0.000       0.384       0.640\n",
       "restaurants_takeout         -0.0744      0.081     -0.915      0.360      -0.234       0.085\n",
       "business_parking             0.1532      0.054      2.862      0.004       0.048       0.258\n",
       "============================================================================================\n",
       "\"\"\""
      ]
     },
     "execution_count": 481,
     "metadata": {},
     "output_type": "execute_result"
    }
   ],
   "source": [
    "mdl_fit.summary()"
   ]
  },
  {
   "cell_type": "code",
   "execution_count": 482,
   "metadata": {},
   "outputs": [
    {
     "name": "stdout",
     "output_type": "stream",
     "text": [
      "[[4263.  652.]\n",
      " [2594.  944.]]\n"
     ]
    }
   ],
   "source": [
    "print(mdl_fit.pred_table())"
   ]
  },
  {
   "cell_type": "markdown",
   "metadata": {},
   "source": [
    "#### Random Forest"
   ]
  },
  {
   "cell_type": "code",
   "execution_count": 20,
   "metadata": {},
   "outputs": [],
   "source": [
    "X_train =X_train.drop('const',axis=1)"
   ]
  },
  {
   "cell_type": "code",
   "execution_count": 21,
   "metadata": {},
   "outputs": [
    {
     "data": {
      "text/plain": [
       "0.589247311827957"
      ]
     },
     "execution_count": 21,
     "metadata": {},
     "output_type": "execute_result"
    }
   ],
   "source": [
    "# 1000 trees\n",
    "clf = RandomForestClassifier(1000)\n",
    "clf.fit(X_train, y_train)\n",
    "y_pred = clf.predict(X_test)\n",
    "metrics.accuracy_score(y_test,y_pred)"
   ]
  },
  {
   "cell_type": "code",
   "execution_count": 22,
   "metadata": {},
   "outputs": [
    {
     "data": {
      "text/plain": [
       "0.5885304659498208"
      ]
     },
     "execution_count": 22,
     "metadata": {},
     "output_type": "execute_result"
    }
   ],
   "source": [
    "clf = RandomForestClassifier(100)\n",
    "clf.fit(X_train, y_train)\n",
    "y_pred = clf.predict(X_test)\n",
    "metrics.accuracy_score(y_test,y_pred)"
   ]
  },
  {
   "cell_type": "markdown",
   "metadata": {},
   "source": [
    "### Neighborhood Model"
   ]
  },
  {
   "cell_type": "code",
   "execution_count": 549,
   "metadata": {},
   "outputs": [],
   "source": [
    "#neighborhood = pd.read_sql('SELECT * from vegas_restaurants_neigh_dist',conn)\n",
    "neighborhood = pd.read_sql('SELECT * from business_neighborhood_view',conn)\n",
    "df = neighborhood.drop(['business_id','stars_cont','num_check_ins','dist_to_restaurants'],axis=1)\n",
    "y=df['stars']\n",
    "X = df.drop('stars',axis=1)"
   ]
  },
  {
   "cell_type": "code",
   "execution_count": 550,
   "metadata": {},
   "outputs": [
    {
     "data": {
      "text/plain": [
       "Index(['review_count', 'accepts_credit_cards', 'good_for_kids',\n",
       "       'outdoor_seating', 'restaurants_delivery', 'restaurants_price_range',\n",
       "       'restaurants_reservations', 'restaurants_takeout', 'neighborhood',\n",
       "       'business_parking', 'business_count', 'gini_index',\n",
       "       'hotelstravel_count', 'auto_count', 'arts_count', 'active_count',\n",
       "       'education_count', 'shopping_count', 'restaurants_count',\n",
       "       'dist_to_auto', 'dist_to_arts', 'dist_to_beautysvc', 'dist_to_pets',\n",
       "       'dist_to_professional', 'dist_to_hotelstravel', 'dist_to_shopping',\n",
       "       'dist_to_eventservices', 'dist_to_nightlife', 'dist_to_health',\n",
       "       'dist_to_localservices', 'dist_to_financialservices',\n",
       "       'dist_to_homeservices', 'dist_to_realestate', 'dist_to_active',\n",
       "       'dist_to_religiousorgs', 'dist_to_localflavor',\n",
       "       'dist_to_publicservicesgovt', 'dist_to_education', 'dist_to_massmedia',\n",
       "       'dist_to_strip', 'kmeans_label', 'kmeans_gini'],\n",
       "      dtype='object')"
      ]
     },
     "execution_count": 550,
     "metadata": {},
     "output_type": "execute_result"
    }
   ],
   "source": [
    "X.columns"
   ]
  },
  {
   "cell_type": "code",
   "execution_count": 551,
   "metadata": {},
   "outputs": [],
   "source": [
    "# changing to binary\n",
    "mapping = {1:0,1.5:0,2:0,2.5:0,3:0,3.5:0,4:1,4.5:1,5:1}\n",
    "y=y.apply(lambda x :mapping[x])\n"
   ]
  },
  {
   "cell_type": "code",
   "execution_count": 552,
   "metadata": {},
   "outputs": [
    {
     "data": {
      "text/plain": [
       "0    4915\n",
       "1    3538\n",
       "Name: stars, dtype: int64"
      ]
     },
     "execution_count": 552,
     "metadata": {},
     "output_type": "execute_result"
    }
   ],
   "source": [
    "y.value_counts()"
   ]
  },
  {
   "cell_type": "code",
   "execution_count": 553,
   "metadata": {},
   "outputs": [],
   "source": [
    "def mile_to_meter(x):\n",
    "    a = x*1609.34\n",
    "    return a"
   ]
  },
  {
   "cell_type": "code",
   "execution_count": 554,
   "metadata": {},
   "outputs": [],
   "source": [
    "X['dist_to_strip'] = X['dist_to_strip'].apply(mile_to_meter)"
   ]
  },
  {
   "cell_type": "code",
   "execution_count": 555,
   "metadata": {},
   "outputs": [],
   "source": [
    "X = pd.get_dummies(X)\n",
    "X_bete = X.apply(minmaxscale)"
   ]
  },
  {
   "cell_type": "code",
   "execution_count": 556,
   "metadata": {},
   "outputs": [],
   "source": [
    "X_train, X_test, y_train, y_test = train_test_split(X_bete, y, test_size=0.33, random_state=42)"
   ]
  },
  {
   "cell_type": "code",
   "execution_count": 557,
   "metadata": {},
   "outputs": [
    {
     "data": {
      "text/plain": [
       "array([0, 0, 0, ..., 1, 0, 1])"
      ]
     },
     "execution_count": 557,
     "metadata": {},
     "output_type": "execute_result"
    }
   ],
   "source": [
    "clf = LogisticRegression()\n",
    "clf.fit(X_train, y_train)\n",
    "y_pred = clf.predict(X_test)\n",
    "y_pred"
   ]
  },
  {
   "cell_type": "code",
   "execution_count": 558,
   "metadata": {},
   "outputs": [
    {
     "data": {
      "text/plain": [
       "0.6326164874551972"
      ]
     },
     "execution_count": 558,
     "metadata": {},
     "output_type": "execute_result"
    }
   ],
   "source": [
    "metrics.accuracy_score(y_test,y_pred)"
   ]
  },
  {
   "cell_type": "code",
   "execution_count": 563,
   "metadata": {},
   "outputs": [],
   "source": [
    "from sklearn.ensemble import GradientBoostingClassifier, RandomForestClassifier"
   ]
  },
  {
   "cell_type": "code",
   "execution_count": 560,
   "metadata": {},
   "outputs": [],
   "source": [
    "clf = GradientBoostingClassifier()\n",
    "clf.fit(X_train, y_train)\n",
    "y_pred = clf.predict(X_test)"
   ]
  },
  {
   "cell_type": "code",
   "execution_count": 561,
   "metadata": {},
   "outputs": [
    {
     "data": {
      "text/plain": [
       "0.6741935483870968"
      ]
     },
     "execution_count": 561,
     "metadata": {},
     "output_type": "execute_result"
    }
   ],
   "source": [
    "metrics.accuracy_score(y_test,y_pred)"
   ]
  },
  {
   "cell_type": "code",
   "execution_count": 562,
   "metadata": {},
   "outputs": [
    {
     "name": "stderr",
     "output_type": "stream",
     "text": [
      "/Users/sahilaggarwal/anaconda2/envs/py36/lib/python3.6/site-packages/sklearn/utils/deprecation.py:122: FutureWarning: You are accessing a training score ('train_score'), which will not be available by default any more in 0.21. If you need training scores, please set return_train_score=True\n",
      "  warnings.warn(*warn_args, **warn_kwargs)\n"
     ]
    },
    {
     "data": {
      "text/plain": [
       "{'fit_time': array([2.17895412, 1.96829963, 1.92900515]),\n",
       " 'score_time': array([0.00739908, 0.00689936, 0.00848103]),\n",
       " 'test_score': array([0.64952111, 0.66773163, 0.65566205]),\n",
       " 'train_score': array([0.74387646, 0.73527324, 0.73917672])}"
      ]
     },
     "execution_count": 562,
     "metadata": {},
     "output_type": "execute_result"
    }
   ],
   "source": [
    "from sklearn.model_selection import cross_validate\n",
    "cv = cross_validate(clf,X_bete,y)\n",
    "cv"
   ]
  },
  {
   "cell_type": "code",
   "execution_count": 564,
   "metadata": {},
   "outputs": [],
   "source": [
    "clf = RandomForestClassifier()\n",
    "clf.fit(X_train, y_train)\n",
    "y_pred = clf.predict(X_test)"
   ]
  },
  {
   "cell_type": "code",
   "execution_count": 565,
   "metadata": {},
   "outputs": [
    {
     "name": "stderr",
     "output_type": "stream",
     "text": [
      "/Users/sahilaggarwal/anaconda2/envs/py36/lib/python3.6/site-packages/sklearn/utils/deprecation.py:122: FutureWarning: You are accessing a training score ('train_score'), which will not be available by default any more in 0.21. If you need training scores, please set return_train_score=True\n",
      "  warnings.warn(*warn_args, **warn_kwargs)\n"
     ]
    },
    {
     "data": {
      "text/plain": [
       "{'fit_time': array([0.18018198, 0.15584588, 0.18027973]),\n",
       " 'score_time': array([0.00994778, 0.00791407, 0.0080092 ]),\n",
       " 'test_score': array([0.61298333, 0.63081292, 0.62122826]),\n",
       " 'train_score': array([0.97923323, 0.98136977, 0.98456352])}"
      ]
     },
     "execution_count": 565,
     "metadata": {},
     "output_type": "execute_result"
    }
   ],
   "source": [
    "from sklearn.model_selection import cross_validate\n",
    "cv = cross_validate(clf,X_bete,y)\n",
    "cv"
   ]
  },
  {
   "cell_type": "code",
   "execution_count": 568,
   "metadata": {},
   "outputs": [],
   "source": [
    "def plot_learning_curve(estimator, title, X, y, ylim=None, cv=None,\n",
    "                        n_jobs=1, train_sizes=np.linspace(.05, 1.0, 15)):\n",
    "    \"\"\"\n",
    "    Generate a simple plot of the test and training learning curve.\n",
    "\n",
    "    Parameters\n",
    "    ----------\n",
    "    estimator : object type that implements the \"fit\" and \"predict\" methods\n",
    "        An object of that type which is cloned for each validation.\n",
    "\n",
    "    title : string\n",
    "        Title for the chart.\n",
    "\n",
    "    X : array-like, shape (n_samples, n_features)\n",
    "        Training vector, where n_samples is the number of samples and\n",
    "        n_features is the number of features.\n",
    "\n",
    "    y : array-like, shape (n_samples) or (n_samples, n_features), optional\n",
    "        Target relative to X for classification or regression;\n",
    "        None for unsupervised learning.\n",
    "\n",
    "    ylim : tuple, shape (ymin, ymax), optional\n",
    "        Defines minimum and maximum yvalues plotted.\n",
    "\n",
    "    cv : int, cross-validation generator or an iterable, optional\n",
    "        Determines the cross-validation splitting strategy.\n",
    "        Possible inputs for cv are:\n",
    "          - None, to use the default 3-fold cross-validation,\n",
    "          - integer, to specify the number of folds.\n",
    "          - An object to be used as a cross-validation generator.\n",
    "          - An iterable yielding train/test splits.\n",
    "\n",
    "        For integer/None inputs, if ``y`` is binary or multiclass,\n",
    "        :class:`StratifiedKFold` used. If the estimator is not a classifier\n",
    "        or if ``y`` is neither binary nor multiclass, :class:`KFold` is used.\n",
    "\n",
    "        Refer :ref:`User Guide <cross_validation>` for the various\n",
    "        cross-validators that can be used here.\n",
    "\n",
    "    n_jobs : integer, optional\n",
    "        Number of jobs to run in parallel (default 1).\n",
    "    \"\"\"\n",
    "    plt.figure(figsize=(15,8))\n",
    "    plt.title(title)\n",
    "    if ylim is not None:\n",
    "        plt.ylim(*ylim)\n",
    "    plt.xlabel(\"Training examples\")\n",
    "    plt.ylabel(\"Score\")\n",
    "    train_sizes, train_scores, test_scores = learning_curve(\n",
    "        estimator, X, y, cv=cv, n_jobs=n_jobs, train_sizes=train_sizes)\n",
    "    #print('Train',train_scores)\n",
    "    \n",
    "    #print('Test',test_scores)\n",
    "    train_scores_mean = np.mean(train_scores, axis=1)\n",
    "    #print('Train Mean',train_scores_mean)\n",
    "    train_scores_std = np.std(train_scores, axis=1)\n",
    "    test_scores_mean = np.mean(test_scores, axis=1)\n",
    "    #print('Test Mean',test_scores_mean)\n",
    "    #print('Test Mean', test_scores_std)\n",
    "    test_scores_std = np.std(test_scores, axis=1)\n",
    "    plt.grid()\n",
    "    plt.ylim(0,1)\n",
    "    plt.fill_between(train_sizes, train_scores_mean - train_scores_std,\n",
    "                     train_scores_mean + train_scores_std, alpha=0.1,\n",
    "                     color=\"r\")\n",
    "    plt.fill_between(train_sizes, test_scores_mean - test_scores_std,\n",
    "                     test_scores_mean + test_scores_std, alpha=0.1, color=\"g\")\n",
    "    plt.plot(train_sizes, train_scores_mean, 'o-', color=\"r\",\n",
    "             label=\"Training score\")\n",
    "    plt.plot(train_sizes, test_scores_mean, 'o-', color=\"g\",\n",
    "             label=\"Cross-validation score\")\n",
    "\n",
    "    plt.legend(loc=\"best\")\n",
    "    return plt"
   ]
  },
  {
   "cell_type": "code",
   "execution_count": 569,
   "metadata": {},
   "outputs": [
    {
     "data": {
      "text/plain": [
       "<module 'matplotlib.pyplot' from '/Users/sahilaggarwal/anaconda2/envs/py36/lib/python3.6/site-packages/matplotlib/pyplot.py'>"
      ]
     },
     "execution_count": 569,
     "metadata": {},
     "output_type": "execute_result"
    },
    {
     "data": {
      "image/png": "[encoded data removed]",
      "text/plain": [
       "<matplotlib.figure.Figure at 0x1c255549e8>"
      ]
     },
     "metadata": {},
     "output_type": "display_data"
    }
   ],
   "source": [
    "from sklearn.model_selection import learning_curve\n",
    "plot_learning_curve(clf,'Learning Curve Random Forest',X_bete,y)"
   ]
  },
  {
   "cell_type": "code",
   "execution_count": null,
   "metadata": {},
   "outputs": [],
   "source": []
  },
  {
   "cell_type": "code",
   "execution_count": null,
   "metadata": {},
   "outputs": [],
   "source": []
  },
  {
   "cell_type": "code",
   "execution_count": null,
   "metadata": {},
   "outputs": [],
   "source": []
  },
  {
   "cell_type": "code",
   "execution_count": null,
   "metadata": {},
   "outputs": [],
   "source": []
  },
  {
   "cell_type": "markdown",
   "metadata": {},
   "source": [
    "#### Logistic Regression - Adjusting weights"
   ]
  },
  {
   "cell_type": "code",
   "execution_count": 267,
   "metadata": {},
   "outputs": [
    {
     "data": {
      "text/plain": [
       "array([1, 0, 0, ..., 1, 1, 1])"
      ]
     },
     "execution_count": 267,
     "metadata": {},
     "output_type": "execute_result"
    }
   ],
   "source": [
    "clf = LogisticRegression(class_weight=\"balanced\")\n",
    "clf.fit(X_train, y_train)\n",
    "y_pred = clf.predict(X_test)\n",
    "y_pred"
   ]
  },
  {
   "cell_type": "code",
   "execution_count": 268,
   "metadata": {},
   "outputs": [
    {
     "data": {
      "text/plain": [
       "0.6121863799283154"
      ]
     },
     "execution_count": 268,
     "metadata": {},
     "output_type": "execute_result"
    }
   ],
   "source": [
    "metrics.accuracy_score(y_test,y_pred)"
   ]
  },
  {
   "cell_type": "markdown",
   "metadata": {},
   "source": [
    "#### Finding the best value of Lambda"
   ]
  },
  {
   "cell_type": "code",
   "execution_count": 269,
   "metadata": {},
   "outputs": [],
   "source": [
    "lambda_values = np.logspace(-6,6,50)\n",
    "a = []\n",
    "\n",
    "for i in lambda_values:\n",
    "    clf = LogisticRegression(C=i)\n",
    "    clf.fit(X_train, y_train)\n",
    "    y_pred = clf.predict(X_test)\n",
    "    a.append(metrics.accuracy_score(y_test, y_pred))"
   ]
  },
  {
   "cell_type": "code",
   "execution_count": 270,
   "metadata": {},
   "outputs": [
    {
     "data": {
      "text/plain": [
       "[0.5831541218637993,\n",
       " 0.5831541218637993,\n",
       " 0.5831541218637993,\n",
       " 0.5831541218637993,\n",
       " 0.5831541218637993,\n",
       " 0.5831541218637993,\n",
       " 0.5831541218637993,\n",
       " 0.5831541218637993,\n",
       " 0.5831541218637993,\n",
       " 0.5831541218637993,\n",
       " 0.5831541218637993,\n",
       " 0.5831541218637993,\n",
       " 0.5831541218637993,\n",
       " 0.5838709677419355,\n",
       " 0.5917562724014337,\n",
       " 0.5992831541218638,\n",
       " 0.6086021505376344,\n",
       " 0.6025089605734767,\n",
       " 0.6028673835125448,\n",
       " 0.6043010752688172,\n",
       " 0.6057347670250897,\n",
       " 0.6082437275985663,\n",
       " 0.6082437275985663,\n",
       " 0.613978494623656,\n",
       " 0.6197132616487455,\n",
       " 0.6211469534050179,\n",
       " 0.621505376344086,\n",
       " 0.6268817204301075,\n",
       " 0.6315412186379928,\n",
       " 0.6326164874551972,\n",
       " 0.632258064516129,\n",
       " 0.632258064516129,\n",
       " 0.6340501792114696,\n",
       " 0.6347670250896057,\n",
       " 0.6333333333333333,\n",
       " 0.6329749103942652,\n",
       " 0.6340501792114696,\n",
       " 0.6351254480286739,\n",
       " 0.6340501792114696,\n",
       " 0.6340501792114696,\n",
       " 0.6340501792114696,\n",
       " 0.6344086021505376,\n",
       " 0.6340501792114696,\n",
       " 0.6340501792114696,\n",
       " 0.6340501792114696,\n",
       " 0.6340501792114696,\n",
       " 0.6344086021505376,\n",
       " 0.6340501792114696,\n",
       " 0.6340501792114696,\n",
       " 0.6344086021505376]"
      ]
     },
     "execution_count": 270,
     "metadata": {},
     "output_type": "execute_result"
    }
   ],
   "source": [
    "a"
   ]
  },
  {
   "cell_type": "code",
   "execution_count": 271,
   "metadata": {},
   "outputs": [
    {
     "data": {
      "text/plain": [
       "12.361246289094426"
      ]
     },
     "execution_count": 271,
     "metadata": {},
     "output_type": "execute_result"
    }
   ],
   "source": [
    "np.log(2.33572147e+05)"
   ]
  },
  {
   "cell_type": "code",
   "execution_count": 272,
   "metadata": {},
   "outputs": [
    {
     "data": {
      "text/plain": [
       "array([1.00000000e-06, 1.75751062e-06, 3.08884360e-06, 5.42867544e-06,\n",
       "       9.54095476e-06, 1.67683294e-05, 2.94705170e-05, 5.17947468e-05,\n",
       "       9.10298178e-05, 1.59985872e-04, 2.81176870e-04, 4.94171336e-04,\n",
       "       8.68511374e-04, 1.52641797e-03, 2.68269580e-03, 4.71486636e-03,\n",
       "       8.28642773e-03, 1.45634848e-02, 2.55954792e-02, 4.49843267e-02,\n",
       "       7.90604321e-02, 1.38949549e-01, 2.44205309e-01, 4.29193426e-01,\n",
       "       7.54312006e-01, 1.32571137e+00, 2.32995181e+00, 4.09491506e+00,\n",
       "       7.19685673e+00, 1.26485522e+01, 2.22299648e+01, 3.90693994e+01,\n",
       "       6.86648845e+01, 1.20679264e+02, 2.12095089e+02, 3.72759372e+02,\n",
       "       6.55128557e+02, 1.15139540e+03, 2.02358965e+03, 3.55648031e+03,\n",
       "       6.25055193e+03, 1.09854114e+04, 1.93069773e+04, 3.39322177e+04,\n",
       "       5.96362332e+04, 1.04811313e+05, 1.84206997e+05, 3.23745754e+05,\n",
       "       5.68986603e+05, 1.00000000e+06])"
      ]
     },
     "execution_count": 272,
     "metadata": {},
     "output_type": "execute_result"
    }
   ],
   "source": [
    "lambda_values"
   ]
  },
  {
   "cell_type": "code",
   "execution_count": 273,
   "metadata": {},
   "outputs": [
    {
     "name": "stderr",
     "output_type": "stream",
     "text": [
      "No handles with labels found to put in legend.\n"
     ]
    },
    {
     "data": {
      "image/png": "[encoded data removed]",
      "text/plain": [
       "<matplotlib.figure.Figure at 0x1c27e14400>"
      ]
     },
     "metadata": {},
     "output_type": "display_data"
    }
   ],
   "source": [
    "plt.figure(figsize=(16,7))\n",
    "plt.plot(lambda_values,a,marker='o')\n",
    "plt.grid()\n",
    "plt.ylim([0.50, 0.70])\n",
    "plt.xlim([0.000001, 1000000])\n",
    "plt.xlabel('lambda')\n",
    "plt.xscale('log')\n",
    "plt.ylabel('Accuracy')\n",
    "#plt.legend(loc=\"lower right\")\n",
    "plt.title('Accuracy vs C')\n",
    "plt.legend()\n",
    "plt.show()"
   ]
  },
  {
   "cell_type": "markdown",
   "metadata": {},
   "source": [
    "the best value of C is 323745"
   ]
  },
  {
   "cell_type": "code",
   "execution_count": 276,
   "metadata": {},
   "outputs": [
    {
     "data": {
      "text/plain": [
       "0.6053763440860215"
      ]
     },
     "execution_count": 276,
     "metadata": {},
     "output_type": "execute_result"
    }
   ],
   "source": [
    "# trying class weights with C = 50\n",
    "clf = LogisticRegression(C=1/100)\n",
    "clf.fit(X_train, y_train)\n",
    "y_pred = clf.predict(X_test)\n",
    "metrics.accuracy_score(y_test,y_pred)"
   ]
  },
  {
   "cell_type": "code",
   "execution_count": 282,
   "metadata": {},
   "outputs": [
    {
     "data": {
      "text/plain": [
       "0.6351254480286739"
      ]
     },
     "execution_count": 282,
     "metadata": {},
     "output_type": "execute_result"
    }
   ],
   "source": [
    "clf = LogisticRegression(C=1151)\n",
    "clf.fit(X_train, y_train)\n",
    "y_pred = clf.predict(X_test)\n",
    "metrics.accuracy_score(y_test,y_pred)"
   ]
  },
  {
   "cell_type": "markdown",
   "metadata": {},
   "source": [
    "Still does not improve. The accuracy is 67.40 without class weights"
   ]
  },
  {
   "cell_type": "markdown",
   "metadata": {},
   "source": [
    "#### Statsmodel"
   ]
  },
  {
   "cell_type": "code",
   "execution_count": 192,
   "metadata": {},
   "outputs": [],
   "source": [
    "neighborhood = pd.read_sql('SELECT * from business_neighborhood_view',conn)\n",
    "df = neighborhood.drop(['business_id','stars_cont','num_check_ins','dist_to_restaurants'],axis=1)\n",
    "y=df['stars']\n",
    "X = df.drop('stars',axis=1)"
   ]
  },
  {
   "cell_type": "code",
   "execution_count": 193,
   "metadata": {},
   "outputs": [],
   "source": [
    "# changing to binary\n",
    "mapping = {1:0,1.5:0,2:0,2.5:0,3:0,3.5:0,4:1,4.5:1,5:1}\n",
    "y=y.apply(lambda x :mapping[x])\n"
   ]
  },
  {
   "cell_type": "code",
   "execution_count": 194,
   "metadata": {},
   "outputs": [],
   "source": [
    "X = X.drop('neighborhood',axis=1)"
   ]
  },
  {
   "cell_type": "code",
   "execution_count": 195,
   "metadata": {},
   "outputs": [],
   "source": [
    "X = pd.get_dummies(X)\n",
    "X_bete = X.apply(minmaxscale)"
   ]
  },
  {
   "cell_type": "code",
   "execution_count": 196,
   "metadata": {},
   "outputs": [],
   "source": [
    "X_train, X_test, y_train, y_test = train_test_split(X_bete, y, test_size=0.33, random_state=42)"
   ]
  },
  {
   "cell_type": "code",
   "execution_count": 197,
   "metadata": {},
   "outputs": [
    {
     "data": {
      "text/plain": [
       "0    4915\n",
       "1    3538\n",
       "Name: stars, dtype: int64"
      ]
     },
     "execution_count": 197,
     "metadata": {},
     "output_type": "execute_result"
    }
   ],
   "source": [
    "y.value_counts()"
   ]
  },
  {
   "cell_type": "code",
   "execution_count": 198,
   "metadata": {},
   "outputs": [],
   "source": [
    "from scipy import stats\n",
    "stats.chisqprob = lambda chisq, X_train: stats.chi2.sf(chisq, X_train)"
   ]
  },
  {
   "cell_type": "code",
   "execution_count": 199,
   "metadata": {},
   "outputs": [
    {
     "name": "stdout",
     "output_type": "stream",
     "text": [
      "Optimization terminated successfully.\n",
      "         Current function value: 0.637596\n",
      "         Iterations 7\n",
      "                           Logit Regression Results                           \n",
      "==============================================================================\n",
      "Dep. Variable:                  stars   No. Observations:                 5663\n",
      "Model:                          Logit   Df Residuals:                     5623\n",
      "Method:                           MLE   Df Model:                           39\n",
      "Date:                Fri, 30 Nov 2018   Pseudo R-squ.:                 0.06249\n",
      "Time:                        21:22:09   Log-Likelihood:                -3610.7\n",
      "converged:                       True   LL-Null:                       -3851.4\n",
      "                                        LLR p-value:                 1.340e-77\n",
      "==============================================================================================\n",
      "                                 coef    std err          z      P>|z|      [0.025      0.975]\n",
      "----------------------------------------------------------------------------------------------\n",
      "const                         -0.8003      0.398     -2.010      0.044      -1.581      -0.020\n",
      "review_count                   9.6945      1.077      9.000      0.000       7.583      11.806\n",
      "accepts_credit_cards          -1.0296      0.225     -4.584      0.000      -1.470      -0.589\n",
      "good_for_kids                 -0.2069      0.099     -2.087      0.037      -0.401      -0.013\n",
      "outdoor_seating                0.1618      0.074      2.185      0.029       0.017       0.307\n",
      "restaurants_delivery           0.4394      0.079      5.559      0.000       0.284       0.594\n",
      "restaurants_price_range       -0.0630      0.165     -0.383      0.702      -0.386       0.260\n",
      "restaurants_reservations       0.4775      0.082      5.817      0.000       0.317       0.638\n",
      "restaurants_takeout           -0.0545      0.102     -0.533      0.594      -0.255       0.146\n",
      "business_parking               0.1783      0.068      2.629      0.009       0.045       0.311\n",
      "business_count                 1.1758      0.481      2.443      0.015       0.232       2.119\n",
      "gini_index                     1.7562      0.349      5.029      0.000       1.072       2.441\n",
      "hotelstravel_count            -0.9779      0.466     -2.098      0.036      -1.892      -0.064\n",
      "auto_count                     0.3526      0.407      0.866      0.386      -0.445       1.150\n",
      "arts_count                    -0.9924      0.994     -0.998      0.318      -2.941       0.956\n",
      "active_count                   2.1550      0.734      2.937      0.003       0.717       3.593\n",
      "education_count               -3.9442      1.236     -3.190      0.001      -6.368      -1.521\n",
      "shopping_count                -0.7551      0.701     -1.077      0.281      -2.129       0.619\n",
      "restaurants_count              2.2707      1.359      1.671      0.095      -0.392       4.933\n",
      "dist_to_auto                 -12.3084      4.844     -2.541      0.011     -21.802      -2.815\n",
      "dist_to_arts                  -1.3156      3.543     -0.371      0.710      -8.259       5.628\n",
      "dist_to_beautysvc              1.9765      7.602      0.260      0.795     -12.923      16.876\n",
      "dist_to_pets                 -14.5684      3.121     -4.668      0.000     -20.685      -8.451\n",
      "dist_to_professional           0.8550      5.454      0.157      0.875      -9.834      11.544\n",
      "dist_to_hotelstravel           5.1959      2.504      2.075      0.038       0.288      10.104\n",
      "dist_to_shopping              10.1211      6.190      1.635      0.102      -2.011      22.253\n",
      "dist_to_eventservices         -3.2775      4.581     -0.715      0.474     -12.257       5.702\n",
      "dist_to_nightlife             19.8908      4.884      4.072      0.000      10.318      29.464\n",
      "dist_to_health                 9.7632      5.834      1.674      0.094      -1.670      21.197\n",
      "dist_to_localservices         -5.9977      8.180     -0.733      0.463     -22.031      10.035\n",
      "dist_to_financialservices     -1.8380      3.514     -0.523      0.601      -8.725       5.049\n",
      "dist_to_homeservices         -24.1473      8.703     -2.775      0.006     -41.204      -7.091\n",
      "dist_to_realestate             5.1054      4.810      1.061      0.289      -4.322      14.533\n",
      "dist_to_active                 4.0686      1.641      2.480      0.013       0.853       7.285\n",
      "dist_to_religiousorgs         -1.7337      1.965     -0.882      0.378      -5.586       2.118\n",
      "dist_to_localflavor            1.4509      1.537      0.944      0.345      -1.562       4.464\n",
      "dist_to_publicservicesgovt     0.3737      2.273      0.164      0.869      -4.082       4.829\n",
      "dist_to_education             -4.8782      3.136     -1.555      0.120     -11.025       1.269\n",
      "dist_to_massmedia             -3.3305      1.354     -2.459      0.014      -5.985      -0.676\n",
      "dist_to_strip                  0.0208      0.714      0.029      0.977      -1.378       1.420\n",
      "==============================================================================================\n"
     ]
    }
   ],
   "source": [
    "import statsmodels.api as sm\n",
    "X_train = sm.add_constant(X_train)\n",
    "mdl = sm.Logit(y_train, X_train)\n",
    "mdl_fit = mdl.fit(maxiter=100)\n",
    "print (mdl_fit.summary())"
   ]
  },
  {
   "cell_type": "code",
   "execution_count": 150,
   "metadata": {},
   "outputs": [
    {
     "data": {
      "text/html": [
       "<table class=\"simpletable\">\n",
       "<caption>Logit Regression Results</caption>\n",
       "<tr>\n",
       "  <th>Dep. Variable:</th>       <td>stars</td>      <th>  No. Observations:  </th>  <td>  5663</td>  \n",
       "</tr>\n",
       "<tr>\n",
       "  <th>Model:</th>               <td>Logit</td>      <th>  Df Residuals:      </th>  <td>  5623</td>  \n",
       "</tr>\n",
       "<tr>\n",
       "  <th>Method:</th>               <td>MLE</td>       <th>  Df Model:          </th>  <td>    39</td>  \n",
       "</tr>\n",
       "<tr>\n",
       "  <th>Date:</th>          <td>Fri, 30 Nov 2018</td> <th>  Pseudo R-squ.:     </th>  <td>0.06249</td> \n",
       "</tr>\n",
       "<tr>\n",
       "  <th>Time:</th>              <td>20:53:13</td>     <th>  Log-Likelihood:    </th> <td> -3610.7</td> \n",
       "</tr>\n",
       "<tr>\n",
       "  <th>converged:</th>           <td>True</td>       <th>  LL-Null:           </th> <td> -3851.4</td> \n",
       "</tr>\n",
       "<tr>\n",
       "  <th> </th>                      <td> </td>        <th>  LLR p-value:       </th> <td>1.340e-77</td>\n",
       "</tr>\n",
       "</table>\n",
       "<table class=\"simpletable\">\n",
       "<tr>\n",
       "               <td></td>                 <th>coef</th>     <th>std err</th>      <th>z</th>      <th>P>|z|</th>  <th>[0.025</th>    <th>0.975]</th>  \n",
       "</tr>\n",
       "<tr>\n",
       "  <th>const</th>                      <td>   -0.8003</td> <td>    0.398</td> <td>   -2.010</td> <td> 0.044</td> <td>   -1.581</td> <td>   -0.020</td>\n",
       "</tr>\n",
       "<tr>\n",
       "  <th>review_count</th>               <td>    9.6945</td> <td>    1.077</td> <td>    9.000</td> <td> 0.000</td> <td>    7.583</td> <td>   11.806</td>\n",
       "</tr>\n",
       "<tr>\n",
       "  <th>accepts_credit_cards</th>       <td>   -1.0296</td> <td>    0.225</td> <td>   -4.584</td> <td> 0.000</td> <td>   -1.470</td> <td>   -0.589</td>\n",
       "</tr>\n",
       "<tr>\n",
       "  <th>good_for_kids</th>              <td>   -0.2069</td> <td>    0.099</td> <td>   -2.087</td> <td> 0.037</td> <td>   -0.401</td> <td>   -0.013</td>\n",
       "</tr>\n",
       "<tr>\n",
       "  <th>outdoor_seating</th>            <td>    0.1618</td> <td>    0.074</td> <td>    2.185</td> <td> 0.029</td> <td>    0.017</td> <td>    0.307</td>\n",
       "</tr>\n",
       "<tr>\n",
       "  <th>restaurants_delivery</th>       <td>    0.4394</td> <td>    0.079</td> <td>    5.559</td> <td> 0.000</td> <td>    0.284</td> <td>    0.594</td>\n",
       "</tr>\n",
       "<tr>\n",
       "  <th>restaurants_price_range</th>    <td>   -0.0630</td> <td>    0.165</td> <td>   -0.383</td> <td> 0.702</td> <td>   -0.386</td> <td>    0.260</td>\n",
       "</tr>\n",
       "<tr>\n",
       "  <th>restaurants_reservations</th>   <td>    0.4775</td> <td>    0.082</td> <td>    5.817</td> <td> 0.000</td> <td>    0.317</td> <td>    0.638</td>\n",
       "</tr>\n",
       "<tr>\n",
       "  <th>restaurants_takeout</th>        <td>   -0.0545</td> <td>    0.102</td> <td>   -0.533</td> <td> 0.594</td> <td>   -0.255</td> <td>    0.146</td>\n",
       "</tr>\n",
       "<tr>\n",
       "  <th>business_parking</th>           <td>    0.1783</td> <td>    0.068</td> <td>    2.629</td> <td> 0.009</td> <td>    0.045</td> <td>    0.311</td>\n",
       "</tr>\n",
       "<tr>\n",
       "  <th>business_count</th>             <td>    1.1758</td> <td>    0.481</td> <td>    2.443</td> <td> 0.015</td> <td>    0.232</td> <td>    2.119</td>\n",
       "</tr>\n",
       "<tr>\n",
       "  <th>gini_index</th>                 <td>    1.7562</td> <td>    0.349</td> <td>    5.029</td> <td> 0.000</td> <td>    1.072</td> <td>    2.441</td>\n",
       "</tr>\n",
       "<tr>\n",
       "  <th>hotelstravel_count</th>         <td>   -0.9779</td> <td>    0.466</td> <td>   -2.098</td> <td> 0.036</td> <td>   -1.892</td> <td>   -0.064</td>\n",
       "</tr>\n",
       "<tr>\n",
       "  <th>auto_count</th>                 <td>    0.3526</td> <td>    0.407</td> <td>    0.866</td> <td> 0.386</td> <td>   -0.445</td> <td>    1.150</td>\n",
       "</tr>\n",
       "<tr>\n",
       "  <th>arts_count</th>                 <td>   -0.9924</td> <td>    0.994</td> <td>   -0.998</td> <td> 0.318</td> <td>   -2.941</td> <td>    0.956</td>\n",
       "</tr>\n",
       "<tr>\n",
       "  <th>active_count</th>               <td>    2.1550</td> <td>    0.734</td> <td>    2.937</td> <td> 0.003</td> <td>    0.717</td> <td>    3.593</td>\n",
       "</tr>\n",
       "<tr>\n",
       "  <th>education_count</th>            <td>   -3.9442</td> <td>    1.236</td> <td>   -3.190</td> <td> 0.001</td> <td>   -6.368</td> <td>   -1.521</td>\n",
       "</tr>\n",
       "<tr>\n",
       "  <th>shopping_count</th>             <td>   -0.7551</td> <td>    0.701</td> <td>   -1.077</td> <td> 0.281</td> <td>   -2.129</td> <td>    0.619</td>\n",
       "</tr>\n",
       "<tr>\n",
       "  <th>restaurants_count</th>          <td>    2.2707</td> <td>    1.359</td> <td>    1.671</td> <td> 0.095</td> <td>   -0.392</td> <td>    4.933</td>\n",
       "</tr>\n",
       "<tr>\n",
       "  <th>dist_to_auto</th>               <td>  -12.3084</td> <td>    4.844</td> <td>   -2.541</td> <td> 0.011</td> <td>  -21.802</td> <td>   -2.815</td>\n",
       "</tr>\n",
       "<tr>\n",
       "  <th>dist_to_arts</th>               <td>   -1.3156</td> <td>    3.543</td> <td>   -0.371</td> <td> 0.710</td> <td>   -8.259</td> <td>    5.628</td>\n",
       "</tr>\n",
       "<tr>\n",
       "  <th>dist_to_beautysvc</th>          <td>    1.9765</td> <td>    7.602</td> <td>    0.260</td> <td> 0.795</td> <td>  -12.923</td> <td>   16.876</td>\n",
       "</tr>\n",
       "<tr>\n",
       "  <th>dist_to_pets</th>               <td>  -14.5684</td> <td>    3.121</td> <td>   -4.668</td> <td> 0.000</td> <td>  -20.685</td> <td>   -8.451</td>\n",
       "</tr>\n",
       "<tr>\n",
       "  <th>dist_to_professional</th>       <td>    0.8550</td> <td>    5.454</td> <td>    0.157</td> <td> 0.875</td> <td>   -9.834</td> <td>   11.544</td>\n",
       "</tr>\n",
       "<tr>\n",
       "  <th>dist_to_hotelstravel</th>       <td>    5.1959</td> <td>    2.504</td> <td>    2.075</td> <td> 0.038</td> <td>    0.288</td> <td>   10.104</td>\n",
       "</tr>\n",
       "<tr>\n",
       "  <th>dist_to_shopping</th>           <td>   10.1211</td> <td>    6.190</td> <td>    1.635</td> <td> 0.102</td> <td>   -2.011</td> <td>   22.253</td>\n",
       "</tr>\n",
       "<tr>\n",
       "  <th>dist_to_eventservices</th>      <td>   -3.2775</td> <td>    4.581</td> <td>   -0.715</td> <td> 0.474</td> <td>  -12.257</td> <td>    5.702</td>\n",
       "</tr>\n",
       "<tr>\n",
       "  <th>dist_to_nightlife</th>          <td>   19.8908</td> <td>    4.884</td> <td>    4.072</td> <td> 0.000</td> <td>   10.318</td> <td>   29.464</td>\n",
       "</tr>\n",
       "<tr>\n",
       "  <th>dist_to_health</th>             <td>    9.7632</td> <td>    5.834</td> <td>    1.674</td> <td> 0.094</td> <td>   -1.670</td> <td>   21.197</td>\n",
       "</tr>\n",
       "<tr>\n",
       "  <th>dist_to_localservices</th>      <td>   -5.9977</td> <td>    8.180</td> <td>   -0.733</td> <td> 0.463</td> <td>  -22.031</td> <td>   10.035</td>\n",
       "</tr>\n",
       "<tr>\n",
       "  <th>dist_to_financialservices</th>  <td>   -1.8380</td> <td>    3.514</td> <td>   -0.523</td> <td> 0.601</td> <td>   -8.725</td> <td>    5.049</td>\n",
       "</tr>\n",
       "<tr>\n",
       "  <th>dist_to_homeservices</th>       <td>  -24.1473</td> <td>    8.703</td> <td>   -2.775</td> <td> 0.006</td> <td>  -41.204</td> <td>   -7.091</td>\n",
       "</tr>\n",
       "<tr>\n",
       "  <th>dist_to_realestate</th>         <td>    5.1054</td> <td>    4.810</td> <td>    1.061</td> <td> 0.289</td> <td>   -4.322</td> <td>   14.533</td>\n",
       "</tr>\n",
       "<tr>\n",
       "  <th>dist_to_active</th>             <td>    4.0686</td> <td>    1.641</td> <td>    2.480</td> <td> 0.013</td> <td>    0.853</td> <td>    7.285</td>\n",
       "</tr>\n",
       "<tr>\n",
       "  <th>dist_to_religiousorgs</th>      <td>   -1.7337</td> <td>    1.965</td> <td>   -0.882</td> <td> 0.378</td> <td>   -5.586</td> <td>    2.118</td>\n",
       "</tr>\n",
       "<tr>\n",
       "  <th>dist_to_localflavor</th>        <td>    1.4509</td> <td>    1.537</td> <td>    0.944</td> <td> 0.345</td> <td>   -1.562</td> <td>    4.464</td>\n",
       "</tr>\n",
       "<tr>\n",
       "  <th>dist_to_publicservicesgovt</th> <td>    0.3737</td> <td>    2.273</td> <td>    0.164</td> <td> 0.869</td> <td>   -4.082</td> <td>    4.829</td>\n",
       "</tr>\n",
       "<tr>\n",
       "  <th>dist_to_education</th>          <td>   -4.8782</td> <td>    3.136</td> <td>   -1.555</td> <td> 0.120</td> <td>  -11.025</td> <td>    1.269</td>\n",
       "</tr>\n",
       "<tr>\n",
       "  <th>dist_to_massmedia</th>          <td>   -3.3305</td> <td>    1.354</td> <td>   -2.459</td> <td> 0.014</td> <td>   -5.985</td> <td>   -0.676</td>\n",
       "</tr>\n",
       "<tr>\n",
       "  <th>dist_to_strip</th>              <td>    0.0208</td> <td>    0.714</td> <td>    0.029</td> <td> 0.977</td> <td>   -1.378</td> <td>    1.420</td>\n",
       "</tr>\n",
       "</table>"
      ],
      "text/plain": [
       "<class 'statsmodels.iolib.summary.Summary'>\n",
       "\"\"\"\n",
       "                           Logit Regression Results                           \n",
       "==============================================================================\n",
       "Dep. Variable:                  stars   No. Observations:                 5663\n",
       "Model:                          Logit   Df Residuals:                     5623\n",
       "Method:                           MLE   Df Model:                           39\n",
       "Date:                Fri, 30 Nov 2018   Pseudo R-squ.:                 0.06249\n",
       "Time:                        20:53:13   Log-Likelihood:                -3610.7\n",
       "converged:                       True   LL-Null:                       -3851.4\n",
       "                                        LLR p-value:                 1.340e-77\n",
       "==============================================================================================\n",
       "                                 coef    std err          z      P>|z|      [0.025      0.975]\n",
       "----------------------------------------------------------------------------------------------\n",
       "const                         -0.8003      0.398     -2.010      0.044      -1.581      -0.020\n",
       "review_count                   9.6945      1.077      9.000      0.000       7.583      11.806\n",
       "accepts_credit_cards          -1.0296      0.225     -4.584      0.000      -1.470      -0.589\n",
       "good_for_kids                 -0.2069      0.099     -2.087      0.037      -0.401      -0.013\n",
       "outdoor_seating                0.1618      0.074      2.185      0.029       0.017       0.307\n",
       "restaurants_delivery           0.4394      0.079      5.559      0.000       0.284       0.594\n",
       "restaurants_price_range       -0.0630      0.165     -0.383      0.702      -0.386       0.260\n",
       "restaurants_reservations       0.4775      0.082      5.817      0.000       0.317       0.638\n",
       "restaurants_takeout           -0.0545      0.102     -0.533      0.594      -0.255       0.146\n",
       "business_parking               0.1783      0.068      2.629      0.009       0.045       0.311\n",
       "business_count                 1.1758      0.481      2.443      0.015       0.232       2.119\n",
       "gini_index                     1.7562      0.349      5.029      0.000       1.072       2.441\n",
       "hotelstravel_count            -0.9779      0.466     -2.098      0.036      -1.892      -0.064\n",
       "auto_count                     0.3526      0.407      0.866      0.386      -0.445       1.150\n",
       "arts_count                    -0.9924      0.994     -0.998      0.318      -2.941       0.956\n",
       "active_count                   2.1550      0.734      2.937      0.003       0.717       3.593\n",
       "education_count               -3.9442      1.236     -3.190      0.001      -6.368      -1.521\n",
       "shopping_count                -0.7551      0.701     -1.077      0.281      -2.129       0.619\n",
       "restaurants_count              2.2707      1.359      1.671      0.095      -0.392       4.933\n",
       "dist_to_auto                 -12.3084      4.844     -2.541      0.011     -21.802      -2.815\n",
       "dist_to_arts                  -1.3156      3.543     -0.371      0.710      -8.259       5.628\n",
       "dist_to_beautysvc              1.9765      7.602      0.260      0.795     -12.923      16.876\n",
       "dist_to_pets                 -14.5684      3.121     -4.668      0.000     -20.685      -8.451\n",
       "dist_to_professional           0.8550      5.454      0.157      0.875      -9.834      11.544\n",
       "dist_to_hotelstravel           5.1959      2.504      2.075      0.038       0.288      10.104\n",
       "dist_to_shopping              10.1211      6.190      1.635      0.102      -2.011      22.253\n",
       "dist_to_eventservices         -3.2775      4.581     -0.715      0.474     -12.257       5.702\n",
       "dist_to_nightlife             19.8908      4.884      4.072      0.000      10.318      29.464\n",
       "dist_to_health                 9.7632      5.834      1.674      0.094      -1.670      21.197\n",
       "dist_to_localservices         -5.9977      8.180     -0.733      0.463     -22.031      10.035\n",
       "dist_to_financialservices     -1.8380      3.514     -0.523      0.601      -8.725       5.049\n",
       "dist_to_homeservices         -24.1473      8.703     -2.775      0.006     -41.204      -7.091\n",
       "dist_to_realestate             5.1054      4.810      1.061      0.289      -4.322      14.533\n",
       "dist_to_active                 4.0686      1.641      2.480      0.013       0.853       7.285\n",
       "dist_to_religiousorgs         -1.7337      1.965     -0.882      0.378      -5.586       2.118\n",
       "dist_to_localflavor            1.4509      1.537      0.944      0.345      -1.562       4.464\n",
       "dist_to_publicservicesgovt     0.3737      2.273      0.164      0.869      -4.082       4.829\n",
       "dist_to_education             -4.8782      3.136     -1.555      0.120     -11.025       1.269\n",
       "dist_to_massmedia             -3.3305      1.354     -2.459      0.014      -5.985      -0.676\n",
       "dist_to_strip                  0.0208      0.714      0.029      0.977      -1.378       1.420\n",
       "==============================================================================================\n",
       "\"\"\""
      ]
     },
     "execution_count": 150,
     "metadata": {},
     "output_type": "execute_result"
    }
   ],
   "source": [
    "mdl_fit.summary()"
   ]
  },
  {
   "cell_type": "markdown",
   "metadata": {},
   "source": [
    "#### Logistic Binary with L1"
   ]
  },
  {
   "cell_type": "code",
   "execution_count": 147,
   "metadata": {
    "scrolled": true
   },
   "outputs": [],
   "source": [
    "X_train =X_train.drop('const',axis=1)"
   ]
  },
  {
   "cell_type": "code",
   "execution_count": 286,
   "metadata": {},
   "outputs": [
    {
     "data": {
      "text/plain": [
       "0.6344086021505376"
      ]
     },
     "execution_count": 286,
     "metadata": {},
     "output_type": "execute_result"
    }
   ],
   "source": [
    "\n",
    "clf = LogisticRegression(penalty='l1',C=1151)\n",
    "clf.fit(X_train, y_train)\n",
    "y_pred = clf.predict(X_test)\n",
    "metrics.accuracy_score(y_test,y_pred)"
   ]
  },
  {
   "cell_type": "markdown",
   "metadata": {},
   "source": [
    "#### Random Forest Classifier"
   ]
  },
  {
   "cell_type": "code",
   "execution_count": 154,
   "metadata": {},
   "outputs": [
    {
     "data": {
      "text/plain": [
       "0.668100358422939"
      ]
     },
     "execution_count": 154,
     "metadata": {},
     "output_type": "execute_result"
    }
   ],
   "source": [
    "# 100 trees\n",
    "clf = RandomForestClassifier(100)\n",
    "clf.fit(X_train, y_train)\n",
    "y_pred = clf.predict(X_test)\n",
    "metrics.accuracy_score(y_test,y_pred)"
   ]
  },
  {
   "cell_type": "code",
   "execution_count": 155,
   "metadata": {},
   "outputs": [
    {
     "data": {
      "text/plain": [
       "0.6702508960573477"
      ]
     },
     "execution_count": 155,
     "metadata": {},
     "output_type": "execute_result"
    }
   ],
   "source": [
    "# 1000 trees\n",
    "clf = RandomForestClassifier(1000)\n",
    "clf.fit(X_train, y_train)\n",
    "y_pred = clf.predict(X_test)\n",
    "metrics.accuracy_score(y_test,y_pred)"
   ]
  },
  {
   "cell_type": "code",
   "execution_count": 98,
   "metadata": {},
   "outputs": [
    {
     "data": {
      "text/plain": [
       "0.7063887630267331"
      ]
     },
     "execution_count": 98,
     "metadata": {},
     "output_type": "execute_result"
    }
   ],
   "source": [
    "metrics.precision_score(y_test,y_pred)"
   ]
  },
  {
   "cell_type": "code",
   "execution_count": 99,
   "metadata": {},
   "outputs": [
    {
     "data": {
      "text/plain": [
       "0.8802936194240542"
      ]
     },
     "execution_count": 99,
     "metadata": {},
     "output_type": "execute_result"
    }
   ],
   "source": [
    "metrics.recall_score(y_test,y_pred)"
   ]
  },
  {
   "cell_type": "markdown",
   "metadata": {},
   "source": [
    "The accuracy is 69.4% with Random Forest Classfier"
   ]
  },
  {
   "cell_type": "markdown",
   "metadata": {},
   "source": [
    "The accuracy improves by ~7% by adding the neighborhood features for Random Forest Classifier"
   ]
  },
  {
   "cell_type": "markdown",
   "metadata": {},
   "source": [
    "Need to perform t test to difference between the accuracies is significant"
   ]
  },
  {
   "cell_type": "code",
   "execution_count": 156,
   "metadata": {},
   "outputs": [
    {
     "name": "stderr",
     "output_type": "stream",
     "text": [
      "/Users/sahilaggarwal/anaconda2/envs/py36/lib/python3.6/site-packages/sklearn/utils/deprecation.py:122: FutureWarning: You are accessing a training score ('train_score'), which will not be available by default any more in 0.21. If you need training scores, please set return_train_score=True\n",
      "  warnings.warn(*warn_args, **warn_kwargs)\n"
     ]
    },
    {
     "data": {
      "text/plain": [
       "{'fit_time': array([17.60356498, 17.4792161 , 17.92053819]),\n",
       " 'score_time': array([0.49582481, 0.50908899, 0.50946212]),\n",
       " 'test_score': array([0.65271373, 0.6656017 , 0.6656017 ]),\n",
       " 'train_score': array([0.99964501, 0.99929028, 0.99964514])}"
      ]
     },
     "execution_count": 156,
     "metadata": {},
     "output_type": "execute_result"
    }
   ],
   "source": [
    "from sklearn.model_selection import cross_validate\n",
    "cv = cross_validate(clf,X,y)\n",
    "cv"
   ]
  },
  {
   "cell_type": "markdown",
   "metadata": {},
   "source": [
    "### Only for \"The Strip\""
   ]
  },
  {
   "cell_type": "code",
   "execution_count": null,
   "metadata": {},
   "outputs": [],
   "source": [
    "neighborhood = pd.read_sql(\"SELECT * from vegas_restaurants_neigh_dist where neighborhood='The Strip'\",conn)\n",
    "\n",
    "neighborhood.columns"
   ]
  },
  {
   "cell_type": "code",
   "execution_count": null,
   "metadata": {},
   "outputs": [],
   "source": [
    "df = neighborhood.drop(['business_id','stars_cont','num_check_ins','dist_to_restaurants','neighborhood','stars_cont',\n",
    "       'hotelstravel_count', 'auto_count', 'arts_count', 'active_count',\n",
    "       'education_count', 'shopping_count', 'restaurants_count','gini_index','business_count'],axis=1)\n",
    "y=df['stars']\n",
    "X = df.drop('stars',axis=1)"
   ]
  },
  {
   "cell_type": "code",
   "execution_count": null,
   "metadata": {},
   "outputs": [],
   "source": [
    "y.value_counts(dropna=False)"
   ]
  },
  {
   "cell_type": "code",
   "execution_count": null,
   "metadata": {},
   "outputs": [],
   "source": [
    "# changing to binary\n",
    "mapping = {1:0,1.5:0,2:0,2.5:0,3:0,3.5:1,4:1,4.5:1,5:1}\n",
    "y=y.apply(lambda x :mapping[x])"
   ]
  },
  {
   "cell_type": "code",
   "execution_count": null,
   "metadata": {},
   "outputs": [],
   "source": [
    "y.value_counts()"
   ]
  },
  {
   "cell_type": "code",
   "execution_count": null,
   "metadata": {},
   "outputs": [],
   "source": [
    "X_bete = X.apply(minmaxscale)\n",
    "\n",
    "X_train, X_test, y_train, y_test = train_test_split(X_bete, y, test_size=0.20, random_state=42)"
   ]
  },
  {
   "cell_type": "code",
   "execution_count": null,
   "metadata": {},
   "outputs": [],
   "source": [
    "X_train.info()"
   ]
  },
  {
   "cell_type": "code",
   "execution_count": null,
   "metadata": {},
   "outputs": [],
   "source": [
    "clf = LogisticRegression()\n",
    "clf.fit(X_train, y_train)\n",
    "y_pred = clf.predict(X_test)\n",
    "y_pred"
   ]
  },
  {
   "cell_type": "code",
   "execution_count": null,
   "metadata": {},
   "outputs": [],
   "source": [
    "metrics.accuracy_score(y_test,y_pred)"
   ]
  },
  {
   "cell_type": "code",
   "execution_count": null,
   "metadata": {},
   "outputs": [],
   "source": [
    "clf = LogisticRegression(class_weight=\"balanced\")\n",
    "clf.fit(X_train, y_train)\n",
    "y_pred = clf.predict(X_test)\n",
    "metrics.accuracy_score(y_test,y_pred)"
   ]
  },
  {
   "cell_type": "code",
   "execution_count": null,
   "metadata": {},
   "outputs": [],
   "source": [
    "# 1000 trees\n",
    "clf = RandomForestClassifier(1000)\n",
    "clf.fit(X_train, y_train)\n",
    "y_pred = clf.predict(X_test)\n",
    "metrics.accuracy_score(y_test,y_pred)"
   ]
  },
  {
   "cell_type": "markdown",
   "metadata": {},
   "source": [
    "#### DOWNTOWN"
   ]
  },
  {
   "cell_type": "code",
   "execution_count": null,
   "metadata": {},
   "outputs": [],
   "source": [
    "neighborhood = pd.read_sql(\"SELECT * from vegas_restaurants_neigh_dist where neighborhood='Downtown'\",conn)\n",
    "\n",
    "neighborhood.columns\n",
    "\n",
    "df = neighborhood.drop(['business_id','stars_cont','num_check_ins','dist_to_restaurants','neighborhood','stars_cont',\n",
    "       'hotelstravel_count', 'auto_count', 'arts_count', 'active_count',\n",
    "       'education_count', 'shopping_count', 'restaurants_count','gini_index','business_count'],axis=1)\n",
    "y=df['stars']\n",
    "X = df.drop('stars',axis=1)\n",
    "\n",
    "y.value_counts(dropna=False)\n",
    "\n",
    "# changing to binary\n",
    "mapping = {1:0,1.5:0,2:0,2.5:0,3:0,3.5:1,4:1,4.5:1,5:1}\n",
    "y=y.apply(lambda x :mapping[x])\n",
    "\n",
    "y.value_counts()\n",
    "\n",
    "X_bete = X.apply(minmaxscale)\n",
    "\n",
    "X_train, X_test, y_train, y_test = train_test_split(X_bete, y, test_size=0.20, random_state=42)\n",
    "\n",
    "X_train.info()\n",
    "\n",
    "clf = LogisticRegression()\n",
    "clf.fit(X_train, y_train)\n",
    "y_pred = clf.predict(X_test)\n",
    "y_pred\n",
    "\n",
    "metrics.accuracy_score(y_test,y_pred)\n",
    "\n",
    "clf = LogisticRegression(C=50)\n",
    "clf.fit(X_train, y_train)\n",
    "y_pred = clf.predict(X_test)\n",
    "print(\"LR\",metrics.accuracy_score(y_test,y_pred))\n",
    "\n",
    "# 1000 trees\n",
    "clf = RandomForestClassifier(1000)\n",
    "clf.fit(X_train, y_train)\n",
    "y_pred = clf.predict(X_test)\n",
    "print(\"RF\",metrics.accuracy_score(y_test,y_pred))"
   ]
  },
  {
   "cell_type": "markdown",
   "metadata": {},
   "source": [
    "#### WestSide"
   ]
  },
  {
   "cell_type": "code",
   "execution_count": null,
   "metadata": {},
   "outputs": [],
   "source": [
    "neighborhood = pd.read_sql(\"SELECT * from vegas_restaurants_neigh_dist where neighborhood='Downtown'\",conn)\n",
    "\n",
    "neighborhood.columns\n",
    "\n",
    "df = neighborhood.drop(['business_id','stars_cont','num_check_ins','dist_to_restaurants','neighborhood','stars_cont',\n",
    "       'hotelstravel_count', 'auto_count', 'arts_count', 'active_count',\n",
    "       'education_count', 'shopping_count', 'restaurants_count','gini_index','business_count'],axis=1)\n",
    "y=df['stars']\n",
    "X = df.drop('stars',axis=1)\n",
    "\n",
    "y.value_counts(dropna=False)\n",
    "\n",
    "# changing to binary\n",
    "mapping = {1:0,1.5:0,2:0,2.5:0,3:0,3.5:1,4:1,4.5:1,5:1}\n",
    "y=y.apply(lambda x :mapping[x])\n",
    "\n",
    "y.value_counts()\n",
    "\n",
    "X_bete = X.apply(minmaxscale)\n",
    "\n",
    "X_train, X_test, y_train, y_test = train_test_split(X_bete, y, test_size=0.20, random_state=42)\n",
    "\n",
    "X_train.info()\n",
    "\n",
    "clf = LogisticRegression()\n",
    "clf.fit(X_train, y_train)\n",
    "y_pred = clf.predict(X_test)\n",
    "y_pred\n",
    "\n",
    "metrics.accuracy_score(y_test,y_pred)\n",
    "\n",
    "clf = LogisticRegression(C=50)\n",
    "clf.fit(X_train, y_train)\n",
    "y_pred = clf.predict(X_test)\n",
    "print(\"LR\",metrics.accuracy_score(y_test,y_pred))\n",
    "\n",
    "# 1000 trees\n",
    "clf = RandomForestClassifier(1000)\n",
    "clf.fit(X_train, y_train)\n",
    "y_pred = clf.predict(X_test)\n",
    "print(\"RF\",metrics.accuracy_score(y_test,y_pred))"
   ]
  },
  {
   "cell_type": "code",
   "execution_count": 283,
   "metadata": {},
   "outputs": [],
   "source": [
    "conn.close()"
   ]
  },
  {
   "cell_type": "markdown",
   "metadata": {},
   "source": [
    "### Forward Selection"
   ]
  },
  {
   "cell_type": "code",
   "execution_count": 590,
   "metadata": {},
   "outputs": [],
   "source": [
    "def model(data):\n",
    "    X_train, X_test, y_train, y_test = train_test_split(data, y, test_size=0.20, random_state=42)\n",
    "    clf = RandomForestClassifier()\n",
    "    clf.fit(X_train,y_train)\n",
    "    yhat = clf.predict(X_test)\n",
    "    \n",
    "    return(metrics.accuracy_score(y_test,yhat))\n",
    "    "
   ]
  },
  {
   "cell_type": "code",
   "execution_count": 571,
   "metadata": {},
   "outputs": [],
   "source": [
    "neighborhood = pd.read_sql(\"SELECT * from business_neighborhood_view\",conn)\n"
   ]
  },
  {
   "cell_type": "code",
   "execution_count": 572,
   "metadata": {},
   "outputs": [
    {
     "data": {
      "text/plain": [
       "Index(['business_id', 'review_count', 'stars', 'accepts_credit_cards',\n",
       "       'good_for_kids', 'outdoor_seating', 'restaurants_delivery',\n",
       "       'restaurants_price_range', 'restaurants_reservations',\n",
       "       'restaurants_takeout', 'neighborhood', 'business_parking',\n",
       "       'business_count', 'gini_index', 'num_check_ins', 'stars_cont',\n",
       "       'hotelstravel_count', 'auto_count', 'arts_count', 'active_count',\n",
       "       'education_count', 'shopping_count', 'restaurants_count',\n",
       "       'dist_to_auto', 'dist_to_arts', 'dist_to_restaurants',\n",
       "       'dist_to_beautysvc', 'dist_to_pets', 'dist_to_professional',\n",
       "       'dist_to_hotelstravel', 'dist_to_shopping', 'dist_to_eventservices',\n",
       "       'dist_to_nightlife', 'dist_to_health', 'dist_to_localservices',\n",
       "       'dist_to_financialservices', 'dist_to_homeservices',\n",
       "       'dist_to_realestate', 'dist_to_active', 'dist_to_religiousorgs',\n",
       "       'dist_to_localflavor', 'dist_to_publicservicesgovt',\n",
       "       'dist_to_education', 'dist_to_massmedia', 'dist_to_strip',\n",
       "       'kmeans_label', 'kmeans_gini'],\n",
       "      dtype='object')"
      ]
     },
     "execution_count": 572,
     "metadata": {},
     "output_type": "execute_result"
    }
   ],
   "source": [
    "neighborhood.columns"
   ]
  },
  {
   "cell_type": "code",
   "execution_count": 573,
   "metadata": {},
   "outputs": [],
   "source": [
    "\n",
    "df = neighborhood.drop(['business_id','stars_cont','num_check_ins','dist_to_restaurants','neighborhood','gini_index','kmeans_label', 'kmeans_gini'],axis=1)\n",
    "y=df['stars']\n",
    "X = df.drop('stars',axis=1)\n",
    "\n",
    "# changing to binary\n",
    "mapping = {1:0,1.5:0,2:0,2.5:0,3:0,3.5:0,4:1,4.5:1,5:1}\n",
    "y=y.apply(lambda x :mapping[x])\n",
    "\n",
    "X_bete = X.apply(minmaxscale)"
   ]
  },
  {
   "cell_type": "code",
   "execution_count": 574,
   "metadata": {},
   "outputs": [
    {
     "name": "stdout",
     "output_type": "stream",
     "text": [
      "{'review_count': (0.6292134831460674, GradientBoostingClassifier(criterion='friedman_mse', init=None,\n",
      "              learning_rate=0.1, loss='deviance', max_depth=3,\n",
      "              max_features=None, max_leaf_nodes=None,\n",
      "              min_impurity_decrease=0.0, min_impurity_split=None,\n",
      "              min_samples_leaf=1, min_samples_split=2,\n",
      "              min_weight_fraction_leaf=0.0, n_estimators=100,\n",
      "              presort='auto', random_state=None, subsample=1.0, verbose=0,\n",
      "              warm_start=False)), 'accepts_credit_cards': (0.589591957421644, GradientBoostingClassifier(criterion='friedman_mse', init=None,\n",
      "              learning_rate=0.1, loss='deviance', max_depth=3,\n",
      "              max_features=None, max_leaf_nodes=None,\n",
      "              min_impurity_decrease=0.0, min_impurity_split=None,\n",
      "              min_samples_leaf=1, min_samples_split=2,\n",
      "              min_weight_fraction_leaf=0.0, n_estimators=100,\n",
      "              presort='auto', random_state=None, subsample=1.0, verbose=0,\n",
      "              warm_start=False)), 'good_for_kids': (0.5866351271437019, GradientBoostingClassifier(criterion='friedman_mse', init=None,\n",
      "              learning_rate=0.1, loss='deviance', max_depth=3,\n",
      "              max_features=None, max_leaf_nodes=None,\n",
      "              min_impurity_decrease=0.0, min_impurity_split=None,\n",
      "              min_samples_leaf=1, min_samples_split=2,\n",
      "              min_weight_fraction_leaf=0.0, n_estimators=100,\n",
      "              presort='auto', random_state=None, subsample=1.0, verbose=0,\n",
      "              warm_start=False)), 'outdoor_seating': (0.5866351271437019, GradientBoostingClassifier(criterion='friedman_mse', init=None,\n",
      "              learning_rate=0.1, loss='deviance', max_depth=3,\n",
      "              max_features=None, max_leaf_nodes=None,\n",
      "              min_impurity_decrease=0.0, min_impurity_split=None,\n",
      "              min_samples_leaf=1, min_samples_split=2,\n",
      "              min_weight_fraction_leaf=0.0, n_estimators=100,\n",
      "              presort='auto', random_state=None, subsample=1.0, verbose=0,\n",
      "              warm_start=False)), 'restaurants_delivery': (0.5842696629213483, GradientBoostingClassifier(criterion='friedman_mse', init=None,\n",
      "              learning_rate=0.1, loss='deviance', max_depth=3,\n",
      "              max_features=None, max_leaf_nodes=None,\n",
      "              min_impurity_decrease=0.0, min_impurity_split=None,\n",
      "              min_samples_leaf=1, min_samples_split=2,\n",
      "              min_weight_fraction_leaf=0.0, n_estimators=100,\n",
      "              presort='auto', random_state=None, subsample=1.0, verbose=0,\n",
      "              warm_start=False)), 'restaurants_price_range': (0.5984624482554701, GradientBoostingClassifier(criterion='friedman_mse', init=None,\n",
      "              learning_rate=0.1, loss='deviance', max_depth=3,\n",
      "              max_features=None, max_leaf_nodes=None,\n",
      "              min_impurity_decrease=0.0, min_impurity_split=None,\n",
      "              min_samples_leaf=1, min_samples_split=2,\n",
      "              min_weight_fraction_leaf=0.0, n_estimators=100,\n",
      "              presort='auto', random_state=None, subsample=1.0, verbose=0,\n",
      "              warm_start=False)), 'restaurants_reservations': (0.5872264931992903, GradientBoostingClassifier(criterion='friedman_mse', init=None,\n",
      "              learning_rate=0.1, loss='deviance', max_depth=3,\n",
      "              max_features=None, max_leaf_nodes=None,\n",
      "              min_impurity_decrease=0.0, min_impurity_split=None,\n",
      "              min_samples_leaf=1, min_samples_split=2,\n",
      "              min_weight_fraction_leaf=0.0, n_estimators=100,\n",
      "              presort='auto', random_state=None, subsample=1.0, verbose=0,\n",
      "              warm_start=False)), 'restaurants_takeout': (0.5866351271437019, GradientBoostingClassifier(criterion='friedman_mse', init=None,\n",
      "              learning_rate=0.1, loss='deviance', max_depth=3,\n",
      "              max_features=None, max_leaf_nodes=None,\n",
      "              min_impurity_decrease=0.0, min_impurity_split=None,\n",
      "              min_samples_leaf=1, min_samples_split=2,\n",
      "              min_weight_fraction_leaf=0.0, n_estimators=100,\n",
      "              presort='auto', random_state=None, subsample=1.0, verbose=0,\n",
      "              warm_start=False)), 'business_parking': (0.5866351271437019, GradientBoostingClassifier(criterion='friedman_mse', init=None,\n",
      "              learning_rate=0.1, loss='deviance', max_depth=3,\n",
      "              max_features=None, max_leaf_nodes=None,\n",
      "              min_impurity_decrease=0.0, min_impurity_split=None,\n",
      "              min_samples_leaf=1, min_samples_split=2,\n",
      "              min_weight_fraction_leaf=0.0, n_estimators=100,\n",
      "              presort='auto', random_state=None, subsample=1.0, verbose=0,\n",
      "              warm_start=False)), 'business_count': (0.6002365464222353, GradientBoostingClassifier(criterion='friedman_mse', init=None,\n",
      "              learning_rate=0.1, loss='deviance', max_depth=3,\n",
      "              max_features=None, max_leaf_nodes=None,\n",
      "              min_impurity_decrease=0.0, min_impurity_split=None,\n",
      "              min_samples_leaf=1, min_samples_split=2,\n",
      "              min_weight_fraction_leaf=0.0, n_estimators=100,\n",
      "              presort='auto', random_state=None, subsample=1.0, verbose=0,\n",
      "              warm_start=False)), 'hotelstravel_count': (0.6002365464222353, GradientBoostingClassifier(criterion='friedman_mse', init=None,\n",
      "              learning_rate=0.1, loss='deviance', max_depth=3,\n",
      "              max_features=None, max_leaf_nodes=None,\n",
      "              min_impurity_decrease=0.0, min_impurity_split=None,\n",
      "              min_samples_leaf=1, min_samples_split=2,\n",
      "              min_weight_fraction_leaf=0.0, n_estimators=100,\n",
      "              presort='auto', random_state=None, subsample=1.0, verbose=0,\n",
      "              warm_start=False)), 'auto_count': (0.6002365464222353, GradientBoostingClassifier(criterion='friedman_mse', init=None,\n",
      "              learning_rate=0.1, loss='deviance', max_depth=3,\n",
      "              max_features=None, max_leaf_nodes=None,\n",
      "              min_impurity_decrease=0.0, min_impurity_split=None,\n",
      "              min_samples_leaf=1, min_samples_split=2,\n",
      "              min_weight_fraction_leaf=0.0, n_estimators=100,\n",
      "              presort='auto', random_state=None, subsample=1.0, verbose=0,\n",
      "              warm_start=False)), 'arts_count': (0.6002365464222353, GradientBoostingClassifier(criterion='friedman_mse', init=None,\n",
      "              learning_rate=0.1, loss='deviance', max_depth=3,\n",
      "              max_features=None, max_leaf_nodes=None,\n",
      "              min_impurity_decrease=0.0, min_impurity_split=None,\n",
      "              min_samples_leaf=1, min_samples_split=2,\n",
      "              min_weight_fraction_leaf=0.0, n_estimators=100,\n",
      "              presort='auto', random_state=None, subsample=1.0, verbose=0,\n",
      "              warm_start=False)), 'active_count': (0.5990538143110585, GradientBoostingClassifier(criterion='friedman_mse', init=None,\n",
      "              learning_rate=0.1, loss='deviance', max_depth=3,\n",
      "              max_features=None, max_leaf_nodes=None,\n",
      "              min_impurity_decrease=0.0, min_impurity_split=None,\n",
      "              min_samples_leaf=1, min_samples_split=2,\n",
      "              min_weight_fraction_leaf=0.0, n_estimators=100,\n",
      "              presort='auto', random_state=None, subsample=1.0, verbose=0,\n",
      "              warm_start=False)), 'education_count': (0.6002365464222353, GradientBoostingClassifier(criterion='friedman_mse', init=None,\n",
      "              learning_rate=0.1, loss='deviance', max_depth=3,\n",
      "              max_features=None, max_leaf_nodes=None,\n",
      "              min_impurity_decrease=0.0, min_impurity_split=None,\n",
      "              min_samples_leaf=1, min_samples_split=2,\n",
      "              min_weight_fraction_leaf=0.0, n_estimators=100,\n",
      "              presort='auto', random_state=None, subsample=1.0, verbose=0,\n",
      "              warm_start=False)), 'shopping_count': (0.6002365464222353, GradientBoostingClassifier(criterion='friedman_mse', init=None,\n",
      "              learning_rate=0.1, loss='deviance', max_depth=3,\n",
      "              max_features=None, max_leaf_nodes=None,\n",
      "              min_impurity_decrease=0.0, min_impurity_split=None,\n",
      "              min_samples_leaf=1, min_samples_split=2,\n",
      "              min_weight_fraction_leaf=0.0, n_estimators=100,\n",
      "              presort='auto', random_state=None, subsample=1.0, verbose=0,\n",
      "              warm_start=False)), 'restaurants_count': (0.6002365464222353, GradientBoostingClassifier(criterion='friedman_mse', init=None,\n",
      "              learning_rate=0.1, loss='deviance', max_depth=3,\n",
      "              max_features=None, max_leaf_nodes=None,\n",
      "              min_impurity_decrease=0.0, min_impurity_split=None,\n",
      "              min_samples_leaf=1, min_samples_split=2,\n",
      "              min_weight_fraction_leaf=0.0, n_estimators=100,\n",
      "              presort='auto', random_state=None, subsample=1.0, verbose=0,\n",
      "              warm_start=False)), 'dist_to_auto': (0.576581904198699, GradientBoostingClassifier(criterion='friedman_mse', init=None,\n",
      "              learning_rate=0.1, loss='deviance', max_depth=3,\n",
      "              max_features=None, max_leaf_nodes=None,\n",
      "              min_impurity_decrease=0.0, min_impurity_split=None,\n",
      "              min_samples_leaf=1, min_samples_split=2,\n",
      "              min_weight_fraction_leaf=0.0, n_estimators=100,\n",
      "              presort='auto', random_state=None, subsample=1.0, verbose=0,\n",
      "              warm_start=False)), 'dist_to_arts': (0.5830869308101715, GradientBoostingClassifier(criterion='friedman_mse', init=None,\n",
      "              learning_rate=0.1, loss='deviance', max_depth=3,\n",
      "              max_features=None, max_leaf_nodes=None,\n",
      "              min_impurity_decrease=0.0, min_impurity_split=None,\n",
      "              min_samples_leaf=1, min_samples_split=2,\n",
      "              min_weight_fraction_leaf=0.0, n_estimators=100,\n",
      "              presort='auto', random_state=None, subsample=1.0, verbose=0,\n",
      "              warm_start=False)), 'dist_to_beautysvc': (0.5943228858663513, GradientBoostingClassifier(criterion='friedman_mse', init=None,\n",
      "              learning_rate=0.1, loss='deviance', max_depth=3,\n",
      "              max_features=None, max_leaf_nodes=None,\n",
      "              min_impurity_decrease=0.0, min_impurity_split=None,\n",
      "              min_samples_leaf=1, min_samples_split=2,\n",
      "              min_weight_fraction_leaf=0.0, n_estimators=100,\n",
      "              presort='auto', random_state=None, subsample=1.0, verbose=0,\n",
      "              warm_start=False)), 'dist_to_pets': (0.6002365464222353, GradientBoostingClassifier(criterion='friedman_mse', init=None,\n",
      "              learning_rate=0.1, loss='deviance', max_depth=3,\n",
      "              max_features=None, max_leaf_nodes=None,\n",
      "              min_impurity_decrease=0.0, min_impurity_split=None,\n",
      "              min_samples_leaf=1, min_samples_split=2,\n",
      "              min_weight_fraction_leaf=0.0, n_estimators=100,\n",
      "              presort='auto', random_state=None, subsample=1.0, verbose=0,\n",
      "              warm_start=False)), 'dist_to_professional': (0.5966883500887049, GradientBoostingClassifier(criterion='friedman_mse', init=None,\n",
      "              learning_rate=0.1, loss='deviance', max_depth=3,\n",
      "              max_features=None, max_leaf_nodes=None,\n",
      "              min_impurity_decrease=0.0, min_impurity_split=None,\n",
      "              min_samples_leaf=1, min_samples_split=2,\n",
      "              min_weight_fraction_leaf=0.0, n_estimators=100,\n",
      "              presort='auto', random_state=None, subsample=1.0, verbose=0,\n",
      "              warm_start=False)), 'dist_to_hotelstravel': (0.5801301005322295, GradientBoostingClassifier(criterion='friedman_mse', init=None,\n",
      "              learning_rate=0.1, loss='deviance', max_depth=3,\n",
      "              max_features=None, max_leaf_nodes=None,\n",
      "              min_impurity_decrease=0.0, min_impurity_split=None,\n",
      "              min_samples_leaf=1, min_samples_split=2,\n",
      "              min_weight_fraction_leaf=0.0, n_estimators=100,\n",
      "              presort='auto', random_state=None, subsample=1.0, verbose=0,\n",
      "              warm_start=False)), 'dist_to_shopping': (0.5742164399763453, GradientBoostingClassifier(criterion='friedman_mse', init=None,\n",
      "              learning_rate=0.1, loss='deviance', max_depth=3,\n",
      "              max_features=None, max_leaf_nodes=None,\n",
      "              min_impurity_decrease=0.0, min_impurity_split=None,\n",
      "              min_samples_leaf=1, min_samples_split=2,\n",
      "              min_weight_fraction_leaf=0.0, n_estimators=100,\n",
      "              presort='auto', random_state=None, subsample=1.0, verbose=0,\n",
      "              warm_start=False)), 'dist_to_eventservices': (0.5730337078651685, GradientBoostingClassifier(criterion='friedman_mse', init=None,\n",
      "              learning_rate=0.1, loss='deviance', max_depth=3,\n",
      "              max_features=None, max_leaf_nodes=None,\n",
      "              min_impurity_decrease=0.0, min_impurity_split=None,\n",
      "              min_samples_leaf=1, min_samples_split=2,\n",
      "              min_weight_fraction_leaf=0.0, n_estimators=100,\n",
      "              presort='auto', random_state=None, subsample=1.0, verbose=0,\n",
      "              warm_start=False)), 'dist_to_nightlife': (0.5836782968657599, GradientBoostingClassifier(criterion='friedman_mse', init=None,\n",
      "              learning_rate=0.1, loss='deviance', max_depth=3,\n",
      "              max_features=None, max_leaf_nodes=None,\n",
      "              min_impurity_decrease=0.0, min_impurity_split=None,\n",
      "              min_samples_leaf=1, min_samples_split=2,\n",
      "              min_weight_fraction_leaf=0.0, n_estimators=100,\n",
      "              presort='auto', random_state=None, subsample=1.0, verbose=0,\n",
      "              warm_start=False)), 'dist_to_health': (0.5960969840331165, GradientBoostingClassifier(criterion='friedman_mse', init=None,\n",
      "              learning_rate=0.1, loss='deviance', max_depth=3,\n",
      "              max_features=None, max_leaf_nodes=None,\n",
      "              min_impurity_decrease=0.0, min_impurity_split=None,\n",
      "              min_samples_leaf=1, min_samples_split=2,\n",
      "              min_weight_fraction_leaf=0.0, n_estimators=100,\n",
      "              presort='auto', random_state=None, subsample=1.0, verbose=0,\n",
      "              warm_start=False)), 'dist_to_localservices': (0.6031933767001774, GradientBoostingClassifier(criterion='friedman_mse', init=None,\n",
      "              learning_rate=0.1, loss='deviance', max_depth=3,\n",
      "              max_features=None, max_leaf_nodes=None,\n",
      "              min_impurity_decrease=0.0, min_impurity_split=None,\n",
      "              min_samples_leaf=1, min_samples_split=2,\n",
      "              min_weight_fraction_leaf=0.0, n_estimators=100,\n",
      "              presort='auto', random_state=None, subsample=1.0, verbose=0,\n",
      "              warm_start=False)), 'dist_to_financialservices': (0.576581904198699, GradientBoostingClassifier(criterion='friedman_mse', init=None,\n",
      "              learning_rate=0.1, loss='deviance', max_depth=3,\n",
      "              max_features=None, max_leaf_nodes=None,\n",
      "              min_impurity_decrease=0.0, min_impurity_split=None,\n",
      "              min_samples_leaf=1, min_samples_split=2,\n",
      "              min_weight_fraction_leaf=0.0, n_estimators=100,\n",
      "              presort='auto', random_state=None, subsample=1.0, verbose=0,\n",
      "              warm_start=False)), 'dist_to_homeservices': (0.5913660555884093, GradientBoostingClassifier(criterion='friedman_mse', init=None,\n",
      "              learning_rate=0.1, loss='deviance', max_depth=3,\n",
      "              max_features=None, max_leaf_nodes=None,\n",
      "              min_impurity_decrease=0.0, min_impurity_split=None,\n",
      "              min_samples_leaf=1, min_samples_split=2,\n",
      "              min_weight_fraction_leaf=0.0, n_estimators=100,\n",
      "              presort='auto', random_state=None, subsample=1.0, verbose=0,\n",
      "              warm_start=False)), 'dist_to_realestate': (0.6002365464222353, GradientBoostingClassifier(criterion='friedman_mse', init=None,\n",
      "              learning_rate=0.1, loss='deviance', max_depth=3,\n",
      "              max_features=None, max_leaf_nodes=None,\n",
      "              min_impurity_decrease=0.0, min_impurity_split=None,\n",
      "              min_samples_leaf=1, min_samples_split=2,\n",
      "              min_weight_fraction_leaf=0.0, n_estimators=100,\n",
      "              presort='auto', random_state=None, subsample=1.0, verbose=0,\n",
      "              warm_start=False)), 'dist_to_active': (0.5736250739207569, GradientBoostingClassifier(criterion='friedman_mse', init=None,\n",
      "              learning_rate=0.1, loss='deviance', max_depth=3,\n",
      "              max_features=None, max_leaf_nodes=None,\n",
      "              min_impurity_decrease=0.0, min_impurity_split=None,\n",
      "              min_samples_leaf=1, min_samples_split=2,\n",
      "              min_weight_fraction_leaf=0.0, n_estimators=100,\n",
      "              presort='auto', random_state=None, subsample=1.0, verbose=0,\n",
      "              warm_start=False)), 'dist_to_religiousorgs': (0.5807214665878179, GradientBoostingClassifier(criterion='friedman_mse', init=None,\n",
      "              learning_rate=0.1, loss='deviance', max_depth=3,\n",
      "              max_features=None, max_leaf_nodes=None,\n",
      "              min_impurity_decrease=0.0, min_impurity_split=None,\n",
      "              min_samples_leaf=1, min_samples_split=2,\n",
      "              min_weight_fraction_leaf=0.0, n_estimators=100,\n",
      "              presort='auto', random_state=None, subsample=1.0, verbose=0,\n",
      "              warm_start=False)), 'dist_to_localflavor': (0.5801301005322295, GradientBoostingClassifier(criterion='friedman_mse', init=None,\n",
      "              learning_rate=0.1, loss='deviance', max_depth=3,\n",
      "              max_features=None, max_leaf_nodes=None,\n",
      "              min_impurity_decrease=0.0, min_impurity_split=None,\n",
      "              min_samples_leaf=1, min_samples_split=2,\n",
      "              min_weight_fraction_leaf=0.0, n_estimators=100,\n",
      "              presort='auto', random_state=None, subsample=1.0, verbose=0,\n",
      "              warm_start=False)), 'dist_to_publicservicesgovt': (0.5824955647545831, GradientBoostingClassifier(criterion='friedman_mse', init=None,\n",
      "              learning_rate=0.1, loss='deviance', max_depth=3,\n",
      "              max_features=None, max_leaf_nodes=None,\n",
      "              min_impurity_decrease=0.0, min_impurity_split=None,\n",
      "              min_samples_leaf=1, min_samples_split=2,\n",
      "              min_weight_fraction_leaf=0.0, n_estimators=100,\n",
      "              presort='auto', random_state=None, subsample=1.0, verbose=0,\n",
      "              warm_start=False)), 'dist_to_education': (0.5884092253104671, GradientBoostingClassifier(criterion='friedman_mse', init=None,\n",
      "              learning_rate=0.1, loss='deviance', max_depth=3,\n",
      "              max_features=None, max_leaf_nodes=None,\n",
      "              min_impurity_decrease=0.0, min_impurity_split=None,\n",
      "              min_samples_leaf=1, min_samples_split=2,\n",
      "              min_weight_fraction_leaf=0.0, n_estimators=100,\n",
      "              presort='auto', random_state=None, subsample=1.0, verbose=0,\n",
      "              warm_start=False)), 'dist_to_massmedia': (0.5771732702542874, GradientBoostingClassifier(criterion='friedman_mse', init=None,\n",
      "              learning_rate=0.1, loss='deviance', max_depth=3,\n",
      "              max_features=None, max_leaf_nodes=None,\n",
      "              min_impurity_decrease=0.0, min_impurity_split=None,\n",
      "              min_samples_leaf=1, min_samples_split=2,\n",
      "              min_weight_fraction_leaf=0.0, n_estimators=100,\n",
      "              presort='auto', random_state=None, subsample=1.0, verbose=0,\n",
      "              warm_start=False)), 'dist_to_strip': (0.5842696629213483, GradientBoostingClassifier(criterion='friedman_mse', init=None,\n",
      "              learning_rate=0.1, loss='deviance', max_depth=3,\n",
      "              max_features=None, max_leaf_nodes=None,\n",
      "              min_impurity_decrease=0.0, min_impurity_split=None,\n",
      "              min_samples_leaf=1, min_samples_split=2,\n",
      "              min_weight_fraction_leaf=0.0, n_estimators=100,\n",
      "              presort='auto', random_state=None, subsample=1.0, verbose=0,\n",
      "              warm_start=False))}\n"
     ]
    },
    {
     "data": {
      "text/plain": [
       "('review_count',\n",
       " (0.6292134831460674,\n",
       "  GradientBoostingClassifier(criterion='friedman_mse', init=None,\n",
       "                learning_rate=0.1, loss='deviance', max_depth=3,\n",
       "                max_features=None, max_leaf_nodes=None,\n",
       "                min_impurity_decrease=0.0, min_impurity_split=None,\n",
       "                min_samples_leaf=1, min_samples_split=2,\n",
       "                min_weight_fraction_leaf=0.0, n_estimators=100,\n",
       "                presort='auto', random_state=None, subsample=1.0, verbose=0,\n",
       "                warm_start=False)))"
      ]
     },
     "execution_count": 574,
     "metadata": {},
     "output_type": "execute_result"
    }
   ],
   "source": [
    "\n",
    "# Evaluating best 1-Feature model\n",
    "\n",
    "acc={} # Dictionary to hold mse value for each feature model\n",
    "for i in X_bete.columns:  # One feature at a time\n",
    "    acc[i]=model(X_bete[[i]])  # performing kfold CV with k=10\n",
    "print(acc)\n",
    "max(acc.items(), key=lambda x: x[1]) "
   ]
  },
  {
   "cell_type": "code",
   "execution_count": 575,
   "metadata": {},
   "outputs": [
    {
     "data": {
      "text/plain": [
       "38"
      ]
     },
     "execution_count": 575,
     "metadata": {},
     "output_type": "execute_result"
    }
   ],
   "source": [
    "len(X_bete.columns)"
   ]
  },
  {
   "cell_type": "code",
   "execution_count": 576,
   "metadata": {},
   "outputs": [],
   "source": [
    "features = ['review_count']"
   ]
  },
  {
   "cell_type": "code",
   "execution_count": 577,
   "metadata": {},
   "outputs": [],
   "source": [
    "cols = list(X_bete.columns.drop('review_count'))"
   ]
  },
  {
   "cell_type": "code",
   "execution_count": 580,
   "metadata": {},
   "outputs": [
    {
     "name": "stdout",
     "output_type": "stream",
     "text": [
      "['review_count']\n",
      "['review_count', 'restaurants_reservations']\n",
      "['review_count', 'restaurants_reservations', 'outdoor_seating']\n",
      "['review_count', 'restaurants_reservations', 'outdoor_seating', 'dist_to_pets']\n",
      "['review_count', 'restaurants_reservations', 'outdoor_seating', 'dist_to_pets', 'auto_count']\n",
      "['review_count', 'restaurants_reservations', 'outdoor_seating', 'dist_to_pets', 'auto_count', 'dist_to_localservices']\n",
      "['review_count', 'restaurants_reservations', 'outdoor_seating', 'dist_to_pets', 'auto_count', 'dist_to_localservices', 'dist_to_beautysvc']\n"
     ]
    },
    {
     "ename": "TypeError",
     "evalue": "'>' not supported between instances of 'RandomForestClassifier' and 'RandomForestClassifier'",
     "output_type": "error",
     "traceback": [
      "\u001b[0;31m---------------------------------------------------------------------------\u001b[0m",
      "\u001b[0;31mTypeError\u001b[0m                                 Traceback (most recent call last)",
      "\u001b[0;32m<ipython-input-580-c16a290d8009>\u001b[0m in \u001b[0;36m<module>\u001b[0;34m()\u001b[0m\n\u001b[1;32m      8\u001b[0m         \u001b[0;31m#print(acc[i])\u001b[0m\u001b[0;34m\u001b[0m\u001b[0;34m\u001b[0m\u001b[0m\n\u001b[1;32m      9\u001b[0m \u001b[0;34m\u001b[0m\u001b[0m\n\u001b[0;32m---> 10\u001b[0;31m     \u001b[0mresult\u001b[0m \u001b[0;34m=\u001b[0m \u001b[0mmax\u001b[0m\u001b[0;34m(\u001b[0m\u001b[0macc\u001b[0m\u001b[0;34m.\u001b[0m\u001b[0mitems\u001b[0m\u001b[0;34m(\u001b[0m\u001b[0;34m)\u001b[0m\u001b[0;34m,\u001b[0m \u001b[0mkey\u001b[0m\u001b[0;34m=\u001b[0m\u001b[0;32mlambda\u001b[0m \u001b[0mx\u001b[0m\u001b[0;34m:\u001b[0m \u001b[0mx\u001b[0m\u001b[0;34m[\u001b[0m\u001b[0;36m1\u001b[0m\u001b[0;34m]\u001b[0m\u001b[0;34m)\u001b[0m\u001b[0;34m[\u001b[0m\u001b[0;36m0\u001b[0m\u001b[0;34m]\u001b[0m\u001b[0;34m\u001b[0m\u001b[0m\n\u001b[0m\u001b[1;32m     11\u001b[0m \u001b[0;34m\u001b[0m\u001b[0m\n\u001b[1;32m     12\u001b[0m     \u001b[0mfeatures\u001b[0m\u001b[0;34m.\u001b[0m\u001b[0mappend\u001b[0m\u001b[0;34m(\u001b[0m\u001b[0mresult\u001b[0m\u001b[0;34m)\u001b[0m \u001b[0;31m# Append to the list\u001b[0m\u001b[0;34m\u001b[0m\u001b[0m\n",
      "\u001b[0;31mTypeError\u001b[0m: '>' not supported between instances of 'RandomForestClassifier' and 'RandomForestClassifier'"
     ]
    }
   ],
   "source": [
    "accuracy=[]\n",
    "while len(features)!=38:  # Run until all features are added\n",
    "    print(features) # Prints selected models at each iteration\n",
    "    acc={}\n",
    "    for i in cols:\n",
    "        #print(i)\n",
    "        acc[i]=model(X_bete[[*features,i]])\n",
    "        #print(acc[i])\n",
    "    \n",
    "    result = max(acc.items(), key=lambda x: x[1])[0]\n",
    "    \n",
    "    features.append(result) # Append to the list\n",
    "    accuracy.append(max(acc.items(), key=lambda x: x[1])[1])\n",
    "    cols.remove(result)"
   ]
  },
  {
   "cell_type": "code",
   "execution_count": null,
   "metadata": {},
   "outputs": [],
   "source": [
    "np.argmax(accuracy)"
   ]
  },
  {
   "cell_type": "code",
   "execution_count": null,
   "metadata": {},
   "outputs": [],
   "source": [
    "\n",
    "best_model = features[:(np.argmax(accuracy) + 1)] # Finding best model based on accuracy\n",
    "print(best_model)"
   ]
  },
  {
   "cell_type": "code",
   "execution_count": null,
   "metadata": {},
   "outputs": [],
   "source": [
    "# Plotting BIC vs Number of features\n",
    "\n",
    "plt.figure(figsize=(16,7))\n",
    "plt.plot(range(1,38),accuracy,marker='o')\n",
    "plt.grid(b=True)\n",
    "\n",
    "plt.axvline(x=np.argmax(accuracy)+1,c='r')\n",
    "plt.show()"
   ]
  },
  {
   "cell_type": "code",
   "execution_count": null,
   "metadata": {},
   "outputs": [],
   "source": [
    "best_model_data = X_bete[best_model]"
   ]
  },
  {
   "cell_type": "code",
   "execution_count": null,
   "metadata": {},
   "outputs": [],
   "source": [
    "model(best_model_data)"
   ]
  },
  {
   "cell_type": "markdown",
   "metadata": {},
   "source": [
    "#### Adding 3 features - distance from 5 star hptel_movie_hall, avg rating within 100 m"
   ]
  },
  {
   "cell_type": "code",
   "execution_count": 603,
   "metadata": {},
   "outputs": [],
   "source": [
    "neighborhood = pd.read_sql(\"SELECT * from business_neighborhood_view_2\",conn)\n"
   ]
  },
  {
   "cell_type": "code",
   "execution_count": 604,
   "metadata": {},
   "outputs": [
    {
     "data": {
      "text/plain": [
       "Index(['business_id', 'review_count', 'stars', 'accepts_credit_cards',\n",
       "       'good_for_kids', 'outdoor_seating', 'restaurants_delivery',\n",
       "       'restaurants_price_range', 'restaurants_reservations',\n",
       "       'restaurants_takeout', 'neighborhood', 'business_parking',\n",
       "       'business_count', 'gini_index', 'num_check_ins', 'stars_cont',\n",
       "       'hotelstravel_count', 'auto_count', 'arts_count', 'active_count',\n",
       "       'education_count', 'shopping_count', 'restaurants_count',\n",
       "       'dist_to_auto', 'dist_to_arts', 'dist_to_restaurants',\n",
       "       'dist_to_beautysvc', 'dist_to_pets', 'dist_to_professional',\n",
       "       'dist_to_hotelstravel', 'dist_to_shopping', 'dist_to_eventservices',\n",
       "       'dist_to_nightlife', 'dist_to_health', 'dist_to_localservices',\n",
       "       'dist_to_financialservices', 'dist_to_homeservices',\n",
       "       'dist_to_realestate', 'dist_to_active', 'dist_to_religiousorgs',\n",
       "       'dist_to_localflavor', 'dist_to_publicservicesgovt',\n",
       "       'dist_to_education', 'dist_to_massmedia', 'dist_to_strip',\n",
       "       'kmeans_label', 'kmeans_gini', 'dist_5_star_hotel',\n",
       "       'dist_5_star_movie_hall', 'avg_stars_100m'],\n",
       "      dtype='object')"
      ]
     },
     "execution_count": 604,
     "metadata": {},
     "output_type": "execute_result"
    }
   ],
   "source": [
    "neighborhood.columns"
   ]
  },
  {
   "cell_type": "code",
   "execution_count": 605,
   "metadata": {},
   "outputs": [],
   "source": [
    "\n",
    "df = neighborhood.drop(['business_id','stars_cont','num_check_ins','dist_to_restaurants','neighborhood','kmeans_label', 'kmeans_gini'],axis=1)\n",
    "y=df['stars']\n",
    "X = df.drop('stars',axis=1)\n",
    "\n",
    "# changing to binary\n",
    "mapping = {1:0,1.5:0,2:0,2.5:0,3:0,3.5:0,4:1,4.5:1,5:1}\n",
    "y=y.apply(lambda x :mapping[x])\n",
    "\n",
    "X_bete = X.apply(minmaxscale)"
   ]
  },
  {
   "cell_type": "code",
   "execution_count": 607,
   "metadata": {},
   "outputs": [
    {
     "data": {
      "text/plain": [
       "('avg_stars_100m', 0.6664695446481372)"
      ]
     },
     "execution_count": 607,
     "metadata": {},
     "output_type": "execute_result"
    }
   ],
   "source": [
    "\n",
    "# Evaluating best 1-Feature model\n",
    "\n",
    "acc={} # Dictionary to hold mse value for each feature model\n",
    "for i in X_bete.columns:  # One feature at a time\n",
    "    acc[i]=model(X_bete[[i]])  # performing kfold CV with k=10\n",
    "#print(acc)\n",
    "max(acc.items(), key=lambda x: x[1]) "
   ]
  },
  {
   "cell_type": "code",
   "execution_count": 608,
   "metadata": {},
   "outputs": [
    {
     "data": {
      "text/plain": [
       "42"
      ]
     },
     "execution_count": 608,
     "metadata": {},
     "output_type": "execute_result"
    }
   ],
   "source": [
    "len(X_bete.columns)"
   ]
  },
  {
   "cell_type": "code",
   "execution_count": 609,
   "metadata": {},
   "outputs": [],
   "source": [
    "features = ['avg_stars_100m']"
   ]
  },
  {
   "cell_type": "code",
   "execution_count": 610,
   "metadata": {},
   "outputs": [],
   "source": [
    "cols = list(X_bete.columns.drop('avg_stars_100m'))"
   ]
  },
  {
   "cell_type": "code",
   "execution_count": 611,
   "metadata": {},
   "outputs": [
    {
     "name": "stdout",
     "output_type": "stream",
     "text": [
      "['avg_stars_100m']\n",
      "['avg_stars_100m', 'outdoor_seating']\n",
      "['avg_stars_100m', 'outdoor_seating', 'review_count']\n",
      "['avg_stars_100m', 'outdoor_seating', 'review_count', 'dist_to_pets']\n",
      "['avg_stars_100m', 'outdoor_seating', 'review_count', 'dist_to_pets', 'dist_to_localflavor']\n",
      "['avg_stars_100m', 'outdoor_seating', 'review_count', 'dist_to_pets', 'dist_to_localflavor', 'dist_to_financialservices']\n",
      "['avg_stars_100m', 'outdoor_seating', 'review_count', 'dist_to_pets', 'dist_to_localflavor', 'dist_to_financialservices', 'restaurants_price_range']\n",
      "['avg_stars_100m', 'outdoor_seating', 'review_count', 'dist_to_pets', 'dist_to_localflavor', 'dist_to_financialservices', 'restaurants_price_range', 'dist_to_homeservices']\n",
      "['avg_stars_100m', 'outdoor_seating', 'review_count', 'dist_to_pets', 'dist_to_localflavor', 'dist_to_financialservices', 'restaurants_price_range', 'dist_to_homeservices', 'accepts_credit_cards']\n",
      "['avg_stars_100m', 'outdoor_seating', 'review_count', 'dist_to_pets', 'dist_to_localflavor', 'dist_to_financialservices', 'restaurants_price_range', 'dist_to_homeservices', 'accepts_credit_cards', 'dist_5_star_movie_hall']\n",
      "['avg_stars_100m', 'outdoor_seating', 'review_count', 'dist_to_pets', 'dist_to_localflavor', 'dist_to_financialservices', 'restaurants_price_range', 'dist_to_homeservices', 'accepts_credit_cards', 'dist_5_star_movie_hall', 'auto_count']\n",
      "['avg_stars_100m', 'outdoor_seating', 'review_count', 'dist_to_pets', 'dist_to_localflavor', 'dist_to_financialservices', 'restaurants_price_range', 'dist_to_homeservices', 'accepts_credit_cards', 'dist_5_star_movie_hall', 'auto_count', 'dist_to_hotelstravel']\n",
      "['avg_stars_100m', 'outdoor_seating', 'review_count', 'dist_to_pets', 'dist_to_localflavor', 'dist_to_financialservices', 'restaurants_price_range', 'dist_to_homeservices', 'accepts_credit_cards', 'dist_5_star_movie_hall', 'auto_count', 'dist_to_hotelstravel', 'dist_to_shopping']\n",
      "['avg_stars_100m', 'outdoor_seating', 'review_count', 'dist_to_pets', 'dist_to_localflavor', 'dist_to_financialservices', 'restaurants_price_range', 'dist_to_homeservices', 'accepts_credit_cards', 'dist_5_star_movie_hall', 'auto_count', 'dist_to_hotelstravel', 'dist_to_shopping', 'dist_to_religiousorgs']\n",
      "['avg_stars_100m', 'outdoor_seating', 'review_count', 'dist_to_pets', 'dist_to_localflavor', 'dist_to_financialservices', 'restaurants_price_range', 'dist_to_homeservices', 'accepts_credit_cards', 'dist_5_star_movie_hall', 'auto_count', 'dist_to_hotelstravel', 'dist_to_shopping', 'dist_to_religiousorgs', 'active_count']\n",
      "['avg_stars_100m', 'outdoor_seating', 'review_count', 'dist_to_pets', 'dist_to_localflavor', 'dist_to_financialservices', 'restaurants_price_range', 'dist_to_homeservices', 'accepts_credit_cards', 'dist_5_star_movie_hall', 'auto_count', 'dist_to_hotelstravel', 'dist_to_shopping', 'dist_to_religiousorgs', 'active_count', 'restaurants_reservations']\n",
      "['avg_stars_100m', 'outdoor_seating', 'review_count', 'dist_to_pets', 'dist_to_localflavor', 'dist_to_financialservices', 'restaurants_price_range', 'dist_to_homeservices', 'accepts_credit_cards', 'dist_5_star_movie_hall', 'auto_count', 'dist_to_hotelstravel', 'dist_to_shopping', 'dist_to_religiousorgs', 'active_count', 'restaurants_reservations', 'dist_5_star_hotel']\n",
      "['avg_stars_100m', 'outdoor_seating', 'review_count', 'dist_to_pets', 'dist_to_localflavor', 'dist_to_financialservices', 'restaurants_price_range', 'dist_to_homeservices', 'accepts_credit_cards', 'dist_5_star_movie_hall', 'auto_count', 'dist_to_hotelstravel', 'dist_to_shopping', 'dist_to_religiousorgs', 'active_count', 'restaurants_reservations', 'dist_5_star_hotel', 'dist_to_active']\n",
      "['avg_stars_100m', 'outdoor_seating', 'review_count', 'dist_to_pets', 'dist_to_localflavor', 'dist_to_financialservices', 'restaurants_price_range', 'dist_to_homeservices', 'accepts_credit_cards', 'dist_5_star_movie_hall', 'auto_count', 'dist_to_hotelstravel', 'dist_to_shopping', 'dist_to_religiousorgs', 'active_count', 'restaurants_reservations', 'dist_5_star_hotel', 'dist_to_active', 'dist_to_professional']\n",
      "['avg_stars_100m', 'outdoor_seating', 'review_count', 'dist_to_pets', 'dist_to_localflavor', 'dist_to_financialservices', 'restaurants_price_range', 'dist_to_homeservices', 'accepts_credit_cards', 'dist_5_star_movie_hall', 'auto_count', 'dist_to_hotelstravel', 'dist_to_shopping', 'dist_to_religiousorgs', 'active_count', 'restaurants_reservations', 'dist_5_star_hotel', 'dist_to_active', 'dist_to_professional', 'dist_to_nightlife']\n",
      "['avg_stars_100m', 'outdoor_seating', 'review_count', 'dist_to_pets', 'dist_to_localflavor', 'dist_to_financialservices', 'restaurants_price_range', 'dist_to_homeservices', 'accepts_credit_cards', 'dist_5_star_movie_hall', 'auto_count', 'dist_to_hotelstravel', 'dist_to_shopping', 'dist_to_religiousorgs', 'active_count', 'restaurants_reservations', 'dist_5_star_hotel', 'dist_to_active', 'dist_to_professional', 'dist_to_nightlife', 'dist_to_health']\n",
      "['avg_stars_100m', 'outdoor_seating', 'review_count', 'dist_to_pets', 'dist_to_localflavor', 'dist_to_financialservices', 'restaurants_price_range', 'dist_to_homeservices', 'accepts_credit_cards', 'dist_5_star_movie_hall', 'auto_count', 'dist_to_hotelstravel', 'dist_to_shopping', 'dist_to_religiousorgs', 'active_count', 'restaurants_reservations', 'dist_5_star_hotel', 'dist_to_active', 'dist_to_professional', 'dist_to_nightlife', 'dist_to_health', 'dist_to_strip']\n",
      "['avg_stars_100m', 'outdoor_seating', 'review_count', 'dist_to_pets', 'dist_to_localflavor', 'dist_to_financialservices', 'restaurants_price_range', 'dist_to_homeservices', 'accepts_credit_cards', 'dist_5_star_movie_hall', 'auto_count', 'dist_to_hotelstravel', 'dist_to_shopping', 'dist_to_religiousorgs', 'active_count', 'restaurants_reservations', 'dist_5_star_hotel', 'dist_to_active', 'dist_to_professional', 'dist_to_nightlife', 'dist_to_health', 'dist_to_strip', 'business_parking']\n",
      "['avg_stars_100m', 'outdoor_seating', 'review_count', 'dist_to_pets', 'dist_to_localflavor', 'dist_to_financialservices', 'restaurants_price_range', 'dist_to_homeservices', 'accepts_credit_cards', 'dist_5_star_movie_hall', 'auto_count', 'dist_to_hotelstravel', 'dist_to_shopping', 'dist_to_religiousorgs', 'active_count', 'restaurants_reservations', 'dist_5_star_hotel', 'dist_to_active', 'dist_to_professional', 'dist_to_nightlife', 'dist_to_health', 'dist_to_strip', 'business_parking', 'restaurants_count']\n",
      "['avg_stars_100m', 'outdoor_seating', 'review_count', 'dist_to_pets', 'dist_to_localflavor', 'dist_to_financialservices', 'restaurants_price_range', 'dist_to_homeservices', 'accepts_credit_cards', 'dist_5_star_movie_hall', 'auto_count', 'dist_to_hotelstravel', 'dist_to_shopping', 'dist_to_religiousorgs', 'active_count', 'restaurants_reservations', 'dist_5_star_hotel', 'dist_to_active', 'dist_to_professional', 'dist_to_nightlife', 'dist_to_health', 'dist_to_strip', 'business_parking', 'restaurants_count', 'business_count']\n",
      "['avg_stars_100m', 'outdoor_seating', 'review_count', 'dist_to_pets', 'dist_to_localflavor', 'dist_to_financialservices', 'restaurants_price_range', 'dist_to_homeservices', 'accepts_credit_cards', 'dist_5_star_movie_hall', 'auto_count', 'dist_to_hotelstravel', 'dist_to_shopping', 'dist_to_religiousorgs', 'active_count', 'restaurants_reservations', 'dist_5_star_hotel', 'dist_to_active', 'dist_to_professional', 'dist_to_nightlife', 'dist_to_health', 'dist_to_strip', 'business_parking', 'restaurants_count', 'business_count', 'education_count']\n",
      "['avg_stars_100m', 'outdoor_seating', 'review_count', 'dist_to_pets', 'dist_to_localflavor', 'dist_to_financialservices', 'restaurants_price_range', 'dist_to_homeservices', 'accepts_credit_cards', 'dist_5_star_movie_hall', 'auto_count', 'dist_to_hotelstravel', 'dist_to_shopping', 'dist_to_religiousorgs', 'active_count', 'restaurants_reservations', 'dist_5_star_hotel', 'dist_to_active', 'dist_to_professional', 'dist_to_nightlife', 'dist_to_health', 'dist_to_strip', 'business_parking', 'restaurants_count', 'business_count', 'education_count', 'dist_to_beautysvc']\n",
      "['avg_stars_100m', 'outdoor_seating', 'review_count', 'dist_to_pets', 'dist_to_localflavor', 'dist_to_financialservices', 'restaurants_price_range', 'dist_to_homeservices', 'accepts_credit_cards', 'dist_5_star_movie_hall', 'auto_count', 'dist_to_hotelstravel', 'dist_to_shopping', 'dist_to_religiousorgs', 'active_count', 'restaurants_reservations', 'dist_5_star_hotel', 'dist_to_active', 'dist_to_professional', 'dist_to_nightlife', 'dist_to_health', 'dist_to_strip', 'business_parking', 'restaurants_count', 'business_count', 'education_count', 'dist_to_beautysvc', 'hotelstravel_count']\n"
     ]
    },
    {
     "name": "stdout",
     "output_type": "stream",
     "text": [
      "['avg_stars_100m', 'outdoor_seating', 'review_count', 'dist_to_pets', 'dist_to_localflavor', 'dist_to_financialservices', 'restaurants_price_range', 'dist_to_homeservices', 'accepts_credit_cards', 'dist_5_star_movie_hall', 'auto_count', 'dist_to_hotelstravel', 'dist_to_shopping', 'dist_to_religiousorgs', 'active_count', 'restaurants_reservations', 'dist_5_star_hotel', 'dist_to_active', 'dist_to_professional', 'dist_to_nightlife', 'dist_to_health', 'dist_to_strip', 'business_parking', 'restaurants_count', 'business_count', 'education_count', 'dist_to_beautysvc', 'hotelstravel_count', 'dist_to_education']\n",
      "['avg_stars_100m', 'outdoor_seating', 'review_count', 'dist_to_pets', 'dist_to_localflavor', 'dist_to_financialservices', 'restaurants_price_range', 'dist_to_homeservices', 'accepts_credit_cards', 'dist_5_star_movie_hall', 'auto_count', 'dist_to_hotelstravel', 'dist_to_shopping', 'dist_to_religiousorgs', 'active_count', 'restaurants_reservations', 'dist_5_star_hotel', 'dist_to_active', 'dist_to_professional', 'dist_to_nightlife', 'dist_to_health', 'dist_to_strip', 'business_parking', 'restaurants_count', 'business_count', 'education_count', 'dist_to_beautysvc', 'hotelstravel_count', 'dist_to_education', 'restaurants_takeout']\n",
      "['avg_stars_100m', 'outdoor_seating', 'review_count', 'dist_to_pets', 'dist_to_localflavor', 'dist_to_financialservices', 'restaurants_price_range', 'dist_to_homeservices', 'accepts_credit_cards', 'dist_5_star_movie_hall', 'auto_count', 'dist_to_hotelstravel', 'dist_to_shopping', 'dist_to_religiousorgs', 'active_count', 'restaurants_reservations', 'dist_5_star_hotel', 'dist_to_active', 'dist_to_professional', 'dist_to_nightlife', 'dist_to_health', 'dist_to_strip', 'business_parking', 'restaurants_count', 'business_count', 'education_count', 'dist_to_beautysvc', 'hotelstravel_count', 'dist_to_education', 'restaurants_takeout', 'dist_to_localservices']\n",
      "['avg_stars_100m', 'outdoor_seating', 'review_count', 'dist_to_pets', 'dist_to_localflavor', 'dist_to_financialservices', 'restaurants_price_range', 'dist_to_homeservices', 'accepts_credit_cards', 'dist_5_star_movie_hall', 'auto_count', 'dist_to_hotelstravel', 'dist_to_shopping', 'dist_to_religiousorgs', 'active_count', 'restaurants_reservations', 'dist_5_star_hotel', 'dist_to_active', 'dist_to_professional', 'dist_to_nightlife', 'dist_to_health', 'dist_to_strip', 'business_parking', 'restaurants_count', 'business_count', 'education_count', 'dist_to_beautysvc', 'hotelstravel_count', 'dist_to_education', 'restaurants_takeout', 'dist_to_localservices', 'good_for_kids']\n",
      "['avg_stars_100m', 'outdoor_seating', 'review_count', 'dist_to_pets', 'dist_to_localflavor', 'dist_to_financialservices', 'restaurants_price_range', 'dist_to_homeservices', 'accepts_credit_cards', 'dist_5_star_movie_hall', 'auto_count', 'dist_to_hotelstravel', 'dist_to_shopping', 'dist_to_religiousorgs', 'active_count', 'restaurants_reservations', 'dist_5_star_hotel', 'dist_to_active', 'dist_to_professional', 'dist_to_nightlife', 'dist_to_health', 'dist_to_strip', 'business_parking', 'restaurants_count', 'business_count', 'education_count', 'dist_to_beautysvc', 'hotelstravel_count', 'dist_to_education', 'restaurants_takeout', 'dist_to_localservices', 'good_for_kids', 'dist_to_publicservicesgovt']\n",
      "['avg_stars_100m', 'outdoor_seating', 'review_count', 'dist_to_pets', 'dist_to_localflavor', 'dist_to_financialservices', 'restaurants_price_range', 'dist_to_homeservices', 'accepts_credit_cards', 'dist_5_star_movie_hall', 'auto_count', 'dist_to_hotelstravel', 'dist_to_shopping', 'dist_to_religiousorgs', 'active_count', 'restaurants_reservations', 'dist_5_star_hotel', 'dist_to_active', 'dist_to_professional', 'dist_to_nightlife', 'dist_to_health', 'dist_to_strip', 'business_parking', 'restaurants_count', 'business_count', 'education_count', 'dist_to_beautysvc', 'hotelstravel_count', 'dist_to_education', 'restaurants_takeout', 'dist_to_localservices', 'good_for_kids', 'dist_to_publicservicesgovt', 'gini_index']\n",
      "['avg_stars_100m', 'outdoor_seating', 'review_count', 'dist_to_pets', 'dist_to_localflavor', 'dist_to_financialservices', 'restaurants_price_range', 'dist_to_homeservices', 'accepts_credit_cards', 'dist_5_star_movie_hall', 'auto_count', 'dist_to_hotelstravel', 'dist_to_shopping', 'dist_to_religiousorgs', 'active_count', 'restaurants_reservations', 'dist_5_star_hotel', 'dist_to_active', 'dist_to_professional', 'dist_to_nightlife', 'dist_to_health', 'dist_to_strip', 'business_parking', 'restaurants_count', 'business_count', 'education_count', 'dist_to_beautysvc', 'hotelstravel_count', 'dist_to_education', 'restaurants_takeout', 'dist_to_localservices', 'good_for_kids', 'dist_to_publicservicesgovt', 'gini_index', 'dist_to_eventservices']\n",
      "['avg_stars_100m', 'outdoor_seating', 'review_count', 'dist_to_pets', 'dist_to_localflavor', 'dist_to_financialservices', 'restaurants_price_range', 'dist_to_homeservices', 'accepts_credit_cards', 'dist_5_star_movie_hall', 'auto_count', 'dist_to_hotelstravel', 'dist_to_shopping', 'dist_to_religiousorgs', 'active_count', 'restaurants_reservations', 'dist_5_star_hotel', 'dist_to_active', 'dist_to_professional', 'dist_to_nightlife', 'dist_to_health', 'dist_to_strip', 'business_parking', 'restaurants_count', 'business_count', 'education_count', 'dist_to_beautysvc', 'hotelstravel_count', 'dist_to_education', 'restaurants_takeout', 'dist_to_localservices', 'good_for_kids', 'dist_to_publicservicesgovt', 'gini_index', 'dist_to_eventservices', 'restaurants_delivery']\n",
      "['avg_stars_100m', 'outdoor_seating', 'review_count', 'dist_to_pets', 'dist_to_localflavor', 'dist_to_financialservices', 'restaurants_price_range', 'dist_to_homeservices', 'accepts_credit_cards', 'dist_5_star_movie_hall', 'auto_count', 'dist_to_hotelstravel', 'dist_to_shopping', 'dist_to_religiousorgs', 'active_count', 'restaurants_reservations', 'dist_5_star_hotel', 'dist_to_active', 'dist_to_professional', 'dist_to_nightlife', 'dist_to_health', 'dist_to_strip', 'business_parking', 'restaurants_count', 'business_count', 'education_count', 'dist_to_beautysvc', 'hotelstravel_count', 'dist_to_education', 'restaurants_takeout', 'dist_to_localservices', 'good_for_kids', 'dist_to_publicservicesgovt', 'gini_index', 'dist_to_eventservices', 'restaurants_delivery', 'dist_to_massmedia']\n",
      "['avg_stars_100m', 'outdoor_seating', 'review_count', 'dist_to_pets', 'dist_to_localflavor', 'dist_to_financialservices', 'restaurants_price_range', 'dist_to_homeservices', 'accepts_credit_cards', 'dist_5_star_movie_hall', 'auto_count', 'dist_to_hotelstravel', 'dist_to_shopping', 'dist_to_religiousorgs', 'active_count', 'restaurants_reservations', 'dist_5_star_hotel', 'dist_to_active', 'dist_to_professional', 'dist_to_nightlife', 'dist_to_health', 'dist_to_strip', 'business_parking', 'restaurants_count', 'business_count', 'education_count', 'dist_to_beautysvc', 'hotelstravel_count', 'dist_to_education', 'restaurants_takeout', 'dist_to_localservices', 'good_for_kids', 'dist_to_publicservicesgovt', 'gini_index', 'dist_to_eventservices', 'restaurants_delivery', 'dist_to_massmedia', 'dist_to_auto']\n",
      "['avg_stars_100m', 'outdoor_seating', 'review_count', 'dist_to_pets', 'dist_to_localflavor', 'dist_to_financialservices', 'restaurants_price_range', 'dist_to_homeservices', 'accepts_credit_cards', 'dist_5_star_movie_hall', 'auto_count', 'dist_to_hotelstravel', 'dist_to_shopping', 'dist_to_religiousorgs', 'active_count', 'restaurants_reservations', 'dist_5_star_hotel', 'dist_to_active', 'dist_to_professional', 'dist_to_nightlife', 'dist_to_health', 'dist_to_strip', 'business_parking', 'restaurants_count', 'business_count', 'education_count', 'dist_to_beautysvc', 'hotelstravel_count', 'dist_to_education', 'restaurants_takeout', 'dist_to_localservices', 'good_for_kids', 'dist_to_publicservicesgovt', 'gini_index', 'dist_to_eventservices', 'restaurants_delivery', 'dist_to_massmedia', 'dist_to_auto', 'dist_to_arts']\n",
      "['avg_stars_100m', 'outdoor_seating', 'review_count', 'dist_to_pets', 'dist_to_localflavor', 'dist_to_financialservices', 'restaurants_price_range', 'dist_to_homeservices', 'accepts_credit_cards', 'dist_5_star_movie_hall', 'auto_count', 'dist_to_hotelstravel', 'dist_to_shopping', 'dist_to_religiousorgs', 'active_count', 'restaurants_reservations', 'dist_5_star_hotel', 'dist_to_active', 'dist_to_professional', 'dist_to_nightlife', 'dist_to_health', 'dist_to_strip', 'business_parking', 'restaurants_count', 'business_count', 'education_count', 'dist_to_beautysvc', 'hotelstravel_count', 'dist_to_education', 'restaurants_takeout', 'dist_to_localservices', 'good_for_kids', 'dist_to_publicservicesgovt', 'gini_index', 'dist_to_eventservices', 'restaurants_delivery', 'dist_to_massmedia', 'dist_to_auto', 'dist_to_arts', 'dist_to_realestate']\n"
     ]
    }
   ],
   "source": [
    "accuracy=[]\n",
    "while len(features)!=41:  # Run until all features are added\n",
    "    print(features) # Prints selected models at each iteration\n",
    "    acc={}\n",
    "    for i in cols:\n",
    "        #print(i)\n",
    "        acc[i]=model(X_bete[[*features,i]])\n",
    "        #print(acc[i])\n",
    "    \n",
    "    result = max(acc.items(), key=lambda x: x[1])[0]\n",
    "    \n",
    "    features.append(result) # Append to the list\n",
    "    accuracy.append(max(acc.items(), key=lambda x: x[1])[1])\n",
    "    cols.remove(result)"
   ]
  },
  {
   "cell_type": "code",
   "execution_count": 612,
   "metadata": {},
   "outputs": [
    {
     "data": {
      "text/plain": [
       "17"
      ]
     },
     "execution_count": 612,
     "metadata": {},
     "output_type": "execute_result"
    }
   ],
   "source": [
    "np.argmax(accuracy)"
   ]
  },
  {
   "cell_type": "code",
   "execution_count": 651,
   "metadata": {},
   "outputs": [
    {
     "name": "stdout",
     "output_type": "stream",
     "text": [
      "['avg_stars_100m', 'outdoor_seating', 'review_count', 'dist_to_pets', 'dist_to_localflavor', 'dist_to_financialservices', 'restaurants_price_range', 'dist_to_homeservices', 'accepts_credit_cards', 'dist_5_star_movie_hall', 'auto_count', 'dist_to_hotelstravel', 'dist_to_shopping', 'dist_to_religiousorgs', 'active_count', 'restaurants_reservations', 'dist_5_star_hotel', 'dist_to_active', 'dist_to_professional', 'dist_to_nightlife', 'dist_to_health', 'dist_to_strip', 'business_parking', 'restaurants_count', 'business_count', 'education_count', 'dist_to_beautysvc', 'hotelstravel_count', 'dist_to_education', 'restaurants_takeout', 'dist_to_localservices', 'good_for_kids', 'dist_to_publicservicesgovt', 'gini_index']\n"
     ]
    }
   ],
   "source": [
    "\n",
    "best_model = features[:34] # Finding best model based on accuracy\n",
    "print(best_model)"
   ]
  },
  {
   "cell_type": "code",
   "execution_count": 614,
   "metadata": {},
   "outputs": [
    {
     "data": {
      "image/png": "[encoded data removed]",
      "text/plain": [
       "<matplotlib.figure.Figure at 0x1c27ee9198>"
      ]
     },
     "metadata": {},
     "output_type": "display_data"
    }
   ],
   "source": [
    "# Plotting BIC vs Number of features\n",
    "\n",
    "plt.figure(figsize=(16,7))\n",
    "plt.plot(range(1,41),accuracy,marker='o')\n",
    "plt.grid(b=True)\n",
    "\n",
    "plt.axvline(x=np.argmax(accuracy)+1,c='r')\n",
    "plt.show()"
   ]
  },
  {
   "cell_type": "code",
   "execution_count": 652,
   "metadata": {},
   "outputs": [],
   "source": [
    "best_model_data = X_bete[best_model]"
   ]
  },
  {
   "cell_type": "code",
   "execution_count": 639,
   "metadata": {},
   "outputs": [
    {
     "data": {
      "text/plain": [
       "0.6895328208160851"
      ]
     },
     "execution_count": 639,
     "metadata": {},
     "output_type": "execute_result"
    }
   ],
   "source": [
    "X_train, X_test, y_train, y_test = train_test_split(best_model_data, y, test_size=0.20, random_state=42)\n",
    "clf = LogisticRegression()\n",
    "clf.fit(X_train,y_train)\n",
    "yhat = clf.predict(X_test)\n",
    "metrics.accuracy_score(y_test,yhat)"
   ]
  },
  {
   "cell_type": "code",
   "execution_count": 646,
   "metadata": {},
   "outputs": [
    {
     "name": "stderr",
     "output_type": "stream",
     "text": [
      "/Users/sahilaggarwal/anaconda2/envs/py36/lib/python3.6/site-packages/sklearn/utils/deprecation.py:122: FutureWarning: You are accessing a training score ('train_score'), which will not be available by default any more in 0.21. If you need training scores, please set return_train_score=True\n",
      "  warnings.warn(*warn_args, **warn_kwargs)\n"
     ]
    },
    {
     "data": {
      "text/plain": [
       "{'fit_time': array([0.06464839, 0.05787706, 0.06396604, 0.05868697, 0.06505585]),\n",
       " 'score_time': array([0.00100875, 0.0008719 , 0.00078702, 0.00109005, 0.00081325]),\n",
       " 'test_score': array([0.65759905, 0.67534004, 0.68835009, 0.70118343, 0.69467456]),\n",
       " 'train_score': array([0.69254658, 0.69047619, 0.68855368, 0.68342452, 0.68623392])}"
      ]
     },
     "execution_count": 646,
     "metadata": {},
     "output_type": "execute_result"
    }
   ],
   "source": [
    "cv = cross_validate(clf,best_model_data,y,cv=5)\n",
    "cv"
   ]
  },
  {
   "cell_type": "code",
   "execution_count": 647,
   "metadata": {},
   "outputs": [
    {
     "data": {
      "text/plain": [
       "0    4915\n",
       "1    3538\n",
       "Name: stars, dtype: int64"
      ]
     },
     "execution_count": 647,
     "metadata": {},
     "output_type": "execute_result"
    }
   ],
   "source": [
    "y.value_counts()"
   ]
  },
  {
   "cell_type": "markdown",
   "metadata": {},
   "source": [
    "#### Statsmodel"
   ]
  },
  {
   "cell_type": "code",
   "execution_count": 653,
   "metadata": {
    "scrolled": false
   },
   "outputs": [
    {
     "name": "stdout",
     "output_type": "stream",
     "text": [
      "Optimization terminated successfully.\n",
      "         Current function value: 0.577744\n",
      "         Iterations 8\n",
      "                           Logit Regression Results                           \n",
      "==============================================================================\n",
      "Dep. Variable:                  stars   No. Observations:                 8453\n",
      "Model:                          Logit   Df Residuals:                     8418\n",
      "Method:                           MLE   Df Model:                           34\n",
      "Date:                Thu, 06 Dec 2018   Pseudo R-squ.:                  0.1502\n",
      "Time:                        14:56:49   Log-Likelihood:                -4883.7\n",
      "converged:                       True   LL-Null:                       -5746.5\n",
      "                                        LLR p-value:                     0.000\n",
      "==============================================================================================\n",
      "                                 coef    std err          z      P>|z|      [0.025      0.975]\n",
      "----------------------------------------------------------------------------------------------\n",
      "const                         -5.5554      0.365    -15.200      0.000      -6.272      -4.839\n",
      "avg_stars_100m                 8.1201      0.283     28.681      0.000       7.565       8.675\n",
      "outdoor_seating                0.1984      0.064      3.107      0.002       0.073       0.324\n",
      "review_count                   8.6244      0.889      9.697      0.000       6.881      10.368\n",
      "dist_to_pets                 -11.0077      2.679     -4.110      0.000     -16.258      -5.758\n",
      "dist_to_localflavor           -0.5068      1.319     -0.384      0.701      -3.092       2.079\n",
      "dist_to_financialservices     -5.6553      3.141     -1.801      0.072     -11.811       0.500\n",
      "restaurants_price_range        0.0555      0.142      0.391      0.696      -0.223       0.334\n",
      "dist_to_homeservices         -11.1340      6.516     -1.709      0.088     -23.906       1.638\n",
      "accepts_credit_cards          -0.6894      0.212     -3.250      0.001      -1.105      -0.274\n",
      "dist_5_star_movie_hall        -0.4641      1.603     -0.290      0.772      -3.605       2.677\n",
      "auto_count                    -0.3195      0.307     -1.042      0.297      -0.920       0.281\n",
      "dist_to_hotelstravel           2.0819      2.104      0.990      0.322      -2.041       6.205\n",
      "dist_to_shopping              -5.7407      4.816     -1.192      0.233     -15.180       3.699\n",
      "dist_to_religiousorgs          0.0889      1.610      0.055      0.956      -3.066       3.244\n",
      "active_count                  -1.0512      0.516     -2.038      0.042      -2.062      -0.040\n",
      "restaurants_reservations       0.3947      0.070      5.625      0.000       0.257       0.532\n",
      "dist_5_star_hotel             -0.3684      1.034     -0.356      0.722      -2.395       1.658\n",
      "dist_to_active                 6.7829      1.392      4.873      0.000       4.055       9.511\n",
      "dist_to_professional           7.5068      4.676      1.605      0.108      -1.657      16.671\n",
      "dist_to_nightlife             12.6242      4.214      2.995      0.003       4.364      20.884\n",
      "dist_to_health                -2.6113      4.874     -0.536      0.592     -12.164       6.941\n",
      "dist_to_strip                 -0.4021      0.616     -0.653      0.514      -1.609       0.805\n",
      "business_parking               0.0292      0.058      0.500      0.617      -0.085       0.144\n",
      "restaurants_count              2.2039      0.816      2.700      0.007       0.604       3.804\n",
      "business_count                -0.3330      0.431     -0.772      0.440      -1.179       0.513\n",
      "education_count                0.4047      0.757      0.535      0.593      -1.078       1.888\n",
      "dist_to_beautysvc              7.4985      6.030      1.244      0.214      -4.319      19.316\n",
      "hotelstravel_count            -0.8349      0.378     -2.211      0.027      -1.575      -0.095\n",
      "dist_to_education              2.6171      2.806      0.933      0.351      -2.883       8.117\n",
      "restaurants_takeout           -0.1443      0.090     -1.612      0.107      -0.320       0.031\n",
      "dist_to_localservices         -2.3781      6.720     -0.354      0.723     -15.549      10.793\n",
      "good_for_kids                 -0.0789      0.087     -0.912      0.362      -0.248       0.091\n",
      "dist_to_publicservicesgovt     0.2556      1.817      0.141      0.888      -3.306       3.817\n",
      "gini_index                     0.5039      0.233      2.158      0.031       0.046       0.961\n",
      "==============================================================================================\n"
     ]
    }
   ],
   "source": [
    "import statsmodels.api as sm\n",
    "best_model_data = sm.add_constant(best_model_data)\n",
    "mdl = sm.Logit(y, best_model_data)\n",
    "mdl_fit = mdl.fit(maxiter=100)\n",
    "print (mdl_fit.summary())"
   ]
  },
  {
   "cell_type": "code",
   "execution_count": 654,
   "metadata": {},
   "outputs": [
    {
     "data": {
      "text/plain": [
       "array([[3909., 1006.],\n",
       "       [1608., 1930.]])"
      ]
     },
     "execution_count": 654,
     "metadata": {},
     "output_type": "execute_result"
    }
   ],
   "source": [
    "mdl_fit.pred_table()"
   ]
  },
  {
   "cell_type": "markdown",
   "metadata": {},
   "source": [
    "#### CV"
   ]
  },
  {
   "cell_type": "markdown",
   "metadata": {},
   "source": [
    "##### Logistic"
   ]
  },
  {
   "cell_type": "code",
   "execution_count": 382,
   "metadata": {},
   "outputs": [],
   "source": [
    "from sklearn.model_selection import cross_validate\n",
    "X_train, X_test, y_train, y_test = train_test_split(best_model_data, y, test_size=0.20, random_state=42)\n",
    "    \n",
    "clf = LogisticRegression(C=1500)\n",
    "clf.fit(X_train,y_train)\n",
    "yhat = clf.predict(X_test)\n"
   ]
  },
  {
   "cell_type": "code",
   "execution_count": 383,
   "metadata": {},
   "outputs": [
    {
     "data": {
      "text/plain": [
       "0.621011673151751"
      ]
     },
     "execution_count": 383,
     "metadata": {},
     "output_type": "execute_result"
    }
   ],
   "source": [
    "metrics.f1_score(y_test,yhat)"
   ]
  },
  {
   "cell_type": "code",
   "execution_count": 377,
   "metadata": {},
   "outputs": [
    {
     "name": "stderr",
     "output_type": "stream",
     "text": [
      "/Users/sahilaggarwal/anaconda2/envs/py36/lib/python3.6/site-packages/sklearn/utils/deprecation.py:122: FutureWarning: You are accessing a training score ('train_score'), which will not be available by default any more in 0.21. If you need training scores, please set return_train_score=True\n",
      "  warnings.warn(*warn_args, **warn_kwargs)\n"
     ]
    },
    {
     "data": {
      "text/plain": [
       "{'fit_time': array([0.12950206, 0.16980219, 0.13263798, 0.12694883, 0.12242723]),\n",
       " 'score_time': array([0.00100589, 0.00077987, 0.00079012, 0.00078416, 0.00078082]),\n",
       " 'test_score': array([0.65641632, 0.6759314 , 0.69544648, 0.68461538, 0.68343195]),\n",
       " 'train_score': array([0.69506063, 0.69077196, 0.6844129 , 0.68786042, 0.68963478])}"
      ]
     },
     "execution_count": 377,
     "metadata": {},
     "output_type": "execute_result"
    }
   ],
   "source": [
    "cv = cross_validate(clf,best_model_data,y,cv=5)\n",
    "cv"
   ]
  },
  {
   "cell_type": "code",
   "execution_count": 378,
   "metadata": {},
   "outputs": [
    {
     "data": {
      "text/plain": [
       "0.6791683083781523"
      ]
     },
     "execution_count": 378,
     "metadata": {},
     "output_type": "execute_result"
    }
   ],
   "source": [
    "np.mean(cv['test_score'])"
   ]
  },
  {
   "cell_type": "markdown",
   "metadata": {},
   "source": [
    "~68%; does not overfit, train scores are comparable to test"
   ]
  },
  {
   "cell_type": "markdown",
   "metadata": {},
   "source": [
    "##### Random Forest"
   ]
  },
  {
   "cell_type": "code",
   "execution_count": 379,
   "metadata": {},
   "outputs": [],
   "source": [
    "clf = RandomForestClassifier()\n",
    "clf.fit(X_train,y_train)\n",
    "yhat = clf.predict(X_test)"
   ]
  },
  {
   "cell_type": "code",
   "execution_count": 380,
   "metadata": {},
   "outputs": [
    {
     "name": "stderr",
     "output_type": "stream",
     "text": [
      "/Users/sahilaggarwal/anaconda2/envs/py36/lib/python3.6/site-packages/sklearn/utils/deprecation.py:122: FutureWarning: You are accessing a training score ('train_score'), which will not be available by default any more in 0.21. If you need training scores, please set return_train_score=True\n",
      "  warnings.warn(*warn_args, **warn_kwargs)\n"
     ]
    },
    {
     "data": {
      "text/plain": [
       "{'fit_time': array([0.23335314, 0.24384189, 0.20250297, 0.28101182, 0.23325396]),\n",
       " 'score_time': array([0.00481486, 0.0050652 , 0.00474119, 0.006742  , 0.00632405]),\n",
       " 'test_score': array([0.6463631 , 0.65109403, 0.63926671, 0.65325444, 0.66153846]),\n",
       " 'train_score': array([0.98151434, 0.97855664, 0.97959184, 0.97929913, 0.97959485])}"
      ]
     },
     "execution_count": 380,
     "metadata": {},
     "output_type": "execute_result"
    }
   ],
   "source": [
    "cv = cross_validate(clf,best_model_data,y,cv=5)\n",
    "cv"
   ]
  },
  {
   "cell_type": "markdown",
   "metadata": {},
   "source": [
    "Random forest overfits, Logistic does not, Train acc is ~98%"
   ]
  },
  {
   "cell_type": "code",
   "execution_count": 381,
   "metadata": {},
   "outputs": [
    {
     "data": {
      "text/plain": [
       "0.5310457516339869"
      ]
     },
     "execution_count": 381,
     "metadata": {},
     "output_type": "execute_result"
    }
   ],
   "source": [
    "metrics.f1_score(y_test,yhat)"
   ]
  }
 ],
 "metadata": {
  "kernelspec": {
   "display_name": "Python 3",
   "language": "python",
   "name": "python3"
  },
  "language_info": {
   "codemirror_mode": {
    "name": "ipython",
    "version": 3
   },
   "file_extension": ".py",
   "mimetype": "text/x-python",
   "name": "python",
   "nbconvert_exporter": "python",
   "pygments_lexer": "ipython3",
   "version": "3.6.4"
  }
 },
 "nbformat": 4,
 "nbformat_minor": 2
}
