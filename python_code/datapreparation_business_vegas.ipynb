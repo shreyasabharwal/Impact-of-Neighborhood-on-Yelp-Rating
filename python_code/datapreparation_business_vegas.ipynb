{
 "cells": [
  {
   "cell_type": "code",
   "execution_count": 1,
   "metadata": {},
   "outputs": [],
   "source": [
    "import pandas as pd\n",
    "import numpy as np\n",
    "import json \n",
    "import psycopg2\n",
    "import matplotlib.pyplot as plt"
   ]
  },
  {
   "cell_type": "code",
   "execution_count": 2,
   "metadata": {},
   "outputs": [],
   "source": [
    "# connect to the PostgreSQL server\n",
    "conn = psycopg2.connect(host=\"imt575group4.cdzfpivjhvbj.us-east-1.rds.amazonaws.com\",\n",
    "\t                    database=\"imt575\", user=\"amir\", password=\"pleasework123\")\n",
    "business = pd.read_sql(\"SELECT * FROM business WHERE city LIKE '%Las%Vegas%'\",conn)"
   ]
  },
  {
   "cell_type": "code",
   "execution_count": 3,
   "metadata": {},
   "outputs": [
    {
     "data": {
      "text/html": [
       "<div>\n",
       "<style scoped>\n",
       "    .dataframe tbody tr th:only-of-type {\n",
       "        vertical-align: middle;\n",
       "    }\n",
       "\n",
       "    .dataframe tbody tr th {\n",
       "        vertical-align: top;\n",
       "    }\n",
       "\n",
       "    .dataframe thead th {\n",
       "        text-align: right;\n",
       "    }\n",
       "</style>\n",
       "<table border=\"1\" class=\"dataframe\">\n",
       "  <thead>\n",
       "    <tr style=\"text-align: right;\">\n",
       "      <th></th>\n",
       "      <th>business_id</th>\n",
       "      <th>name</th>\n",
       "      <th>neighborhood</th>\n",
       "      <th>address</th>\n",
       "      <th>city</th>\n",
       "      <th>state</th>\n",
       "      <th>postal_code</th>\n",
       "      <th>latitude</th>\n",
       "      <th>longitude</th>\n",
       "      <th>stars</th>\n",
       "      <th>review_count</th>\n",
       "      <th>is_open</th>\n",
       "      <th>attributes</th>\n",
       "      <th>categories</th>\n",
       "      <th>hours</th>\n",
       "    </tr>\n",
       "  </thead>\n",
       "  <tbody>\n",
       "    <tr>\n",
       "      <th>0</th>\n",
       "      <td>1gU1ZNbcvk0puuUQjbl23w</td>\n",
       "      <td>Sushi Factory</td>\n",
       "      <td>Southwest</td>\n",
       "      <td>7480 S Rainbow Blvd, Ste C</td>\n",
       "      <td>Las Vegas</td>\n",
       "      <td>NV</td>\n",
       "      <td>89139</td>\n",
       "      <td>36.0527735</td>\n",
       "      <td>-115.2425</td>\n",
       "      <td>4.0</td>\n",
       "      <td>152</td>\n",
       "      <td>1</td>\n",
       "      <td>{u'Alcohol': u'beer_and_wine', u'HasTV': u'Tru...</td>\n",
       "      <td>Restaurants, Sushi Bars</td>\n",
       "      <td>{u'Monday': u'11:30-0:0', u'Tuesday': u'11:30-...</td>\n",
       "    </tr>\n",
       "    <tr>\n",
       "      <th>1</th>\n",
       "      <td>4E9twWQwae4ELAKUIVbFpw</td>\n",
       "      <td>The Wax Room</td>\n",
       "      <td>Spring Valley</td>\n",
       "      <td>Studio Salons, 9640 W Tropicana Ave, Room 118</td>\n",
       "      <td>Las Vegas</td>\n",
       "      <td>NV</td>\n",
       "      <td>89147</td>\n",
       "      <td>36.119018261</td>\n",
       "      <td>-115.280227661</td>\n",
       "      <td>5.0</td>\n",
       "      <td>3</td>\n",
       "      <td>0</td>\n",
       "      <td>{u'BusinessAcceptsCreditCards': u'True', u'Res...</td>\n",
       "      <td>Beauty &amp; Spas, Hair Removal, Waxing</td>\n",
       "      <td>{u'Monday': u'9:30-20:0', u'Tuesday': u'9:30-2...</td>\n",
       "    </tr>\n",
       "    <tr>\n",
       "      <th>2</th>\n",
       "      <td>tZW4NLpEYinu4mIxdKj0Pw</td>\n",
       "      <td>The Rose Grill</td>\n",
       "      <td>Downtown</td>\n",
       "      <td>3328 E Charleston Blvd</td>\n",
       "      <td>Las Vegas</td>\n",
       "      <td>NV</td>\n",
       "      <td>89104</td>\n",
       "      <td>36.1585755</td>\n",
       "      <td>-115.0996395</td>\n",
       "      <td>2.5</td>\n",
       "      <td>7</td>\n",
       "      <td>1</td>\n",
       "      <td>{u'DogsAllowed': u'False', u'Alcohol': u'full_...</td>\n",
       "      <td>Pizza, Burgers, Restaurants, Salad</td>\n",
       "      <td>{u'Monday': u'10:0-2:0', u'Tuesday': u'10:0-2:...</td>\n",
       "    </tr>\n",
       "    <tr>\n",
       "      <th>3</th>\n",
       "      <td>MLvSu4zlJID1NtxsDLM09A</td>\n",
       "      <td>Charleston Outlet</td>\n",
       "      <td>Downtown</td>\n",
       "      <td>1548 E Charleston Blvd</td>\n",
       "      <td>Las Vegas</td>\n",
       "      <td>NV</td>\n",
       "      <td>89104</td>\n",
       "      <td>36.1585774</td>\n",
       "      <td>-115.1313389</td>\n",
       "      <td>3.0</td>\n",
       "      <td>17</td>\n",
       "      <td>1</td>\n",
       "      <td>{u'BusinessAcceptsCreditCards': u'True', u'Res...</td>\n",
       "      <td>Men's Clothing, Shopping, Fashion, Thrift Stor...</td>\n",
       "      <td>{u'Monday': u'9:0-21:0', u'Tuesday': u'9:0-21:...</td>\n",
       "    </tr>\n",
       "    <tr>\n",
       "      <th>4</th>\n",
       "      <td>27vCl2nFGa4q-bHSvMTTuQ</td>\n",
       "      <td>A Welding Shop</td>\n",
       "      <td>Downtown</td>\n",
       "      <td>220 W Wyoming Ave</td>\n",
       "      <td>Las Vegas</td>\n",
       "      <td>NV</td>\n",
       "      <td>89102</td>\n",
       "      <td>36.1527005</td>\n",
       "      <td>-115.1586001</td>\n",
       "      <td>3.5</td>\n",
       "      <td>3</td>\n",
       "      <td>1</td>\n",
       "      <td>None</td>\n",
       "      <td>Local Services, Metal Fabricators</td>\n",
       "      <td>{u'Friday': u'8:30-15:30', u'Tuesday': u'8:30-...</td>\n",
       "    </tr>\n",
       "  </tbody>\n",
       "</table>\n",
       "</div>"
      ],
      "text/plain": [
       "              business_id               name   neighborhood  \\\n",
       "0  1gU1ZNbcvk0puuUQjbl23w      Sushi Factory      Southwest   \n",
       "1  4E9twWQwae4ELAKUIVbFpw       The Wax Room  Spring Valley   \n",
       "2  tZW4NLpEYinu4mIxdKj0Pw     The Rose Grill       Downtown   \n",
       "3  MLvSu4zlJID1NtxsDLM09A  Charleston Outlet       Downtown   \n",
       "4  27vCl2nFGa4q-bHSvMTTuQ     A Welding Shop       Downtown   \n",
       "\n",
       "                                         address       city state postal_code  \\\n",
       "0                     7480 S Rainbow Blvd, Ste C  Las Vegas    NV       89139   \n",
       "1  Studio Salons, 9640 W Tropicana Ave, Room 118  Las Vegas    NV       89147   \n",
       "2                         3328 E Charleston Blvd  Las Vegas    NV       89104   \n",
       "3                         1548 E Charleston Blvd  Las Vegas    NV       89104   \n",
       "4                              220 W Wyoming Ave  Las Vegas    NV       89102   \n",
       "\n",
       "       latitude       longitude  stars  review_count  is_open  \\\n",
       "0    36.0527735       -115.2425    4.0           152        1   \n",
       "1  36.119018261  -115.280227661    5.0             3        0   \n",
       "2    36.1585755    -115.0996395    2.5             7        1   \n",
       "3    36.1585774    -115.1313389    3.0            17        1   \n",
       "4    36.1527005    -115.1586001    3.5             3        1   \n",
       "\n",
       "                                          attributes  \\\n",
       "0  {u'Alcohol': u'beer_and_wine', u'HasTV': u'Tru...   \n",
       "1  {u'BusinessAcceptsCreditCards': u'True', u'Res...   \n",
       "2  {u'DogsAllowed': u'False', u'Alcohol': u'full_...   \n",
       "3  {u'BusinessAcceptsCreditCards': u'True', u'Res...   \n",
       "4                                               None   \n",
       "\n",
       "                                          categories  \\\n",
       "0                            Restaurants, Sushi Bars   \n",
       "1                Beauty & Spas, Hair Removal, Waxing   \n",
       "2                 Pizza, Burgers, Restaurants, Salad   \n",
       "3  Men's Clothing, Shopping, Fashion, Thrift Stor...   \n",
       "4                  Local Services, Metal Fabricators   \n",
       "\n",
       "                                               hours  \n",
       "0  {u'Monday': u'11:30-0:0', u'Tuesday': u'11:30-...  \n",
       "1  {u'Monday': u'9:30-20:0', u'Tuesday': u'9:30-2...  \n",
       "2  {u'Monday': u'10:0-2:0', u'Tuesday': u'10:0-2:...  \n",
       "3  {u'Monday': u'9:0-21:0', u'Tuesday': u'9:0-21:...  \n",
       "4  {u'Friday': u'8:30-15:30', u'Tuesday': u'8:30-...  "
      ]
     },
     "execution_count": 3,
     "metadata": {},
     "output_type": "execute_result"
    }
   ],
   "source": [
    "business.head()"
   ]
  },
  {
   "cell_type": "code",
   "execution_count": 4,
   "metadata": {},
   "outputs": [
    {
     "data": {
      "text/plain": [
       "(30430, 15)"
      ]
     },
     "execution_count": 4,
     "metadata": {},
     "output_type": "execute_result"
    }
   ],
   "source": [
    "business.shape"
   ]
  },
  {
   "cell_type": "code",
   "execution_count": 5,
   "metadata": {},
   "outputs": [
    {
     "data": {
      "text/plain": [
       "Index(['business_id', 'name', 'neighborhood', 'address', 'city', 'state',\n",
       "       'postal_code', 'latitude', 'longitude', 'stars', 'review_count',\n",
       "       'is_open', 'attributes', 'categories', 'hours'],\n",
       "      dtype='object')"
      ]
     },
     "execution_count": 5,
     "metadata": {},
     "output_type": "execute_result"
    }
   ],
   "source": [
    "business.columns"
   ]
  },
  {
   "cell_type": "code",
   "execution_count": 6,
   "metadata": {},
   "outputs": [
    {
     "data": {
      "text/plain": [
       "30430"
      ]
     },
     "execution_count": 6,
     "metadata": {},
     "output_type": "execute_result"
    }
   ],
   "source": [
    "len(pd.unique(business.business_id))"
   ]
  },
  {
   "cell_type": "markdown",
   "metadata": {},
   "source": [
    "### Working with categories"
   ]
  },
  {
   "cell_type": "code",
   "execution_count": 7,
   "metadata": {},
   "outputs": [],
   "source": [
    "business_1 = business.copy()"
   ]
  },
  {
   "cell_type": "code",
   "execution_count": 8,
   "metadata": {},
   "outputs": [],
   "source": [
    "business_1.categories.fillna('None', inplace = True)"
   ]
  },
  {
   "cell_type": "code",
   "execution_count": 9,
   "metadata": {},
   "outputs": [],
   "source": [
    "high_level_cat = {\n",
    "'Active Life' :'active',\n",
    "'Arts & Entertainment' :'arts',\n",
    "'Automotive': 'auto',\n",
    "'Beauty & Spas': 'beautysvc',\n",
    "'Education' :'education',\n",
    "'Event Planning & Services' :'eventservices',\n",
    "'Financial Services' :'financialservices',\n",
    "'Food' : 'restaurants', #food\n",
    "'Health & Medical' :'health',\n",
    "'Home Services' :'homeservices',\n",
    "'Hotels & Travel' :'hotelstravel',\n",
    "'Local Flavor' :'localflavor',\n",
    "'Local Services' :'localservices',\n",
    "'Mass Media' :'massmedia',\n",
    "'Nightlife' :'nightlife',\n",
    "'Pets' :'pets',\n",
    "'Professional Services' : 'professional',\n",
    "'Public Services & Government' : 'publicservicesgovt',\n",
    "'Real Estate' :'realestate',\n",
    "'Religious Organizations' :'religiousorgs',\n",
    "'Restaurants' :'restaurants',\n",
    "'Shopping' :'shopping'\n",
    "}"
   ]
  },
  {
   "cell_type": "code",
   "execution_count": 10,
   "metadata": {},
   "outputs": [],
   "source": [
    "def filter_category(list_cat):\n",
    "    new_cat = ''\n",
    "    for k,v in high_level_cat.items():\n",
    "        if k in list_cat and v not in new_cat:\n",
    "            if new_cat != '':\n",
    "                new_cat=new_cat+','+v\n",
    "            else:\n",
    "                new_cat=new_cat+v\n",
    "    return new_cat"
   ]
  },
  {
   "cell_type": "code",
   "execution_count": 11,
   "metadata": {},
   "outputs": [],
   "source": [
    "business_1['category'] = business_1.categories.apply(filter_category)"
   ]
  },
  {
   "cell_type": "code",
   "execution_count": 12,
   "metadata": {},
   "outputs": [
    {
     "data": {
      "text/html": [
       "<div>\n",
       "<style scoped>\n",
       "    .dataframe tbody tr th:only-of-type {\n",
       "        vertical-align: middle;\n",
       "    }\n",
       "\n",
       "    .dataframe tbody tr th {\n",
       "        vertical-align: top;\n",
       "    }\n",
       "\n",
       "    .dataframe thead th {\n",
       "        text-align: right;\n",
       "    }\n",
       "</style>\n",
       "<table border=\"1\" class=\"dataframe\">\n",
       "  <thead>\n",
       "    <tr style=\"text-align: right;\">\n",
       "      <th></th>\n",
       "      <th>category</th>\n",
       "      <th>categories</th>\n",
       "    </tr>\n",
       "  </thead>\n",
       "  <tbody>\n",
       "    <tr>\n",
       "      <th>0</th>\n",
       "      <td>restaurants</td>\n",
       "      <td>Restaurants, Sushi Bars</td>\n",
       "    </tr>\n",
       "    <tr>\n",
       "      <th>1</th>\n",
       "      <td>beautysvc</td>\n",
       "      <td>Beauty &amp; Spas, Hair Removal, Waxing</td>\n",
       "    </tr>\n",
       "    <tr>\n",
       "      <th>2</th>\n",
       "      <td>restaurants</td>\n",
       "      <td>Pizza, Burgers, Restaurants, Salad</td>\n",
       "    </tr>\n",
       "    <tr>\n",
       "      <th>3</th>\n",
       "      <td>shopping</td>\n",
       "      <td>Men's Clothing, Shopping, Fashion, Thrift Stor...</td>\n",
       "    </tr>\n",
       "    <tr>\n",
       "      <th>4</th>\n",
       "      <td>localservices</td>\n",
       "      <td>Local Services, Metal Fabricators</td>\n",
       "    </tr>\n",
       "    <tr>\n",
       "      <th>5</th>\n",
       "      <td>eventservices,hotelstravel</td>\n",
       "      <td>Hotels, Event Planning &amp; Services, Hotels &amp; Tr...</td>\n",
       "    </tr>\n",
       "    <tr>\n",
       "      <th>6</th>\n",
       "      <td>restaurants</td>\n",
       "      <td>Tapas/Small Plates, Steakhouses, Spanish, Rest...</td>\n",
       "    </tr>\n",
       "    <tr>\n",
       "      <th>7</th>\n",
       "      <td>active</td>\n",
       "      <td>Interval Training Gyms, Gyms, Fitness &amp; Instru...</td>\n",
       "    </tr>\n",
       "    <tr>\n",
       "      <th>8</th>\n",
       "      <td>eventservices</td>\n",
       "      <td>Party Equipment Rentals, Party Supplies, Event...</td>\n",
       "    </tr>\n",
       "    <tr>\n",
       "      <th>9</th>\n",
       "      <td>localservices</td>\n",
       "      <td>Community Service/Non-Profit, Local Services</td>\n",
       "    </tr>\n",
       "  </tbody>\n",
       "</table>\n",
       "</div>"
      ],
      "text/plain": [
       "                     category  \\\n",
       "0                 restaurants   \n",
       "1                   beautysvc   \n",
       "2                 restaurants   \n",
       "3                    shopping   \n",
       "4               localservices   \n",
       "5  eventservices,hotelstravel   \n",
       "6                 restaurants   \n",
       "7                      active   \n",
       "8               eventservices   \n",
       "9               localservices   \n",
       "\n",
       "                                          categories  \n",
       "0                            Restaurants, Sushi Bars  \n",
       "1                Beauty & Spas, Hair Removal, Waxing  \n",
       "2                 Pizza, Burgers, Restaurants, Salad  \n",
       "3  Men's Clothing, Shopping, Fashion, Thrift Stor...  \n",
       "4                  Local Services, Metal Fabricators  \n",
       "5  Hotels, Event Planning & Services, Hotels & Tr...  \n",
       "6  Tapas/Small Plates, Steakhouses, Spanish, Rest...  \n",
       "7  Interval Training Gyms, Gyms, Fitness & Instru...  \n",
       "8  Party Equipment Rentals, Party Supplies, Event...  \n",
       "9       Community Service/Non-Profit, Local Services  "
      ]
     },
     "execution_count": 12,
     "metadata": {},
     "output_type": "execute_result"
    }
   ],
   "source": [
    "business_1[['category', 'categories']].head(10)"
   ]
  },
  {
   "cell_type": "code",
   "execution_count": 13,
   "metadata": {},
   "outputs": [],
   "source": [
    "business_1.drop(['categories'], axis=1, inplace = True)"
   ]
  },
  {
   "cell_type": "markdown",
   "metadata": {},
   "source": [
    "## Splitting attributes column"
   ]
  },
  {
   "cell_type": "code",
   "execution_count": 14,
   "metadata": {},
   "outputs": [],
   "source": [
    "business_2 = business_1.copy()\n",
    "\n",
    "import re\n",
    "def convert_unicode(x):\n",
    "    x = x.replace(\"u\\'\", \"\\\"\")\n",
    "    x = x.replace(\"\\'\", \"\\\"\")\n",
    "    x = x.replace(\"u\\\"\", \"\")\n",
    "    x = x.replace(\"}\\\"\", \"}\")\n",
    "    x = x.replace(\"True\", \"\\\"True\\\"\")\n",
    "    x = x.replace(\"False\", \"\\\"False\\\"\")\n",
    "    x = x.replace(\"\\\"\\\"\", \"\\\"\")\n",
    "    return x"
   ]
  },
  {
   "cell_type": "code",
   "execution_count": 15,
   "metadata": {},
   "outputs": [],
   "source": [
    "business_2.attributes = business_2.attributes.apply(convert_unicode)"
   ]
  },
  {
   "cell_type": "code",
   "execution_count": 16,
   "metadata": {},
   "outputs": [
    {
     "data": {
      "text/plain": [
       "'{\"Alcohol\": \"beer_and_wine\", \"HasTV\": \"True\", \"NoiseLevel\": \"average\", \"RestaurantsAttire\": \"casual\", \"BusinessAcceptsCreditCards\": \"True\", \"Ambience\": {\"romantic\": \"False\", \"intimate\": \"False\", \"classy\": \"False\", \"hipster\": \"False\", \"divey\": \"False\", \"touristy\": \"False\", \"trendy\": \"True\", \"upscale\": \"False\", \"casual\": \"True\"}, \"RestaurantsGoodForGroups\": \"True\", \"Caters\": \"True\", \"WiFi\": \"free\", \"RestaurantsReservations\": \"True\", \"BusinessAcceptsBitcoin\": \"False\", \"RestaurantsTableService\": \"True\", \"RestaurantsTakeOut\": \"True\", \"GoodForKids\": \"True\", \"WheelchairAccessible\": \"True\", \"DogsAllowed\": \"False\", \"BikeParking\": \"False\", \"OutdoorSeating\": \"False\", \"RestaurantsPriceRange2\": \"2\", \"RestaurantsDelivery\": \"False\", \"GoodForMeal\": {\"dessert\": \"True\", \"latenight\": \"False\", \"lunch\": \"True\", \"dinner\": \"True\", \"breakfast\": \"False\", \"brunch\": \"True\"}, \"BusinessParking\": {\"garage\": \"False\", \"street\": \"False\", \"validated\": \"True\", \"lot\": \"False\", \"valet\": \"False\"}}'"
      ]
     },
     "execution_count": 16,
     "metadata": {},
     "output_type": "execute_result"
    }
   ],
   "source": [
    "business_2.attributes.iloc[0]"
   ]
  },
  {
   "cell_type": "code",
   "execution_count": 17,
   "metadata": {
    "scrolled": true
   },
   "outputs": [
    {
     "data": {
      "text/html": [
       "<div>\n",
       "<style scoped>\n",
       "    .dataframe tbody tr th:only-of-type {\n",
       "        vertical-align: middle;\n",
       "    }\n",
       "\n",
       "    .dataframe tbody tr th {\n",
       "        vertical-align: top;\n",
       "    }\n",
       "\n",
       "    .dataframe thead th {\n",
       "        text-align: right;\n",
       "    }\n",
       "</style>\n",
       "<table border=\"1\" class=\"dataframe\">\n",
       "  <thead>\n",
       "    <tr style=\"text-align: right;\">\n",
       "      <th></th>\n",
       "      <th>business_id</th>\n",
       "      <th>name</th>\n",
       "      <th>neighborhood</th>\n",
       "      <th>address</th>\n",
       "      <th>city</th>\n",
       "      <th>state</th>\n",
       "      <th>postal_code</th>\n",
       "      <th>latitude</th>\n",
       "      <th>longitude</th>\n",
       "      <th>stars</th>\n",
       "      <th>review_count</th>\n",
       "      <th>is_open</th>\n",
       "      <th>attributes</th>\n",
       "      <th>hours</th>\n",
       "      <th>category</th>\n",
       "    </tr>\n",
       "  </thead>\n",
       "  <tbody>\n",
       "    <tr>\n",
       "      <th>0</th>\n",
       "      <td>1gU1ZNbcvk0puuUQjbl23w</td>\n",
       "      <td>Sushi Factory</td>\n",
       "      <td>Southwest</td>\n",
       "      <td>7480 S Rainbow Blvd, Ste C</td>\n",
       "      <td>Las Vegas</td>\n",
       "      <td>NV</td>\n",
       "      <td>89139</td>\n",
       "      <td>36.0527735</td>\n",
       "      <td>-115.2425</td>\n",
       "      <td>4.0</td>\n",
       "      <td>152</td>\n",
       "      <td>1</td>\n",
       "      <td>{\"Alcohol\": \"beer_and_wine\", \"HasTV\": \"True\", ...</td>\n",
       "      <td>{u'Monday': u'11:30-0:0', u'Tuesday': u'11:30-...</td>\n",
       "      <td>restaurants</td>\n",
       "    </tr>\n",
       "    <tr>\n",
       "      <th>1</th>\n",
       "      <td>4E9twWQwae4ELAKUIVbFpw</td>\n",
       "      <td>The Wax Room</td>\n",
       "      <td>Spring Valley</td>\n",
       "      <td>Studio Salons, 9640 W Tropicana Ave, Room 118</td>\n",
       "      <td>Las Vegas</td>\n",
       "      <td>NV</td>\n",
       "      <td>89147</td>\n",
       "      <td>36.119018261</td>\n",
       "      <td>-115.280227661</td>\n",
       "      <td>5.0</td>\n",
       "      <td>3</td>\n",
       "      <td>0</td>\n",
       "      <td>{\"BusinessAcceptsCreditCards\": \"True\", \"Restau...</td>\n",
       "      <td>{u'Monday': u'9:30-20:0', u'Tuesday': u'9:30-2...</td>\n",
       "      <td>beautysvc</td>\n",
       "    </tr>\n",
       "  </tbody>\n",
       "</table>\n",
       "</div>"
      ],
      "text/plain": [
       "              business_id           name   neighborhood  \\\n",
       "0  1gU1ZNbcvk0puuUQjbl23w  Sushi Factory      Southwest   \n",
       "1  4E9twWQwae4ELAKUIVbFpw   The Wax Room  Spring Valley   \n",
       "\n",
       "                                         address       city state postal_code  \\\n",
       "0                     7480 S Rainbow Blvd, Ste C  Las Vegas    NV       89139   \n",
       "1  Studio Salons, 9640 W Tropicana Ave, Room 118  Las Vegas    NV       89147   \n",
       "\n",
       "       latitude       longitude  stars  review_count  is_open  \\\n",
       "0    36.0527735       -115.2425    4.0           152        1   \n",
       "1  36.119018261  -115.280227661    5.0             3        0   \n",
       "\n",
       "                                          attributes  \\\n",
       "0  {\"Alcohol\": \"beer_and_wine\", \"HasTV\": \"True\", ...   \n",
       "1  {\"BusinessAcceptsCreditCards\": \"True\", \"Restau...   \n",
       "\n",
       "                                               hours     category  \n",
       "0  {u'Monday': u'11:30-0:0', u'Tuesday': u'11:30-...  restaurants  \n",
       "1  {u'Monday': u'9:30-20:0', u'Tuesday': u'9:30-2...    beautysvc  "
      ]
     },
     "execution_count": 17,
     "metadata": {},
     "output_type": "execute_result"
    }
   ],
   "source": [
    "business_2.head(2)"
   ]
  },
  {
   "cell_type": "code",
   "execution_count": 18,
   "metadata": {},
   "outputs": [
    {
     "data": {
      "text/plain": [
       "30430"
      ]
     },
     "execution_count": 18,
     "metadata": {},
     "output_type": "execute_result"
    }
   ],
   "source": [
    "len(pd.unique(business_2.business_id))"
   ]
  },
  {
   "cell_type": "code",
   "execution_count": 19,
   "metadata": {},
   "outputs": [],
   "source": [
    "import ast\n",
    "def parse_creditcards(x):\n",
    "    a = ast.literal_eval(x)\n",
    "    if a:\n",
    "        return a['BusinessAcceptsCreditCards'] if 'BusinessAcceptsCreditCards' in a else ''\n",
    "    else:\n",
    "        return ''\n",
    "\n",
    "def parse_goodforkids(x):\n",
    "    a = ast.literal_eval(x)\n",
    "    if a:\n",
    "        return a['GoodForKids'] if 'GoodForKids' in a else ''\n",
    "    else:\n",
    "        return ''\n",
    "    \n",
    "def parse_OutdoorSeating(x):\n",
    "    a = ast.literal_eval(x)\n",
    "    if a:\n",
    "        return a['OutdoorSeating'] if 'OutdoorSeating' in a else ''\n",
    "    else:\n",
    "        return ''\n",
    "    \n",
    "def parse_BusinessParking(x):\n",
    "    a = ast.literal_eval(x)\n",
    "    if a:\n",
    "        return str(a['BusinessParking']) if 'BusinessParking' in a else ''\n",
    "    else:\n",
    "        return ''\n",
    "    \n",
    "def parse_RestaurantsDelivery(x):\n",
    "    a = ast.literal_eval(x)\n",
    "    if a:\n",
    "        return a['RestaurantsDelivery'] if 'RestaurantsDelivery' in a else ''\n",
    "    else:\n",
    "        return ''\n",
    "    \n",
    "def parse_RestaurantsPriceRange(x):\n",
    "    a = ast.literal_eval(x)\n",
    "    if a:\n",
    "        return int(a['RestaurantsPriceRange2']) if 'RestaurantsPriceRange2' in a else ''\n",
    "    else:\n",
    "        return None\n",
    "    \n",
    "def parse_RestaurantsReservations(x):\n",
    "    a = ast.literal_eval(x)\n",
    "    if a:\n",
    "        return a['RestaurantsReservations'] if 'RestaurantsReservations' in a else ''\n",
    "    else:\n",
    "        return ''\n",
    "    \n",
    "def parse_RestaurantsTakeOut(x):\n",
    "    a = ast.literal_eval(x)\n",
    "    if a:\n",
    "        return a['RestaurantsTakeOut'] if 'RestaurantsTakeOut' in a else ''\n",
    "    else:\n",
    "        return ''"
   ]
  },
  {
   "cell_type": "code",
   "execution_count": 20,
   "metadata": {},
   "outputs": [],
   "source": [
    "## test\n",
    "business_2['attributes_BusinessAcceptsCreditCards'] = business_2['attributes'].apply(parse_creditcards)\n",
    "business_2['attributes_GoodForKids'] = business_2['attributes'].apply(parse_goodforkids)\n",
    "business_2['attributes_OutdoorSeating'] = business_2['attributes'].apply(parse_OutdoorSeating)\n",
    "business_2['attributes_BusinessParking'] = business_2['attributes'].apply(parse_BusinessParking)\n",
    "business_2['attributes_RestaurantsDelivery'] = business_2['attributes'].apply(parse_RestaurantsDelivery)\n",
    "business_2['attributes_RestaurantsPriceRange2'] = business_2['attributes'].apply(parse_RestaurantsPriceRange)\n",
    "business_2['attributes_RestaurantsReservations'] = business_2['attributes'].apply(parse_RestaurantsReservations)\n",
    "business_2['attributes_RestaurantsTakeOut'] = business_2['attributes'].apply(parse_RestaurantsTakeOut)"
   ]
  },
  {
   "cell_type": "code",
   "execution_count": 21,
   "metadata": {},
   "outputs": [
    {
     "data": {
      "text/html": [
       "<div>\n",
       "<style scoped>\n",
       "    .dataframe tbody tr th:only-of-type {\n",
       "        vertical-align: middle;\n",
       "    }\n",
       "\n",
       "    .dataframe tbody tr th {\n",
       "        vertical-align: top;\n",
       "    }\n",
       "\n",
       "    .dataframe thead th {\n",
       "        text-align: right;\n",
       "    }\n",
       "</style>\n",
       "<table border=\"1\" class=\"dataframe\">\n",
       "  <thead>\n",
       "    <tr style=\"text-align: right;\">\n",
       "      <th></th>\n",
       "      <th>business_id</th>\n",
       "      <th>name</th>\n",
       "      <th>neighborhood</th>\n",
       "      <th>address</th>\n",
       "      <th>city</th>\n",
       "      <th>state</th>\n",
       "      <th>postal_code</th>\n",
       "      <th>latitude</th>\n",
       "      <th>longitude</th>\n",
       "      <th>stars</th>\n",
       "      <th>...</th>\n",
       "      <th>hours</th>\n",
       "      <th>category</th>\n",
       "      <th>attributes_BusinessAcceptsCreditCards</th>\n",
       "      <th>attributes_GoodForKids</th>\n",
       "      <th>attributes_OutdoorSeating</th>\n",
       "      <th>attributes_BusinessParking</th>\n",
       "      <th>attributes_RestaurantsDelivery</th>\n",
       "      <th>attributes_RestaurantsPriceRange2</th>\n",
       "      <th>attributes_RestaurantsReservations</th>\n",
       "      <th>attributes_RestaurantsTakeOut</th>\n",
       "    </tr>\n",
       "  </thead>\n",
       "  <tbody>\n",
       "    <tr>\n",
       "      <th>0</th>\n",
       "      <td>1gU1ZNbcvk0puuUQjbl23w</td>\n",
       "      <td>Sushi Factory</td>\n",
       "      <td>Southwest</td>\n",
       "      <td>7480 S Rainbow Blvd, Ste C</td>\n",
       "      <td>Las Vegas</td>\n",
       "      <td>NV</td>\n",
       "      <td>89139</td>\n",
       "      <td>36.0527735</td>\n",
       "      <td>-115.2425</td>\n",
       "      <td>4.0</td>\n",
       "      <td>...</td>\n",
       "      <td>{u'Monday': u'11:30-0:0', u'Tuesday': u'11:30-...</td>\n",
       "      <td>restaurants</td>\n",
       "      <td>True</td>\n",
       "      <td>True</td>\n",
       "      <td>False</td>\n",
       "      <td>{'garage': 'False', 'street': 'False', 'valida...</td>\n",
       "      <td>False</td>\n",
       "      <td>2</td>\n",
       "      <td>True</td>\n",
       "      <td>True</td>\n",
       "    </tr>\n",
       "    <tr>\n",
       "      <th>1</th>\n",
       "      <td>4E9twWQwae4ELAKUIVbFpw</td>\n",
       "      <td>The Wax Room</td>\n",
       "      <td>Spring Valley</td>\n",
       "      <td>Studio Salons, 9640 W Tropicana Ave, Room 118</td>\n",
       "      <td>Las Vegas</td>\n",
       "      <td>NV</td>\n",
       "      <td>89147</td>\n",
       "      <td>36.119018261</td>\n",
       "      <td>-115.280227661</td>\n",
       "      <td>5.0</td>\n",
       "      <td>...</td>\n",
       "      <td>{u'Monday': u'9:30-20:0', u'Tuesday': u'9:30-2...</td>\n",
       "      <td>beautysvc</td>\n",
       "      <td>True</td>\n",
       "      <td></td>\n",
       "      <td></td>\n",
       "      <td>{'garage': 'False', 'street': 'False', 'valida...</td>\n",
       "      <td></td>\n",
       "      <td>1</td>\n",
       "      <td></td>\n",
       "      <td></td>\n",
       "    </tr>\n",
       "    <tr>\n",
       "      <th>2</th>\n",
       "      <td>tZW4NLpEYinu4mIxdKj0Pw</td>\n",
       "      <td>The Rose Grill</td>\n",
       "      <td>Downtown</td>\n",
       "      <td>3328 E Charleston Blvd</td>\n",
       "      <td>Las Vegas</td>\n",
       "      <td>NV</td>\n",
       "      <td>89104</td>\n",
       "      <td>36.1585755</td>\n",
       "      <td>-115.0996395</td>\n",
       "      <td>2.5</td>\n",
       "      <td>...</td>\n",
       "      <td>{u'Monday': u'10:0-2:0', u'Tuesday': u'10:0-2:...</td>\n",
       "      <td>restaurants</td>\n",
       "      <td>True</td>\n",
       "      <td></td>\n",
       "      <td>False</td>\n",
       "      <td>{'garage': 'False', 'street': 'False', 'valida...</td>\n",
       "      <td></td>\n",
       "      <td></td>\n",
       "      <td>False</td>\n",
       "      <td>True</td>\n",
       "    </tr>\n",
       "    <tr>\n",
       "      <th>3</th>\n",
       "      <td>MLvSu4zlJID1NtxsDLM09A</td>\n",
       "      <td>Charleston Outlet</td>\n",
       "      <td>Downtown</td>\n",
       "      <td>1548 E Charleston Blvd</td>\n",
       "      <td>Las Vegas</td>\n",
       "      <td>NV</td>\n",
       "      <td>89104</td>\n",
       "      <td>36.1585774</td>\n",
       "      <td>-115.1313389</td>\n",
       "      <td>3.0</td>\n",
       "      <td>...</td>\n",
       "      <td>{u'Monday': u'9:0-21:0', u'Tuesday': u'9:0-21:...</td>\n",
       "      <td>shopping</td>\n",
       "      <td>True</td>\n",
       "      <td></td>\n",
       "      <td></td>\n",
       "      <td>{'garage': 'False', 'street': 'True', 'validat...</td>\n",
       "      <td></td>\n",
       "      <td>1</td>\n",
       "      <td></td>\n",
       "      <td></td>\n",
       "    </tr>\n",
       "    <tr>\n",
       "      <th>4</th>\n",
       "      <td>27vCl2nFGa4q-bHSvMTTuQ</td>\n",
       "      <td>A Welding Shop</td>\n",
       "      <td>Downtown</td>\n",
       "      <td>220 W Wyoming Ave</td>\n",
       "      <td>Las Vegas</td>\n",
       "      <td>NV</td>\n",
       "      <td>89102</td>\n",
       "      <td>36.1527005</td>\n",
       "      <td>-115.1586001</td>\n",
       "      <td>3.5</td>\n",
       "      <td>...</td>\n",
       "      <td>{u'Friday': u'8:30-15:30', u'Tuesday': u'8:30-...</td>\n",
       "      <td>localservices</td>\n",
       "      <td></td>\n",
       "      <td></td>\n",
       "      <td></td>\n",
       "      <td></td>\n",
       "      <td></td>\n",
       "      <td>None</td>\n",
       "      <td></td>\n",
       "      <td></td>\n",
       "    </tr>\n",
       "  </tbody>\n",
       "</table>\n",
       "<p>5 rows × 23 columns</p>\n",
       "</div>"
      ],
      "text/plain": [
       "              business_id               name   neighborhood  \\\n",
       "0  1gU1ZNbcvk0puuUQjbl23w      Sushi Factory      Southwest   \n",
       "1  4E9twWQwae4ELAKUIVbFpw       The Wax Room  Spring Valley   \n",
       "2  tZW4NLpEYinu4mIxdKj0Pw     The Rose Grill       Downtown   \n",
       "3  MLvSu4zlJID1NtxsDLM09A  Charleston Outlet       Downtown   \n",
       "4  27vCl2nFGa4q-bHSvMTTuQ     A Welding Shop       Downtown   \n",
       "\n",
       "                                         address       city state postal_code  \\\n",
       "0                     7480 S Rainbow Blvd, Ste C  Las Vegas    NV       89139   \n",
       "1  Studio Salons, 9640 W Tropicana Ave, Room 118  Las Vegas    NV       89147   \n",
       "2                         3328 E Charleston Blvd  Las Vegas    NV       89104   \n",
       "3                         1548 E Charleston Blvd  Las Vegas    NV       89104   \n",
       "4                              220 W Wyoming Ave  Las Vegas    NV       89102   \n",
       "\n",
       "       latitude       longitude  stars              ...               \\\n",
       "0    36.0527735       -115.2425    4.0              ...                \n",
       "1  36.119018261  -115.280227661    5.0              ...                \n",
       "2    36.1585755    -115.0996395    2.5              ...                \n",
       "3    36.1585774    -115.1313389    3.0              ...                \n",
       "4    36.1527005    -115.1586001    3.5              ...                \n",
       "\n",
       "                                               hours       category  \\\n",
       "0  {u'Monday': u'11:30-0:0', u'Tuesday': u'11:30-...    restaurants   \n",
       "1  {u'Monday': u'9:30-20:0', u'Tuesday': u'9:30-2...      beautysvc   \n",
       "2  {u'Monday': u'10:0-2:0', u'Tuesday': u'10:0-2:...    restaurants   \n",
       "3  {u'Monday': u'9:0-21:0', u'Tuesday': u'9:0-21:...       shopping   \n",
       "4  {u'Friday': u'8:30-15:30', u'Tuesday': u'8:30-...  localservices   \n",
       "\n",
       "  attributes_BusinessAcceptsCreditCards attributes_GoodForKids  \\\n",
       "0                                  True                   True   \n",
       "1                                  True                          \n",
       "2                                  True                          \n",
       "3                                  True                          \n",
       "4                                                                \n",
       "\n",
       "  attributes_OutdoorSeating  \\\n",
       "0                     False   \n",
       "1                             \n",
       "2                     False   \n",
       "3                             \n",
       "4                             \n",
       "\n",
       "                          attributes_BusinessParking  \\\n",
       "0  {'garage': 'False', 'street': 'False', 'valida...   \n",
       "1  {'garage': 'False', 'street': 'False', 'valida...   \n",
       "2  {'garage': 'False', 'street': 'False', 'valida...   \n",
       "3  {'garage': 'False', 'street': 'True', 'validat...   \n",
       "4                                                      \n",
       "\n",
       "  attributes_RestaurantsDelivery attributes_RestaurantsPriceRange2  \\\n",
       "0                          False                                 2   \n",
       "1                                                                1   \n",
       "2                                                                    \n",
       "3                                                                1   \n",
       "4                                                             None   \n",
       "\n",
       "  attributes_RestaurantsReservations attributes_RestaurantsTakeOut  \n",
       "0                               True                          True  \n",
       "1                                                                   \n",
       "2                              False                          True  \n",
       "3                                                                   \n",
       "4                                                                   \n",
       "\n",
       "[5 rows x 23 columns]"
      ]
     },
     "execution_count": 21,
     "metadata": {},
     "output_type": "execute_result"
    }
   ],
   "source": [
    "business_2.head()"
   ]
  },
  {
   "cell_type": "code",
   "execution_count": 22,
   "metadata": {},
   "outputs": [
    {
     "data": {
      "text/html": [
       "<div>\n",
       "<style scoped>\n",
       "    .dataframe tbody tr th:only-of-type {\n",
       "        vertical-align: middle;\n",
       "    }\n",
       "\n",
       "    .dataframe tbody tr th {\n",
       "        vertical-align: top;\n",
       "    }\n",
       "\n",
       "    .dataframe thead th {\n",
       "        text-align: right;\n",
       "    }\n",
       "</style>\n",
       "<table border=\"1\" class=\"dataframe\">\n",
       "  <thead>\n",
       "    <tr style=\"text-align: right;\">\n",
       "      <th></th>\n",
       "      <th>business_id</th>\n",
       "      <th>name</th>\n",
       "      <th>neighborhood</th>\n",
       "      <th>address</th>\n",
       "      <th>city</th>\n",
       "      <th>state</th>\n",
       "      <th>postal_code</th>\n",
       "      <th>latitude</th>\n",
       "      <th>longitude</th>\n",
       "      <th>stars</th>\n",
       "      <th>...</th>\n",
       "      <th>hours</th>\n",
       "      <th>category</th>\n",
       "      <th>attributes_BusinessAcceptsCreditCards</th>\n",
       "      <th>attributes_GoodForKids</th>\n",
       "      <th>attributes_OutdoorSeating</th>\n",
       "      <th>attributes_BusinessParking</th>\n",
       "      <th>attributes_RestaurantsDelivery</th>\n",
       "      <th>attributes_RestaurantsPriceRange2</th>\n",
       "      <th>attributes_RestaurantsReservations</th>\n",
       "      <th>attributes_RestaurantsTakeOut</th>\n",
       "    </tr>\n",
       "  </thead>\n",
       "  <tbody>\n",
       "    <tr>\n",
       "      <th>2</th>\n",
       "      <td>tZW4NLpEYinu4mIxdKj0Pw</td>\n",
       "      <td>The Rose Grill</td>\n",
       "      <td>Downtown</td>\n",
       "      <td>3328 E Charleston Blvd</td>\n",
       "      <td>Las Vegas</td>\n",
       "      <td>NV</td>\n",
       "      <td>89104</td>\n",
       "      <td>36.1585755</td>\n",
       "      <td>-115.0996395</td>\n",
       "      <td>2.5</td>\n",
       "      <td>...</td>\n",
       "      <td>{u'Monday': u'10:0-2:0', u'Tuesday': u'10:0-2:...</td>\n",
       "      <td>restaurants</td>\n",
       "      <td>True</td>\n",
       "      <td></td>\n",
       "      <td>False</td>\n",
       "      <td>{'garage': 'False', 'street': 'False', 'valida...</td>\n",
       "      <td></td>\n",
       "      <td></td>\n",
       "      <td>False</td>\n",
       "      <td>True</td>\n",
       "    </tr>\n",
       "  </tbody>\n",
       "</table>\n",
       "<p>1 rows × 23 columns</p>\n",
       "</div>"
      ],
      "text/plain": [
       "              business_id            name neighborhood  \\\n",
       "2  tZW4NLpEYinu4mIxdKj0Pw  The Rose Grill     Downtown   \n",
       "\n",
       "                  address       city state postal_code    latitude  \\\n",
       "2  3328 E Charleston Blvd  Las Vegas    NV       89104  36.1585755   \n",
       "\n",
       "      longitude  stars              ...               \\\n",
       "2  -115.0996395    2.5              ...                \n",
       "\n",
       "                                               hours     category  \\\n",
       "2  {u'Monday': u'10:0-2:0', u'Tuesday': u'10:0-2:...  restaurants   \n",
       "\n",
       "  attributes_BusinessAcceptsCreditCards attributes_GoodForKids  \\\n",
       "2                                  True                          \n",
       "\n",
       "  attributes_OutdoorSeating  \\\n",
       "2                     False   \n",
       "\n",
       "                          attributes_BusinessParking  \\\n",
       "2  {'garage': 'False', 'street': 'False', 'valida...   \n",
       "\n",
       "  attributes_RestaurantsDelivery attributes_RestaurantsPriceRange2  \\\n",
       "2                                                                    \n",
       "\n",
       "  attributes_RestaurantsReservations attributes_RestaurantsTakeOut  \n",
       "2                              False                          True  \n",
       "\n",
       "[1 rows x 23 columns]"
      ]
     },
     "execution_count": 22,
     "metadata": {},
     "output_type": "execute_result"
    }
   ],
   "source": [
    "business_2[business_2.business_id == 'tZW4NLpEYinu4mIxdKj0Pw']"
   ]
  },
  {
   "cell_type": "code",
   "execution_count": 23,
   "metadata": {},
   "outputs": [
    {
     "data": {
      "text/plain": [
       "       10662\n",
       "2       8411\n",
       "1       5142\n",
       "NaN     4389\n",
       "3       1346\n",
       "4        480\n",
       "Name: attributes_RestaurantsPriceRange2, dtype: int64"
      ]
     },
     "execution_count": 23,
     "metadata": {},
     "output_type": "execute_result"
    }
   ],
   "source": [
    "business_2.attributes_RestaurantsPriceRange2.value_counts(dropna=False)"
   ]
  },
  {
   "cell_type": "code",
   "execution_count": 24,
   "metadata": {},
   "outputs": [
    {
     "data": {
      "text/plain": [
       "         21562\n",
       "True      7043\n",
       "False     1825\n",
       "Name: attributes_GoodForKids, dtype: int64"
      ]
     },
     "execution_count": 24,
     "metadata": {},
     "output_type": "execute_result"
    }
   ],
   "source": [
    "business_2.attributes_GoodForKids.value_counts(dropna=False)"
   ]
  },
  {
   "cell_type": "code",
   "execution_count": 25,
   "metadata": {},
   "outputs": [
    {
     "data": {
      "text/plain": [
       "         24133\n",
       "False     4296\n",
       "True      2001\n",
       "Name: attributes_RestaurantsReservations, dtype: int64"
      ]
     },
     "execution_count": 25,
     "metadata": {},
     "output_type": "execute_result"
    }
   ],
   "source": [
    "business_2.attributes_RestaurantsReservations.value_counts(dropna=False)"
   ]
  },
  {
   "cell_type": "code",
   "execution_count": 26,
   "metadata": {},
   "outputs": [
    {
     "data": {
      "text/plain": [
       "True     22524\n",
       "          6454\n",
       "False     1452\n",
       "Name: attributes_BusinessAcceptsCreditCards, dtype: int64"
      ]
     },
     "execution_count": 26,
     "metadata": {},
     "output_type": "execute_result"
    }
   ],
   "source": [
    "business_2.attributes_BusinessAcceptsCreditCards.value_counts(dropna=False)"
   ]
  },
  {
   "cell_type": "code",
   "execution_count": 27,
   "metadata": {},
   "outputs": [
    {
     "data": {
      "text/plain": [
       "30430"
      ]
     },
     "execution_count": 27,
     "metadata": {},
     "output_type": "execute_result"
    }
   ],
   "source": [
    "len(pd.unique(business_2.business_id))"
   ]
  },
  {
   "cell_type": "markdown",
   "metadata": {},
   "source": [
    "## Dealing with Nulls"
   ]
  },
  {
   "cell_type": "code",
   "execution_count": 28,
   "metadata": {},
   "outputs": [],
   "source": [
    "df_rest_3 = business_2.copy()"
   ]
  },
  {
   "cell_type": "code",
   "execution_count": 29,
   "metadata": {},
   "outputs": [
    {
     "data": {
      "text/plain": [
       "30430"
      ]
     },
     "execution_count": 29,
     "metadata": {},
     "output_type": "execute_result"
    }
   ],
   "source": [
    "len(pd.unique(df_rest_3.business_id))"
   ]
  },
  {
   "cell_type": "code",
   "execution_count": 30,
   "metadata": {},
   "outputs": [],
   "source": [
    "rest_null = pd.DataFrame(df_rest_3.isnull().sum(), columns = ['missing_sum'])"
   ]
  },
  {
   "cell_type": "code",
   "execution_count": 31,
   "metadata": {},
   "outputs": [],
   "source": [
    "#rest_null.sort_values(by='missing_sum')"
   ]
  },
  {
   "cell_type": "code",
   "execution_count": 32,
   "metadata": {},
   "outputs": [],
   "source": [
    "# Keeping the ones with less number of nulls\n",
    "df_rest_3 = df_rest_3[['business_id', 'city', 'review_count', 'stars', 'state',\n",
    "       'category','attributes_BusinessAcceptsCreditCards',\n",
    "       'attributes_GoodForKids','attributes_OutdoorSeating', 'attributes_BusinessParking',\n",
    "        'attributes_RestaurantsDelivery', 'attributes_RestaurantsPriceRange2',\n",
    "       'attributes_RestaurantsReservations', 'attributes_RestaurantsTakeOut', 'neighborhood', 'latitude', 'longitude'\n",
    "        ]]"
   ]
  },
  {
   "cell_type": "code",
   "execution_count": 33,
   "metadata": {},
   "outputs": [
    {
     "data": {
      "text/plain": [
       "True     22524\n",
       "          6454\n",
       "False     1452\n",
       "Name: attributes_BusinessAcceptsCreditCards, dtype: int64"
      ]
     },
     "execution_count": 33,
     "metadata": {},
     "output_type": "execute_result"
    }
   ],
   "source": [
    "df_rest_3.attributes_BusinessAcceptsCreditCards.value_counts()"
   ]
  },
  {
   "cell_type": "code",
   "execution_count": 34,
   "metadata": {},
   "outputs": [
    {
     "data": {
      "text/plain": [
       "         21562\n",
       "True      7043\n",
       "False     1825\n",
       "Name: attributes_GoodForKids, dtype: int64"
      ]
     },
     "execution_count": 34,
     "metadata": {},
     "output_type": "execute_result"
    }
   ],
   "source": [
    "df_rest_3.attributes_GoodForKids.value_counts()"
   ]
  },
  {
   "cell_type": "code",
   "execution_count": 35,
   "metadata": {},
   "outputs": [
    {
     "data": {
      "text/plain": [
       "         23413\n",
       "False     5080\n",
       "True      1937\n",
       "Name: attributes_OutdoorSeating, dtype: int64"
      ]
     },
     "execution_count": 35,
     "metadata": {},
     "output_type": "execute_result"
    }
   ],
   "source": [
    "df_rest_3.attributes_OutdoorSeating.value_counts()"
   ]
  },
  {
   "cell_type": "code",
   "execution_count": 36,
   "metadata": {},
   "outputs": [
    {
     "data": {
      "text/plain": [
       "         24229\n",
       "False     4668\n",
       "True      1533\n",
       "Name: attributes_RestaurantsDelivery, dtype: int64"
      ]
     },
     "execution_count": 36,
     "metadata": {},
     "output_type": "execute_result"
    }
   ],
   "source": [
    "df_rest_3.attributes_RestaurantsDelivery.value_counts()"
   ]
  },
  {
   "cell_type": "code",
   "execution_count": 37,
   "metadata": {},
   "outputs": [
    {
     "data": {
      "text/plain": [
       "     10662\n",
       "2     8411\n",
       "1     5142\n",
       "3     1346\n",
       "4      480\n",
       "Name: attributes_RestaurantsPriceRange2, dtype: int64"
      ]
     },
     "execution_count": 37,
     "metadata": {},
     "output_type": "execute_result"
    }
   ],
   "source": [
    "df_rest_3.attributes_RestaurantsPriceRange2.value_counts()"
   ]
  },
  {
   "cell_type": "code",
   "execution_count": 38,
   "metadata": {},
   "outputs": [
    {
     "data": {
      "text/plain": [
       "         24133\n",
       "False     4296\n",
       "True      2001\n",
       "Name: attributes_RestaurantsReservations, dtype: int64"
      ]
     },
     "execution_count": 38,
     "metadata": {},
     "output_type": "execute_result"
    }
   ],
   "source": [
    "df_rest_3.attributes_RestaurantsReservations.value_counts()"
   ]
  },
  {
   "cell_type": "code",
   "execution_count": 39,
   "metadata": {},
   "outputs": [
    {
     "data": {
      "text/plain": [
       "         23090\n",
       "True      6505\n",
       "False      835\n",
       "Name: attributes_RestaurantsTakeOut, dtype: int64"
      ]
     },
     "execution_count": 39,
     "metadata": {},
     "output_type": "execute_result"
    }
   ],
   "source": [
    "df_rest_3.attributes_RestaurantsTakeOut.value_counts()"
   ]
  },
  {
   "cell_type": "code",
   "execution_count": 40,
   "metadata": {},
   "outputs": [],
   "source": [
    "df_rest_3.attributes_BusinessAcceptsCreditCards = df_rest_3.attributes_BusinessAcceptsCreditCards.map({'True':1, 'False':0})\n",
    "df_rest_3.attributes_GoodForKids = df_rest_3.attributes_GoodForKids.map({'True':1, 'False':0})\n",
    "df_rest_3.attributes_OutdoorSeating = df_rest_3.attributes_OutdoorSeating.map({'True':1, 'False':0})\n",
    "#rest.attributes_BusinessParking = rest.attributes_BusinessParking.map({True:1, False:0})\n",
    "df_rest_3.attributes_RestaurantsDelivery = df_rest_3.attributes_RestaurantsDelivery.map({'True':1, 'False':0})\n",
    "df_rest_3.attributes_RestaurantsPriceRange2 = df_rest_3.attributes_RestaurantsPriceRange2.map({1:1, 2:2,3:3,4:4})\n",
    "df_rest_3.attributes_RestaurantsReservations = df_rest_3.attributes_RestaurantsReservations.map({'True':1, 'False':0})\n",
    "df_rest_3.attributes_RestaurantsTakeOut = df_rest_3.attributes_RestaurantsTakeOut.map({'True':1, 'False':0})"
   ]
  },
  {
   "cell_type": "code",
   "execution_count": 41,
   "metadata": {},
   "outputs": [
    {
     "data": {
      "text/html": [
       "<div>\n",
       "<style scoped>\n",
       "    .dataframe tbody tr th:only-of-type {\n",
       "        vertical-align: middle;\n",
       "    }\n",
       "\n",
       "    .dataframe tbody tr th {\n",
       "        vertical-align: top;\n",
       "    }\n",
       "\n",
       "    .dataframe thead th {\n",
       "        text-align: right;\n",
       "    }\n",
       "</style>\n",
       "<table border=\"1\" class=\"dataframe\">\n",
       "  <thead>\n",
       "    <tr style=\"text-align: right;\">\n",
       "      <th></th>\n",
       "      <th>business_id</th>\n",
       "      <th>city</th>\n",
       "      <th>review_count</th>\n",
       "      <th>stars</th>\n",
       "      <th>state</th>\n",
       "      <th>category</th>\n",
       "      <th>attributes_BusinessAcceptsCreditCards</th>\n",
       "      <th>attributes_GoodForKids</th>\n",
       "      <th>attributes_OutdoorSeating</th>\n",
       "      <th>attributes_BusinessParking</th>\n",
       "      <th>attributes_RestaurantsDelivery</th>\n",
       "      <th>attributes_RestaurantsPriceRange2</th>\n",
       "      <th>attributes_RestaurantsReservations</th>\n",
       "      <th>attributes_RestaurantsTakeOut</th>\n",
       "      <th>neighborhood</th>\n",
       "      <th>latitude</th>\n",
       "      <th>longitude</th>\n",
       "    </tr>\n",
       "  </thead>\n",
       "  <tbody>\n",
       "    <tr>\n",
       "      <th>0</th>\n",
       "      <td>1gU1ZNbcvk0puuUQjbl23w</td>\n",
       "      <td>Las Vegas</td>\n",
       "      <td>152</td>\n",
       "      <td>4.0</td>\n",
       "      <td>NV</td>\n",
       "      <td>restaurants</td>\n",
       "      <td>1.0</td>\n",
       "      <td>1.0</td>\n",
       "      <td>0.0</td>\n",
       "      <td>{'garage': 'False', 'street': 'False', 'valida...</td>\n",
       "      <td>0.0</td>\n",
       "      <td>2.0</td>\n",
       "      <td>1.0</td>\n",
       "      <td>1.0</td>\n",
       "      <td>Southwest</td>\n",
       "      <td>36.0527735</td>\n",
       "      <td>-115.2425</td>\n",
       "    </tr>\n",
       "    <tr>\n",
       "      <th>1</th>\n",
       "      <td>4E9twWQwae4ELAKUIVbFpw</td>\n",
       "      <td>Las Vegas</td>\n",
       "      <td>3</td>\n",
       "      <td>5.0</td>\n",
       "      <td>NV</td>\n",
       "      <td>beautysvc</td>\n",
       "      <td>1.0</td>\n",
       "      <td>NaN</td>\n",
       "      <td>NaN</td>\n",
       "      <td>{'garage': 'False', 'street': 'False', 'valida...</td>\n",
       "      <td>NaN</td>\n",
       "      <td>1.0</td>\n",
       "      <td>NaN</td>\n",
       "      <td>NaN</td>\n",
       "      <td>Spring Valley</td>\n",
       "      <td>36.119018261</td>\n",
       "      <td>-115.280227661</td>\n",
       "    </tr>\n",
       "    <tr>\n",
       "      <th>2</th>\n",
       "      <td>tZW4NLpEYinu4mIxdKj0Pw</td>\n",
       "      <td>Las Vegas</td>\n",
       "      <td>7</td>\n",
       "      <td>2.5</td>\n",
       "      <td>NV</td>\n",
       "      <td>restaurants</td>\n",
       "      <td>1.0</td>\n",
       "      <td>NaN</td>\n",
       "      <td>0.0</td>\n",
       "      <td>{'garage': 'False', 'street': 'False', 'valida...</td>\n",
       "      <td>NaN</td>\n",
       "      <td>NaN</td>\n",
       "      <td>0.0</td>\n",
       "      <td>1.0</td>\n",
       "      <td>Downtown</td>\n",
       "      <td>36.1585755</td>\n",
       "      <td>-115.0996395</td>\n",
       "    </tr>\n",
       "    <tr>\n",
       "      <th>3</th>\n",
       "      <td>MLvSu4zlJID1NtxsDLM09A</td>\n",
       "      <td>Las Vegas</td>\n",
       "      <td>17</td>\n",
       "      <td>3.0</td>\n",
       "      <td>NV</td>\n",
       "      <td>shopping</td>\n",
       "      <td>1.0</td>\n",
       "      <td>NaN</td>\n",
       "      <td>NaN</td>\n",
       "      <td>{'garage': 'False', 'street': 'True', 'validat...</td>\n",
       "      <td>NaN</td>\n",
       "      <td>1.0</td>\n",
       "      <td>NaN</td>\n",
       "      <td>NaN</td>\n",
       "      <td>Downtown</td>\n",
       "      <td>36.1585774</td>\n",
       "      <td>-115.1313389</td>\n",
       "    </tr>\n",
       "    <tr>\n",
       "      <th>4</th>\n",
       "      <td>27vCl2nFGa4q-bHSvMTTuQ</td>\n",
       "      <td>Las Vegas</td>\n",
       "      <td>3</td>\n",
       "      <td>3.5</td>\n",
       "      <td>NV</td>\n",
       "      <td>localservices</td>\n",
       "      <td>NaN</td>\n",
       "      <td>NaN</td>\n",
       "      <td>NaN</td>\n",
       "      <td></td>\n",
       "      <td>NaN</td>\n",
       "      <td>NaN</td>\n",
       "      <td>NaN</td>\n",
       "      <td>NaN</td>\n",
       "      <td>Downtown</td>\n",
       "      <td>36.1527005</td>\n",
       "      <td>-115.1586001</td>\n",
       "    </tr>\n",
       "  </tbody>\n",
       "</table>\n",
       "</div>"
      ],
      "text/plain": [
       "              business_id       city  review_count  stars state  \\\n",
       "0  1gU1ZNbcvk0puuUQjbl23w  Las Vegas           152    4.0    NV   \n",
       "1  4E9twWQwae4ELAKUIVbFpw  Las Vegas             3    5.0    NV   \n",
       "2  tZW4NLpEYinu4mIxdKj0Pw  Las Vegas             7    2.5    NV   \n",
       "3  MLvSu4zlJID1NtxsDLM09A  Las Vegas            17    3.0    NV   \n",
       "4  27vCl2nFGa4q-bHSvMTTuQ  Las Vegas             3    3.5    NV   \n",
       "\n",
       "        category  attributes_BusinessAcceptsCreditCards  \\\n",
       "0    restaurants                                    1.0   \n",
       "1      beautysvc                                    1.0   \n",
       "2    restaurants                                    1.0   \n",
       "3       shopping                                    1.0   \n",
       "4  localservices                                    NaN   \n",
       "\n",
       "   attributes_GoodForKids  attributes_OutdoorSeating  \\\n",
       "0                     1.0                        0.0   \n",
       "1                     NaN                        NaN   \n",
       "2                     NaN                        0.0   \n",
       "3                     NaN                        NaN   \n",
       "4                     NaN                        NaN   \n",
       "\n",
       "                          attributes_BusinessParking  \\\n",
       "0  {'garage': 'False', 'street': 'False', 'valida...   \n",
       "1  {'garage': 'False', 'street': 'False', 'valida...   \n",
       "2  {'garage': 'False', 'street': 'False', 'valida...   \n",
       "3  {'garage': 'False', 'street': 'True', 'validat...   \n",
       "4                                                      \n",
       "\n",
       "   attributes_RestaurantsDelivery  attributes_RestaurantsPriceRange2  \\\n",
       "0                             0.0                                2.0   \n",
       "1                             NaN                                1.0   \n",
       "2                             NaN                                NaN   \n",
       "3                             NaN                                1.0   \n",
       "4                             NaN                                NaN   \n",
       "\n",
       "   attributes_RestaurantsReservations  attributes_RestaurantsTakeOut  \\\n",
       "0                                 1.0                            1.0   \n",
       "1                                 NaN                            NaN   \n",
       "2                                 0.0                            1.0   \n",
       "3                                 NaN                            NaN   \n",
       "4                                 NaN                            NaN   \n",
       "\n",
       "    neighborhood      latitude       longitude  \n",
       "0      Southwest    36.0527735       -115.2425  \n",
       "1  Spring Valley  36.119018261  -115.280227661  \n",
       "2       Downtown    36.1585755    -115.0996395  \n",
       "3       Downtown    36.1585774    -115.1313389  \n",
       "4       Downtown    36.1527005    -115.1586001  "
      ]
     },
     "execution_count": 41,
     "metadata": {},
     "output_type": "execute_result"
    }
   ],
   "source": [
    "df_rest_3.head()"
   ]
  },
  {
   "cell_type": "code",
   "execution_count": 42,
   "metadata": {},
   "outputs": [
    {
     "data": {
      "text/plain": [
       "(30430, 17)"
      ]
     },
     "execution_count": 42,
     "metadata": {},
     "output_type": "execute_result"
    }
   ],
   "source": [
    "df_rest_3.shape"
   ]
  },
  {
   "cell_type": "code",
   "execution_count": 43,
   "metadata": {},
   "outputs": [
    {
     "data": {
      "text/plain": [
       "30430"
      ]
     },
     "execution_count": 43,
     "metadata": {},
     "output_type": "execute_result"
    }
   ],
   "source": [
    "len(pd.unique(df_rest_3.business_id))"
   ]
  },
  {
   "cell_type": "code",
   "execution_count": 44,
   "metadata": {},
   "outputs": [],
   "source": [
    "#df_rest_2['attributes_RestaurantsPriceRange2'].values"
   ]
  },
  {
   "cell_type": "code",
   "execution_count": 45,
   "metadata": {},
   "outputs": [],
   "source": [
    "df_rest_3.attributes_BusinessAcceptsCreditCards.fillna(round(df_rest_3.attributes_BusinessAcceptsCreditCards.mean(),2), inplace = True)\n",
    "df_rest_3.attributes_GoodForKids.fillna(round(df_rest_3.attributes_GoodForKids.mean(),2), inplace = True)\n",
    "df_rest_3.attributes_OutdoorSeating.fillna(round(df_rest_3.attributes_OutdoorSeating.mean(),2), inplace = True)\n",
    "#rest.attributes_BusinessParking = rest.attributes_BusinessParking.map({True:1, False:0})\n",
    "df_rest_3.attributes_RestaurantsDelivery.fillna(round(df_rest_3.attributes_RestaurantsDelivery.mean(),2), inplace = True)\n",
    "df_rest_3.attributes_RestaurantsPriceRange2.fillna(round(df_rest_3.attributes_RestaurantsPriceRange2.mean(),2), inplace = True)\n",
    "df_rest_3.attributes_RestaurantsReservations.fillna(round(df_rest_3.attributes_RestaurantsReservations.mean(),2), inplace = True)\n",
    "df_rest_3.attributes_RestaurantsTakeOut.fillna(round(df_rest_3.attributes_RestaurantsTakeOut.mean(),2), inplace = True)"
   ]
  },
  {
   "cell_type": "code",
   "execution_count": 46,
   "metadata": {},
   "outputs": [
    {
     "data": {
      "text/html": [
       "<div>\n",
       "<style scoped>\n",
       "    .dataframe tbody tr th:only-of-type {\n",
       "        vertical-align: middle;\n",
       "    }\n",
       "\n",
       "    .dataframe tbody tr th {\n",
       "        vertical-align: top;\n",
       "    }\n",
       "\n",
       "    .dataframe thead th {\n",
       "        text-align: right;\n",
       "    }\n",
       "</style>\n",
       "<table border=\"1\" class=\"dataframe\">\n",
       "  <thead>\n",
       "    <tr style=\"text-align: right;\">\n",
       "      <th></th>\n",
       "      <th>business_id</th>\n",
       "      <th>city</th>\n",
       "      <th>review_count</th>\n",
       "      <th>stars</th>\n",
       "      <th>state</th>\n",
       "      <th>category</th>\n",
       "      <th>attributes_BusinessAcceptsCreditCards</th>\n",
       "      <th>attributes_GoodForKids</th>\n",
       "      <th>attributes_OutdoorSeating</th>\n",
       "      <th>attributes_BusinessParking</th>\n",
       "      <th>attributes_RestaurantsDelivery</th>\n",
       "      <th>attributes_RestaurantsPriceRange2</th>\n",
       "      <th>attributes_RestaurantsReservations</th>\n",
       "      <th>attributes_RestaurantsTakeOut</th>\n",
       "      <th>neighborhood</th>\n",
       "      <th>latitude</th>\n",
       "      <th>longitude</th>\n",
       "    </tr>\n",
       "  </thead>\n",
       "  <tbody>\n",
       "    <tr>\n",
       "      <th>0</th>\n",
       "      <td>1gU1ZNbcvk0puuUQjbl23w</td>\n",
       "      <td>Las Vegas</td>\n",
       "      <td>152</td>\n",
       "      <td>4.0</td>\n",
       "      <td>NV</td>\n",
       "      <td>restaurants</td>\n",
       "      <td>1.00</td>\n",
       "      <td>1.00</td>\n",
       "      <td>0.00</td>\n",
       "      <td>{'garage': 'False', 'street': 'False', 'valida...</td>\n",
       "      <td>0.00</td>\n",
       "      <td>2.00</td>\n",
       "      <td>1.00</td>\n",
       "      <td>1.00</td>\n",
       "      <td>Southwest</td>\n",
       "      <td>36.0527735</td>\n",
       "      <td>-115.2425</td>\n",
       "    </tr>\n",
       "    <tr>\n",
       "      <th>1</th>\n",
       "      <td>4E9twWQwae4ELAKUIVbFpw</td>\n",
       "      <td>Las Vegas</td>\n",
       "      <td>3</td>\n",
       "      <td>5.0</td>\n",
       "      <td>NV</td>\n",
       "      <td>beautysvc</td>\n",
       "      <td>1.00</td>\n",
       "      <td>0.79</td>\n",
       "      <td>0.28</td>\n",
       "      <td>{'garage': 'False', 'street': 'False', 'valida...</td>\n",
       "      <td>0.25</td>\n",
       "      <td>1.00</td>\n",
       "      <td>0.32</td>\n",
       "      <td>0.89</td>\n",
       "      <td>Spring Valley</td>\n",
       "      <td>36.119018261</td>\n",
       "      <td>-115.280227661</td>\n",
       "    </tr>\n",
       "    <tr>\n",
       "      <th>2</th>\n",
       "      <td>tZW4NLpEYinu4mIxdKj0Pw</td>\n",
       "      <td>Las Vegas</td>\n",
       "      <td>7</td>\n",
       "      <td>2.5</td>\n",
       "      <td>NV</td>\n",
       "      <td>restaurants</td>\n",
       "      <td>1.00</td>\n",
       "      <td>0.79</td>\n",
       "      <td>0.00</td>\n",
       "      <td>{'garage': 'False', 'street': 'False', 'valida...</td>\n",
       "      <td>0.25</td>\n",
       "      <td>1.82</td>\n",
       "      <td>0.00</td>\n",
       "      <td>1.00</td>\n",
       "      <td>Downtown</td>\n",
       "      <td>36.1585755</td>\n",
       "      <td>-115.0996395</td>\n",
       "    </tr>\n",
       "    <tr>\n",
       "      <th>3</th>\n",
       "      <td>MLvSu4zlJID1NtxsDLM09A</td>\n",
       "      <td>Las Vegas</td>\n",
       "      <td>17</td>\n",
       "      <td>3.0</td>\n",
       "      <td>NV</td>\n",
       "      <td>shopping</td>\n",
       "      <td>1.00</td>\n",
       "      <td>0.79</td>\n",
       "      <td>0.28</td>\n",
       "      <td>{'garage': 'False', 'street': 'True', 'validat...</td>\n",
       "      <td>0.25</td>\n",
       "      <td>1.00</td>\n",
       "      <td>0.32</td>\n",
       "      <td>0.89</td>\n",
       "      <td>Downtown</td>\n",
       "      <td>36.1585774</td>\n",
       "      <td>-115.1313389</td>\n",
       "    </tr>\n",
       "    <tr>\n",
       "      <th>4</th>\n",
       "      <td>27vCl2nFGa4q-bHSvMTTuQ</td>\n",
       "      <td>Las Vegas</td>\n",
       "      <td>3</td>\n",
       "      <td>3.5</td>\n",
       "      <td>NV</td>\n",
       "      <td>localservices</td>\n",
       "      <td>0.94</td>\n",
       "      <td>0.79</td>\n",
       "      <td>0.28</td>\n",
       "      <td></td>\n",
       "      <td>0.25</td>\n",
       "      <td>1.82</td>\n",
       "      <td>0.32</td>\n",
       "      <td>0.89</td>\n",
       "      <td>Downtown</td>\n",
       "      <td>36.1527005</td>\n",
       "      <td>-115.1586001</td>\n",
       "    </tr>\n",
       "  </tbody>\n",
       "</table>\n",
       "</div>"
      ],
      "text/plain": [
       "              business_id       city  review_count  stars state  \\\n",
       "0  1gU1ZNbcvk0puuUQjbl23w  Las Vegas           152    4.0    NV   \n",
       "1  4E9twWQwae4ELAKUIVbFpw  Las Vegas             3    5.0    NV   \n",
       "2  tZW4NLpEYinu4mIxdKj0Pw  Las Vegas             7    2.5    NV   \n",
       "3  MLvSu4zlJID1NtxsDLM09A  Las Vegas            17    3.0    NV   \n",
       "4  27vCl2nFGa4q-bHSvMTTuQ  Las Vegas             3    3.5    NV   \n",
       "\n",
       "        category  attributes_BusinessAcceptsCreditCards  \\\n",
       "0    restaurants                                   1.00   \n",
       "1      beautysvc                                   1.00   \n",
       "2    restaurants                                   1.00   \n",
       "3       shopping                                   1.00   \n",
       "4  localservices                                   0.94   \n",
       "\n",
       "   attributes_GoodForKids  attributes_OutdoorSeating  \\\n",
       "0                    1.00                       0.00   \n",
       "1                    0.79                       0.28   \n",
       "2                    0.79                       0.00   \n",
       "3                    0.79                       0.28   \n",
       "4                    0.79                       0.28   \n",
       "\n",
       "                          attributes_BusinessParking  \\\n",
       "0  {'garage': 'False', 'street': 'False', 'valida...   \n",
       "1  {'garage': 'False', 'street': 'False', 'valida...   \n",
       "2  {'garage': 'False', 'street': 'False', 'valida...   \n",
       "3  {'garage': 'False', 'street': 'True', 'validat...   \n",
       "4                                                      \n",
       "\n",
       "   attributes_RestaurantsDelivery  attributes_RestaurantsPriceRange2  \\\n",
       "0                            0.00                               2.00   \n",
       "1                            0.25                               1.00   \n",
       "2                            0.25                               1.82   \n",
       "3                            0.25                               1.00   \n",
       "4                            0.25                               1.82   \n",
       "\n",
       "   attributes_RestaurantsReservations  attributes_RestaurantsTakeOut  \\\n",
       "0                                1.00                           1.00   \n",
       "1                                0.32                           0.89   \n",
       "2                                0.00                           1.00   \n",
       "3                                0.32                           0.89   \n",
       "4                                0.32                           0.89   \n",
       "\n",
       "    neighborhood      latitude       longitude  \n",
       "0      Southwest    36.0527735       -115.2425  \n",
       "1  Spring Valley  36.119018261  -115.280227661  \n",
       "2       Downtown    36.1585755    -115.0996395  \n",
       "3       Downtown    36.1585774    -115.1313389  \n",
       "4       Downtown    36.1527005    -115.1586001  "
      ]
     },
     "execution_count": 46,
     "metadata": {},
     "output_type": "execute_result"
    }
   ],
   "source": [
    "df_rest_3.head()"
   ]
  },
  {
   "cell_type": "markdown",
   "metadata": {},
   "source": [
    "## Business Parking Attribute"
   ]
  },
  {
   "cell_type": "code",
   "execution_count": 47,
   "metadata": {},
   "outputs": [],
   "source": [
    "df_rest_3.attributes_BusinessParking = df_rest_3.attributes_BusinessParking.fillna('None')"
   ]
  },
  {
   "cell_type": "code",
   "execution_count": 48,
   "metadata": {},
   "outputs": [
    {
     "data": {
      "text/plain": [
       "0    {'garage': 'False', 'street': 'False', 'valida...\n",
       "1    {'garage': 'False', 'street': 'False', 'valida...\n",
       "2    {'garage': 'False', 'street': 'False', 'valida...\n",
       "3    {'garage': 'False', 'street': 'True', 'validat...\n",
       "4                                                     \n",
       "5                                                     \n",
       "6    {'garage': 'True', 'street': 'False', 'validat...\n",
       "7    {'garage': 'False', 'street': 'False', 'valida...\n",
       "8                                                     \n",
       "9                                                     \n",
       "Name: attributes_BusinessParking, dtype: object"
      ]
     },
     "execution_count": 48,
     "metadata": {},
     "output_type": "execute_result"
    }
   ],
   "source": [
    "df_rest_3.attributes_BusinessParking.head(10)"
   ]
  },
  {
   "cell_type": "code",
   "execution_count": 49,
   "metadata": {},
   "outputs": [],
   "source": [
    "#vegas['Parking'] = 'False'"
   ]
  },
  {
   "cell_type": "code",
   "execution_count": 50,
   "metadata": {},
   "outputs": [],
   "source": [
    "def attr_func(i):\n",
    "    if i!='':\n",
    "        i = ast.literal_eval(i)\n",
    "        for k,v in i.items():\n",
    "            if v== 'True':\n",
    "                return 1\n",
    "        else:\n",
    "            return 0"
   ]
  },
  {
   "cell_type": "code",
   "execution_count": 51,
   "metadata": {},
   "outputs": [],
   "source": [
    "df_rest_3['BusinessParking'] = df_rest_3['attributes_BusinessParking'].apply(attr_func)"
   ]
  },
  {
   "cell_type": "code",
   "execution_count": 52,
   "metadata": {},
   "outputs": [
    {
     "data": {
      "text/plain": [
       "0    1.0\n",
       "1    0.0\n",
       "2    1.0\n",
       "3    1.0\n",
       "4    NaN\n",
       "5    NaN\n",
       "6    1.0\n",
       "7    0.0\n",
       "8    NaN\n",
       "9    NaN\n",
       "Name: BusinessParking, dtype: float64"
      ]
     },
     "execution_count": 52,
     "metadata": {},
     "output_type": "execute_result"
    }
   ],
   "source": [
    "df_rest_3['BusinessParking'].head(10)"
   ]
  },
  {
   "cell_type": "code",
   "execution_count": 53,
   "metadata": {},
   "outputs": [],
   "source": [
    "df_rest_3.BusinessParking.fillna(round(df_rest_3.BusinessParking.mean(),2), inplace = True)"
   ]
  },
  {
   "cell_type": "code",
   "execution_count": 54,
   "metadata": {},
   "outputs": [],
   "source": [
    "df_rest_3.drop(['attributes_BusinessParking'], axis=1, inplace = True)"
   ]
  },
  {
   "cell_type": "code",
   "execution_count": 55,
   "metadata": {},
   "outputs": [
    {
     "data": {
      "text/html": [
       "<div>\n",
       "<style scoped>\n",
       "    .dataframe tbody tr th:only-of-type {\n",
       "        vertical-align: middle;\n",
       "    }\n",
       "\n",
       "    .dataframe tbody tr th {\n",
       "        vertical-align: top;\n",
       "    }\n",
       "\n",
       "    .dataframe thead th {\n",
       "        text-align: right;\n",
       "    }\n",
       "</style>\n",
       "<table border=\"1\" class=\"dataframe\">\n",
       "  <thead>\n",
       "    <tr style=\"text-align: right;\">\n",
       "      <th></th>\n",
       "      <th>business_id</th>\n",
       "      <th>city</th>\n",
       "      <th>review_count</th>\n",
       "      <th>stars</th>\n",
       "      <th>state</th>\n",
       "      <th>category</th>\n",
       "      <th>attributes_BusinessAcceptsCreditCards</th>\n",
       "      <th>attributes_GoodForKids</th>\n",
       "      <th>attributes_OutdoorSeating</th>\n",
       "      <th>attributes_RestaurantsDelivery</th>\n",
       "      <th>attributes_RestaurantsPriceRange2</th>\n",
       "      <th>attributes_RestaurantsReservations</th>\n",
       "      <th>attributes_RestaurantsTakeOut</th>\n",
       "      <th>neighborhood</th>\n",
       "      <th>latitude</th>\n",
       "      <th>longitude</th>\n",
       "      <th>BusinessParking</th>\n",
       "    </tr>\n",
       "  </thead>\n",
       "  <tbody>\n",
       "    <tr>\n",
       "      <th>0</th>\n",
       "      <td>1gU1ZNbcvk0puuUQjbl23w</td>\n",
       "      <td>Las Vegas</td>\n",
       "      <td>152</td>\n",
       "      <td>4.0</td>\n",
       "      <td>NV</td>\n",
       "      <td>restaurants</td>\n",
       "      <td>1.00</td>\n",
       "      <td>1.00</td>\n",
       "      <td>0.00</td>\n",
       "      <td>0.00</td>\n",
       "      <td>2.00</td>\n",
       "      <td>1.00</td>\n",
       "      <td>1.00</td>\n",
       "      <td>Southwest</td>\n",
       "      <td>36.0527735</td>\n",
       "      <td>-115.2425</td>\n",
       "      <td>1.00</td>\n",
       "    </tr>\n",
       "    <tr>\n",
       "      <th>1</th>\n",
       "      <td>4E9twWQwae4ELAKUIVbFpw</td>\n",
       "      <td>Las Vegas</td>\n",
       "      <td>3</td>\n",
       "      <td>5.0</td>\n",
       "      <td>NV</td>\n",
       "      <td>beautysvc</td>\n",
       "      <td>1.00</td>\n",
       "      <td>0.79</td>\n",
       "      <td>0.28</td>\n",
       "      <td>0.25</td>\n",
       "      <td>1.00</td>\n",
       "      <td>0.32</td>\n",
       "      <td>0.89</td>\n",
       "      <td>Spring Valley</td>\n",
       "      <td>36.119018261</td>\n",
       "      <td>-115.280227661</td>\n",
       "      <td>0.00</td>\n",
       "    </tr>\n",
       "    <tr>\n",
       "      <th>2</th>\n",
       "      <td>tZW4NLpEYinu4mIxdKj0Pw</td>\n",
       "      <td>Las Vegas</td>\n",
       "      <td>7</td>\n",
       "      <td>2.5</td>\n",
       "      <td>NV</td>\n",
       "      <td>restaurants</td>\n",
       "      <td>1.00</td>\n",
       "      <td>0.79</td>\n",
       "      <td>0.00</td>\n",
       "      <td>0.25</td>\n",
       "      <td>1.82</td>\n",
       "      <td>0.00</td>\n",
       "      <td>1.00</td>\n",
       "      <td>Downtown</td>\n",
       "      <td>36.1585755</td>\n",
       "      <td>-115.0996395</td>\n",
       "      <td>1.00</td>\n",
       "    </tr>\n",
       "    <tr>\n",
       "      <th>3</th>\n",
       "      <td>MLvSu4zlJID1NtxsDLM09A</td>\n",
       "      <td>Las Vegas</td>\n",
       "      <td>17</td>\n",
       "      <td>3.0</td>\n",
       "      <td>NV</td>\n",
       "      <td>shopping</td>\n",
       "      <td>1.00</td>\n",
       "      <td>0.79</td>\n",
       "      <td>0.28</td>\n",
       "      <td>0.25</td>\n",
       "      <td>1.00</td>\n",
       "      <td>0.32</td>\n",
       "      <td>0.89</td>\n",
       "      <td>Downtown</td>\n",
       "      <td>36.1585774</td>\n",
       "      <td>-115.1313389</td>\n",
       "      <td>1.00</td>\n",
       "    </tr>\n",
       "    <tr>\n",
       "      <th>4</th>\n",
       "      <td>27vCl2nFGa4q-bHSvMTTuQ</td>\n",
       "      <td>Las Vegas</td>\n",
       "      <td>3</td>\n",
       "      <td>3.5</td>\n",
       "      <td>NV</td>\n",
       "      <td>localservices</td>\n",
       "      <td>0.94</td>\n",
       "      <td>0.79</td>\n",
       "      <td>0.28</td>\n",
       "      <td>0.25</td>\n",
       "      <td>1.82</td>\n",
       "      <td>0.32</td>\n",
       "      <td>0.89</td>\n",
       "      <td>Downtown</td>\n",
       "      <td>36.1527005</td>\n",
       "      <td>-115.1586001</td>\n",
       "      <td>0.64</td>\n",
       "    </tr>\n",
       "  </tbody>\n",
       "</table>\n",
       "</div>"
      ],
      "text/plain": [
       "              business_id       city  review_count  stars state  \\\n",
       "0  1gU1ZNbcvk0puuUQjbl23w  Las Vegas           152    4.0    NV   \n",
       "1  4E9twWQwae4ELAKUIVbFpw  Las Vegas             3    5.0    NV   \n",
       "2  tZW4NLpEYinu4mIxdKj0Pw  Las Vegas             7    2.5    NV   \n",
       "3  MLvSu4zlJID1NtxsDLM09A  Las Vegas            17    3.0    NV   \n",
       "4  27vCl2nFGa4q-bHSvMTTuQ  Las Vegas             3    3.5    NV   \n",
       "\n",
       "        category  attributes_BusinessAcceptsCreditCards  \\\n",
       "0    restaurants                                   1.00   \n",
       "1      beautysvc                                   1.00   \n",
       "2    restaurants                                   1.00   \n",
       "3       shopping                                   1.00   \n",
       "4  localservices                                   0.94   \n",
       "\n",
       "   attributes_GoodForKids  attributes_OutdoorSeating  \\\n",
       "0                    1.00                       0.00   \n",
       "1                    0.79                       0.28   \n",
       "2                    0.79                       0.00   \n",
       "3                    0.79                       0.28   \n",
       "4                    0.79                       0.28   \n",
       "\n",
       "   attributes_RestaurantsDelivery  attributes_RestaurantsPriceRange2  \\\n",
       "0                            0.00                               2.00   \n",
       "1                            0.25                               1.00   \n",
       "2                            0.25                               1.82   \n",
       "3                            0.25                               1.00   \n",
       "4                            0.25                               1.82   \n",
       "\n",
       "   attributes_RestaurantsReservations  attributes_RestaurantsTakeOut  \\\n",
       "0                                1.00                           1.00   \n",
       "1                                0.32                           0.89   \n",
       "2                                0.00                           1.00   \n",
       "3                                0.32                           0.89   \n",
       "4                                0.32                           0.89   \n",
       "\n",
       "    neighborhood      latitude       longitude  BusinessParking  \n",
       "0      Southwest    36.0527735       -115.2425             1.00  \n",
       "1  Spring Valley  36.119018261  -115.280227661             0.00  \n",
       "2       Downtown    36.1585755    -115.0996395             1.00  \n",
       "3       Downtown    36.1585774    -115.1313389             1.00  \n",
       "4       Downtown    36.1527005    -115.1586001             0.64  "
      ]
     },
     "execution_count": 55,
     "metadata": {},
     "output_type": "execute_result"
    }
   ],
   "source": [
    "df_rest_3.head()"
   ]
  },
  {
   "cell_type": "code",
   "execution_count": 56,
   "metadata": {},
   "outputs": [
    {
     "data": {
      "text/plain": [
       "(30430, 17)"
      ]
     },
     "execution_count": 56,
     "metadata": {},
     "output_type": "execute_result"
    }
   ],
   "source": [
    "df_rest_3.shape"
   ]
  },
  {
   "cell_type": "code",
   "execution_count": 57,
   "metadata": {},
   "outputs": [
    {
     "data": {
      "text/plain": [
       "30430"
      ]
     },
     "execution_count": 57,
     "metadata": {},
     "output_type": "execute_result"
    }
   ],
   "source": [
    "len(pd.unique(df_rest_3.business_id))"
   ]
  },
  {
   "cell_type": "code",
   "execution_count": 58,
   "metadata": {},
   "outputs": [
    {
     "data": {
      "text/plain": [
       "Index(['business_id', 'city', 'review_count', 'stars', 'state', 'category',\n",
       "       'attributes_BusinessAcceptsCreditCards', 'attributes_GoodForKids',\n",
       "       'attributes_OutdoorSeating', 'attributes_RestaurantsDelivery',\n",
       "       'attributes_RestaurantsPriceRange2',\n",
       "       'attributes_RestaurantsReservations', 'attributes_RestaurantsTakeOut',\n",
       "       'neighborhood', 'latitude', 'longitude', 'BusinessParking'],\n",
       "      dtype='object')"
      ]
     },
     "execution_count": 58,
     "metadata": {},
     "output_type": "execute_result"
    }
   ],
   "source": [
    "df_rest_3.columns"
   ]
  },
  {
   "cell_type": "code",
   "execution_count": 59,
   "metadata": {},
   "outputs": [],
   "source": [
    "df_rest_3.columns = ['business_id', 'city', 'review_count', 'stars', 'state',\n",
    "       'category','accepts_credit_cards',\n",
    "       'good_for_kids','outdoor_seating',\n",
    "        'restaurants_delivery', 'restaurants_price_range',\n",
    "       'restaurants_reservations',  'restaurants_takeout','neighborhood','latitude', 'longitude','business_parking']"
   ]
  },
  {
   "cell_type": "code",
   "execution_count": 60,
   "metadata": {},
   "outputs": [
    {
     "data": {
      "text/html": [
       "<div>\n",
       "<style scoped>\n",
       "    .dataframe tbody tr th:only-of-type {\n",
       "        vertical-align: middle;\n",
       "    }\n",
       "\n",
       "    .dataframe tbody tr th {\n",
       "        vertical-align: top;\n",
       "    }\n",
       "\n",
       "    .dataframe thead th {\n",
       "        text-align: right;\n",
       "    }\n",
       "</style>\n",
       "<table border=\"1\" class=\"dataframe\">\n",
       "  <thead>\n",
       "    <tr style=\"text-align: right;\">\n",
       "      <th></th>\n",
       "      <th>business_id</th>\n",
       "      <th>city</th>\n",
       "      <th>review_count</th>\n",
       "      <th>stars</th>\n",
       "      <th>state</th>\n",
       "      <th>category</th>\n",
       "      <th>accepts_credit_cards</th>\n",
       "      <th>good_for_kids</th>\n",
       "      <th>outdoor_seating</th>\n",
       "      <th>restaurants_delivery</th>\n",
       "      <th>restaurants_price_range</th>\n",
       "      <th>restaurants_reservations</th>\n",
       "      <th>restaurants_takeout</th>\n",
       "      <th>neighborhood</th>\n",
       "      <th>latitude</th>\n",
       "      <th>longitude</th>\n",
       "      <th>business_parking</th>\n",
       "    </tr>\n",
       "  </thead>\n",
       "  <tbody>\n",
       "    <tr>\n",
       "      <th>0</th>\n",
       "      <td>1gU1ZNbcvk0puuUQjbl23w</td>\n",
       "      <td>Las Vegas</td>\n",
       "      <td>152</td>\n",
       "      <td>4.0</td>\n",
       "      <td>NV</td>\n",
       "      <td>restaurants</td>\n",
       "      <td>1.00</td>\n",
       "      <td>1.00</td>\n",
       "      <td>0.00</td>\n",
       "      <td>0.00</td>\n",
       "      <td>2.00</td>\n",
       "      <td>1.00</td>\n",
       "      <td>1.00</td>\n",
       "      <td>Southwest</td>\n",
       "      <td>36.0527735</td>\n",
       "      <td>-115.2425</td>\n",
       "      <td>1.00</td>\n",
       "    </tr>\n",
       "    <tr>\n",
       "      <th>1</th>\n",
       "      <td>4E9twWQwae4ELAKUIVbFpw</td>\n",
       "      <td>Las Vegas</td>\n",
       "      <td>3</td>\n",
       "      <td>5.0</td>\n",
       "      <td>NV</td>\n",
       "      <td>beautysvc</td>\n",
       "      <td>1.00</td>\n",
       "      <td>0.79</td>\n",
       "      <td>0.28</td>\n",
       "      <td>0.25</td>\n",
       "      <td>1.00</td>\n",
       "      <td>0.32</td>\n",
       "      <td>0.89</td>\n",
       "      <td>Spring Valley</td>\n",
       "      <td>36.119018261</td>\n",
       "      <td>-115.280227661</td>\n",
       "      <td>0.00</td>\n",
       "    </tr>\n",
       "    <tr>\n",
       "      <th>2</th>\n",
       "      <td>tZW4NLpEYinu4mIxdKj0Pw</td>\n",
       "      <td>Las Vegas</td>\n",
       "      <td>7</td>\n",
       "      <td>2.5</td>\n",
       "      <td>NV</td>\n",
       "      <td>restaurants</td>\n",
       "      <td>1.00</td>\n",
       "      <td>0.79</td>\n",
       "      <td>0.00</td>\n",
       "      <td>0.25</td>\n",
       "      <td>1.82</td>\n",
       "      <td>0.00</td>\n",
       "      <td>1.00</td>\n",
       "      <td>Downtown</td>\n",
       "      <td>36.1585755</td>\n",
       "      <td>-115.0996395</td>\n",
       "      <td>1.00</td>\n",
       "    </tr>\n",
       "    <tr>\n",
       "      <th>3</th>\n",
       "      <td>MLvSu4zlJID1NtxsDLM09A</td>\n",
       "      <td>Las Vegas</td>\n",
       "      <td>17</td>\n",
       "      <td>3.0</td>\n",
       "      <td>NV</td>\n",
       "      <td>shopping</td>\n",
       "      <td>1.00</td>\n",
       "      <td>0.79</td>\n",
       "      <td>0.28</td>\n",
       "      <td>0.25</td>\n",
       "      <td>1.00</td>\n",
       "      <td>0.32</td>\n",
       "      <td>0.89</td>\n",
       "      <td>Downtown</td>\n",
       "      <td>36.1585774</td>\n",
       "      <td>-115.1313389</td>\n",
       "      <td>1.00</td>\n",
       "    </tr>\n",
       "    <tr>\n",
       "      <th>4</th>\n",
       "      <td>27vCl2nFGa4q-bHSvMTTuQ</td>\n",
       "      <td>Las Vegas</td>\n",
       "      <td>3</td>\n",
       "      <td>3.5</td>\n",
       "      <td>NV</td>\n",
       "      <td>localservices</td>\n",
       "      <td>0.94</td>\n",
       "      <td>0.79</td>\n",
       "      <td>0.28</td>\n",
       "      <td>0.25</td>\n",
       "      <td>1.82</td>\n",
       "      <td>0.32</td>\n",
       "      <td>0.89</td>\n",
       "      <td>Downtown</td>\n",
       "      <td>36.1527005</td>\n",
       "      <td>-115.1586001</td>\n",
       "      <td>0.64</td>\n",
       "    </tr>\n",
       "  </tbody>\n",
       "</table>\n",
       "</div>"
      ],
      "text/plain": [
       "              business_id       city  review_count  stars state  \\\n",
       "0  1gU1ZNbcvk0puuUQjbl23w  Las Vegas           152    4.0    NV   \n",
       "1  4E9twWQwae4ELAKUIVbFpw  Las Vegas             3    5.0    NV   \n",
       "2  tZW4NLpEYinu4mIxdKj0Pw  Las Vegas             7    2.5    NV   \n",
       "3  MLvSu4zlJID1NtxsDLM09A  Las Vegas            17    3.0    NV   \n",
       "4  27vCl2nFGa4q-bHSvMTTuQ  Las Vegas             3    3.5    NV   \n",
       "\n",
       "        category  accepts_credit_cards  good_for_kids  outdoor_seating  \\\n",
       "0    restaurants                  1.00           1.00             0.00   \n",
       "1      beautysvc                  1.00           0.79             0.28   \n",
       "2    restaurants                  1.00           0.79             0.00   \n",
       "3       shopping                  1.00           0.79             0.28   \n",
       "4  localservices                  0.94           0.79             0.28   \n",
       "\n",
       "   restaurants_delivery  restaurants_price_range  restaurants_reservations  \\\n",
       "0                  0.00                     2.00                      1.00   \n",
       "1                  0.25                     1.00                      0.32   \n",
       "2                  0.25                     1.82                      0.00   \n",
       "3                  0.25                     1.00                      0.32   \n",
       "4                  0.25                     1.82                      0.32   \n",
       "\n",
       "   restaurants_takeout   neighborhood      latitude       longitude  \\\n",
       "0                 1.00      Southwest    36.0527735       -115.2425   \n",
       "1                 0.89  Spring Valley  36.119018261  -115.280227661   \n",
       "2                 1.00       Downtown    36.1585755    -115.0996395   \n",
       "3                 0.89       Downtown    36.1585774    -115.1313389   \n",
       "4                 0.89       Downtown    36.1527005    -115.1586001   \n",
       "\n",
       "   business_parking  \n",
       "0              1.00  \n",
       "1              0.00  \n",
       "2              1.00  \n",
       "3              1.00  \n",
       "4              0.64  "
      ]
     },
     "execution_count": 60,
     "metadata": {},
     "output_type": "execute_result"
    }
   ],
   "source": [
    "df_rest_3.head()"
   ]
  },
  {
   "cell_type": "code",
   "execution_count": 61,
   "metadata": {},
   "outputs": [],
   "source": [
    "df_rest_3.reset_index(level=None, inplace = True)"
   ]
  },
  {
   "cell_type": "code",
   "execution_count": 62,
   "metadata": {},
   "outputs": [],
   "source": [
    "df_rest_3.drop(['index'], axis=1, inplace = True)"
   ]
  },
  {
   "cell_type": "code",
   "execution_count": 63,
   "metadata": {},
   "outputs": [
    {
     "data": {
      "text/plain": [
       "30430"
      ]
     },
     "execution_count": 63,
     "metadata": {},
     "output_type": "execute_result"
    }
   ],
   "source": [
    "len(pd.unique(df_rest_3.business_id))"
   ]
  },
  {
   "cell_type": "code",
   "execution_count": 69,
   "metadata": {},
   "outputs": [
    {
     "name": "stdout",
     "output_type": "stream",
     "text": [
      "<class 'pandas.core.frame.DataFrame'>\n",
      "RangeIndex: 30430 entries, 0 to 30429\n",
      "Data columns (total 17 columns):\n",
      "business_id                 30430 non-null object\n",
      "city                        30430 non-null object\n",
      "review_count                30430 non-null int64\n",
      "stars                       30430 non-null float64\n",
      "state                       30430 non-null object\n",
      "category                    30430 non-null object\n",
      "accepts_credit_cards        30430 non-null float64\n",
      "good_for_kids               30430 non-null float64\n",
      "outdoor_seating             30430 non-null float64\n",
      "restaurants_delivery        30430 non-null float64\n",
      "restaurants_price_range     30430 non-null float64\n",
      "restaurants_reservations    30430 non-null float64\n",
      "restaurants_takeout         30430 non-null float64\n",
      "neighborhood                30430 non-null object\n",
      "latitude                    30430 non-null object\n",
      "longitude                   30430 non-null object\n",
      "business_parking            30430 non-null float64\n",
      "dtypes: float64(9), int64(1), object(7)\n",
      "memory usage: 3.9+ MB\n"
     ]
    }
   ],
   "source": [
    "df_rest_3.info()"
   ]
  },
  {
   "cell_type": "code",
   "execution_count": null,
   "metadata": {},
   "outputs": [],
   "source": [
    "df_rest_3.to_csv('data/all_business_final.csv')"
   ]
  },
  {
   "cell_type": "markdown",
   "metadata": {},
   "source": [
    "## Create new features"
   ]
  },
  {
   "cell_type": "code",
   "execution_count": 3,
   "metadata": {},
   "outputs": [],
   "source": [
    "df_business = pd.read_sql(\"SELECT * FROM all_business_vegas\",conn)"
   ]
  },
  {
   "cell_type": "code",
   "execution_count": 4,
   "metadata": {},
   "outputs": [
    {
     "data": {
      "text/plain": [
       "(30341, 24)"
      ]
     },
     "execution_count": 4,
     "metadata": {},
     "output_type": "execute_result"
    }
   ],
   "source": [
    "df_business = df_business[df_business.category!='']\n",
    "df_business.shape"
   ]
  },
  {
   "cell_type": "code",
   "execution_count": 5,
   "metadata": {},
   "outputs": [
    {
     "data": {
      "text/plain": [
       "array(['active', 'shopping', 'massmedia', 'beautysvc', 'homeservices',\n",
       "       'eventservices', 'auto', 'restaurants', 'localservices',\n",
       "       'financialservices', 'health', 'pets', 'arts', 'nightlife',\n",
       "       'hotelstravel', 'education', 'professional', 'publicservicesgovt',\n",
       "       'religiousorgs', 'localflavor'], dtype=object)"
      ]
     },
     "execution_count": 5,
     "metadata": {},
     "output_type": "execute_result"
    }
   ],
   "source": [
    "pd.unique(df_business.cat)"
   ]
  },
  {
   "cell_type": "code",
   "execution_count": 6,
   "metadata": {},
   "outputs": [],
   "source": [
    "def create_features(feature):\n",
    "    dict_neigh = {}\n",
    "    for neigh in pd.unique(df_business.neighborhood.values):\n",
    "        df_business_neigh = df_business[df_business.neighborhood == neigh]\n",
    "        dict_neigh[neigh]=df_business_neigh[df_business_neigh.category.str.contains(feature)].shape[0]\n",
    "    \n",
    "    print(\"###################\"+feature+\"############################\")\n",
    "    print(dict_neigh)\n",
    "    df_business[feature+'_count'] = df_business.neighborhood.apply(lambda x:dict_neigh[x])"
   ]
  },
  {
   "cell_type": "code",
   "execution_count": 7,
   "metadata": {},
   "outputs": [
    {
     "name": "stdout",
     "output_type": "stream",
     "text": [
      "###################hotelstravel############################\n",
      "{'Centennial': 12, 'Westside': 56, 'Eastside': 105, 'Spring Valley': 36, 'Downtown': 154, 'Chinatown': 108, 'Southeast': 170, 'The Strip': 324, 'South Summerlin': 20, 'Southwest': 27, 'Northwest': 25, 'Sunrise': 58, 'University': 9, 'The Lakes': 1, 'Summerlin': 11, 'Anthem': 3, 'North Valley': 0}\n"
     ]
    }
   ],
   "source": [
    "create_features('hotelstravel')"
   ]
  },
  {
   "cell_type": "code",
   "execution_count": 8,
   "metadata": {},
   "outputs": [
    {
     "name": "stdout",
     "output_type": "stream",
     "text": [
      "###################education############################\n",
      "{'Centennial': 28, 'Westside': 89, 'Eastside': 30, 'Spring Valley': 65, 'Downtown': 51, 'Chinatown': 38, 'Southeast': 71, 'The Strip': 37, 'South Summerlin': 14, 'Southwest': 33, 'Northwest': 51, 'Sunrise': 24, 'University': 14, 'The Lakes': 7, 'Summerlin': 25, 'Anthem': 4, 'North Valley': 0}\n"
     ]
    }
   ],
   "source": [
    "create_features('education')"
   ]
  },
  {
   "cell_type": "code",
   "execution_count": 9,
   "metadata": {},
   "outputs": [
    {
     "name": "stdout",
     "output_type": "stream",
     "text": [
      "###################shopping############################\n",
      "{'Centennial': 147, 'Westside': 818, 'Eastside': 269, 'Spring Valley': 367, 'Downtown': 628, 'Chinatown': 349, 'Southeast': 601, 'The Strip': 974, 'South Summerlin': 101, 'Southwest': 179, 'Northwest': 297, 'Sunrise': 195, 'University': 43, 'The Lakes': 13, 'Summerlin': 85, 'Anthem': 48, 'North Valley': 0}\n"
     ]
    }
   ],
   "source": [
    "create_features('shopping')"
   ]
  },
  {
   "cell_type": "code",
   "execution_count": 10,
   "metadata": {},
   "outputs": [
    {
     "name": "stdout",
     "output_type": "stream",
     "text": [
      "###################massmedia############################\n",
      "{'Centennial': 1, 'Westside': 13, 'Eastside': 6, 'Spring Valley': 6, 'Downtown': 9, 'Chinatown': 9, 'Southeast': 7, 'The Strip': 12, 'South Summerlin': 1, 'Southwest': 1, 'Northwest': 2, 'Sunrise': 0, 'University': 1, 'The Lakes': 1, 'Summerlin': 1, 'Anthem': 0, 'North Valley': 0}\n"
     ]
    }
   ],
   "source": [
    "create_features('massmedia')"
   ]
  },
  {
   "cell_type": "code",
   "execution_count": 11,
   "metadata": {},
   "outputs": [
    {
     "name": "stdout",
     "output_type": "stream",
     "text": [
      "###################arts############################\n",
      "{'Centennial': 15, 'Westside': 113, 'Eastside': 119, 'Spring Valley': 64, 'Downtown': 236, 'Chinatown': 83, 'Southeast': 109, 'The Strip': 559, 'South Summerlin': 26, 'Southwest': 38, 'Northwest': 51, 'Sunrise': 33, 'University': 22, 'The Lakes': 3, 'Summerlin': 19, 'Anthem': 7, 'North Valley': 0}\n"
     ]
    }
   ],
   "source": [
    "create_features('arts')"
   ]
  },
  {
   "cell_type": "code",
   "execution_count": 12,
   "metadata": {},
   "outputs": [
    {
     "name": "stdout",
     "output_type": "stream",
     "text": [
      "###################active############################\n",
      "{'Centennial': 57, 'Westside': 201, 'Eastside': 54, 'Spring Valley': 168, 'Downtown': 109, 'Chinatown': 90, 'Southeast': 157, 'The Strip': 182, 'South Summerlin': 76, 'Southwest': 84, 'Northwest': 133, 'Sunrise': 47, 'University': 8, 'The Lakes': 8, 'Summerlin': 74, 'Anthem': 12, 'North Valley': 1}\n"
     ]
    }
   ],
   "source": [
    "create_features('active')"
   ]
  },
  {
   "cell_type": "code",
   "execution_count": 13,
   "metadata": {},
   "outputs": [
    {
     "data": {
      "text/html": [
       "<div>\n",
       "<style scoped>\n",
       "    .dataframe tbody tr th:only-of-type {\n",
       "        vertical-align: middle;\n",
       "    }\n",
       "\n",
       "    .dataframe tbody tr th {\n",
       "        vertical-align: top;\n",
       "    }\n",
       "\n",
       "    .dataframe thead th {\n",
       "        text-align: right;\n",
       "    }\n",
       "</style>\n",
       "<table border=\"1\" class=\"dataframe\">\n",
       "  <thead>\n",
       "    <tr style=\"text-align: right;\">\n",
       "      <th></th>\n",
       "      <th>business_id</th>\n",
       "      <th>city</th>\n",
       "      <th>review_count</th>\n",
       "      <th>stars</th>\n",
       "      <th>state</th>\n",
       "      <th>category</th>\n",
       "      <th>accepts_credit_cards</th>\n",
       "      <th>good_for_kids</th>\n",
       "      <th>outdoor_seating</th>\n",
       "      <th>restaurants_delivery</th>\n",
       "      <th>...</th>\n",
       "      <th>business_parking</th>\n",
       "      <th>cat</th>\n",
       "      <th>hotelstravel_count</th>\n",
       "      <th>auto_count</th>\n",
       "      <th>restaurants_count</th>\n",
       "      <th>massmedia_count</th>\n",
       "      <th>arts_count</th>\n",
       "      <th>active_count</th>\n",
       "      <th>education_count</th>\n",
       "      <th>shopping_count</th>\n",
       "    </tr>\n",
       "  </thead>\n",
       "  <tbody>\n",
       "    <tr>\n",
       "      <th>0</th>\n",
       "      <td>-zsZLjeVBh0SpWlOXAbQaw</td>\n",
       "      <td>Las Vegas</td>\n",
       "      <td>8.0</td>\n",
       "      <td>3.0</td>\n",
       "      <td>NV</td>\n",
       "      <td>active,homeservices,shopping</td>\n",
       "      <td>1.00</td>\n",
       "      <td>0.79</td>\n",
       "      <td>0.28</td>\n",
       "      <td>0.25</td>\n",
       "      <td>...</td>\n",
       "      <td>0.00</td>\n",
       "      <td>active</td>\n",
       "      <td>12</td>\n",
       "      <td>68.0</td>\n",
       "      <td>238.0</td>\n",
       "      <td>1</td>\n",
       "      <td>15</td>\n",
       "      <td>57</td>\n",
       "      <td>28</td>\n",
       "      <td>147</td>\n",
       "    </tr>\n",
       "    <tr>\n",
       "      <th>1</th>\n",
       "      <td>-zR_UC4wsDc4MgKRJZ8XSg</td>\n",
       "      <td>Las Vegas</td>\n",
       "      <td>3.0</td>\n",
       "      <td>3.5</td>\n",
       "      <td>NV</td>\n",
       "      <td>shopping</td>\n",
       "      <td>1.00</td>\n",
       "      <td>0.79</td>\n",
       "      <td>0.28</td>\n",
       "      <td>0.25</td>\n",
       "      <td>...</td>\n",
       "      <td>1.00</td>\n",
       "      <td>shopping</td>\n",
       "      <td>56</td>\n",
       "      <td>336.0</td>\n",
       "      <td>982.0</td>\n",
       "      <td>13</td>\n",
       "      <td>113</td>\n",
       "      <td>201</td>\n",
       "      <td>89</td>\n",
       "      <td>818</td>\n",
       "    </tr>\n",
       "    <tr>\n",
       "      <th>2</th>\n",
       "      <td>-zqi1B7UwCtpoZh_qZIqHw</td>\n",
       "      <td>Las Vegas</td>\n",
       "      <td>6.0</td>\n",
       "      <td>4.0</td>\n",
       "      <td>NV</td>\n",
       "      <td>massmedia</td>\n",
       "      <td>0.94</td>\n",
       "      <td>0.79</td>\n",
       "      <td>0.28</td>\n",
       "      <td>0.25</td>\n",
       "      <td>...</td>\n",
       "      <td>0.64</td>\n",
       "      <td>massmedia</td>\n",
       "      <td>105</td>\n",
       "      <td>110.0</td>\n",
       "      <td>662.0</td>\n",
       "      <td>6</td>\n",
       "      <td>119</td>\n",
       "      <td>54</td>\n",
       "      <td>30</td>\n",
       "      <td>269</td>\n",
       "    </tr>\n",
       "    <tr>\n",
       "      <th>3</th>\n",
       "      <td>-ZNTxbUVRg25LhOxEuW4rQ</td>\n",
       "      <td>Las Vegas</td>\n",
       "      <td>313.0</td>\n",
       "      <td>4.0</td>\n",
       "      <td>NV</td>\n",
       "      <td>beautysvc</td>\n",
       "      <td>1.00</td>\n",
       "      <td>0.79</td>\n",
       "      <td>0.28</td>\n",
       "      <td>0.25</td>\n",
       "      <td>...</td>\n",
       "      <td>1.00</td>\n",
       "      <td>beautysvc</td>\n",
       "      <td>36</td>\n",
       "      <td>170.0</td>\n",
       "      <td>684.0</td>\n",
       "      <td>6</td>\n",
       "      <td>64</td>\n",
       "      <td>168</td>\n",
       "      <td>65</td>\n",
       "      <td>367</td>\n",
       "    </tr>\n",
       "    <tr>\n",
       "      <th>4</th>\n",
       "      <td>-znjWwaNajYumGuybVu-dw</td>\n",
       "      <td>Las Vegas</td>\n",
       "      <td>15.0</td>\n",
       "      <td>4.5</td>\n",
       "      <td>NV</td>\n",
       "      <td>homeservices</td>\n",
       "      <td>1.00</td>\n",
       "      <td>0.79</td>\n",
       "      <td>0.28</td>\n",
       "      <td>0.25</td>\n",
       "      <td>...</td>\n",
       "      <td>0.64</td>\n",
       "      <td>homeservices</td>\n",
       "      <td>154</td>\n",
       "      <td>316.0</td>\n",
       "      <td>923.0</td>\n",
       "      <td>9</td>\n",
       "      <td>236</td>\n",
       "      <td>109</td>\n",
       "      <td>51</td>\n",
       "      <td>628</td>\n",
       "    </tr>\n",
       "  </tbody>\n",
       "</table>\n",
       "<p>5 rows × 26 columns</p>\n",
       "</div>"
      ],
      "text/plain": [
       "              business_id       city  review_count  stars state  \\\n",
       "0  -zsZLjeVBh0SpWlOXAbQaw  Las Vegas           8.0    3.0    NV   \n",
       "1  -zR_UC4wsDc4MgKRJZ8XSg  Las Vegas           3.0    3.5    NV   \n",
       "2  -zqi1B7UwCtpoZh_qZIqHw  Las Vegas           6.0    4.0    NV   \n",
       "3  -ZNTxbUVRg25LhOxEuW4rQ  Las Vegas         313.0    4.0    NV   \n",
       "4  -znjWwaNajYumGuybVu-dw  Las Vegas          15.0    4.5    NV   \n",
       "\n",
       "                       category  accepts_credit_cards  good_for_kids  \\\n",
       "0  active,homeservices,shopping                  1.00           0.79   \n",
       "1                      shopping                  1.00           0.79   \n",
       "2                     massmedia                  0.94           0.79   \n",
       "3                     beautysvc                  1.00           0.79   \n",
       "4                  homeservices                  1.00           0.79   \n",
       "\n",
       "   outdoor_seating  restaurants_delivery       ...        business_parking  \\\n",
       "0             0.28                  0.25       ...                    0.00   \n",
       "1             0.28                  0.25       ...                    1.00   \n",
       "2             0.28                  0.25       ...                    0.64   \n",
       "3             0.28                  0.25       ...                    1.00   \n",
       "4             0.28                  0.25       ...                    0.64   \n",
       "\n",
       "            cat  hotelstravel_count auto_count restaurants_count  \\\n",
       "0        active                  12       68.0             238.0   \n",
       "1      shopping                  56      336.0             982.0   \n",
       "2     massmedia                 105      110.0             662.0   \n",
       "3     beautysvc                  36      170.0             684.0   \n",
       "4  homeservices                 154      316.0             923.0   \n",
       "\n",
       "  massmedia_count  arts_count active_count  education_count  shopping_count  \n",
       "0               1          15           57               28             147  \n",
       "1              13         113          201               89             818  \n",
       "2               6         119           54               30             269  \n",
       "3               6          64          168               65             367  \n",
       "4               9         236          109               51             628  \n",
       "\n",
       "[5 rows x 26 columns]"
      ]
     },
     "execution_count": 13,
     "metadata": {},
     "output_type": "execute_result"
    }
   ],
   "source": [
    "df_business.head()"
   ]
  },
  {
   "cell_type": "code",
   "execution_count": 14,
   "metadata": {},
   "outputs": [],
   "source": [
    "df_business.to_csv('data/all_business_newfeatures.csv')"
   ]
  },
  {
   "cell_type": "code",
   "execution_count": null,
   "metadata": {},
   "outputs": [],
   "source": []
  },
  {
   "cell_type": "code",
   "execution_count": null,
   "metadata": {},
   "outputs": [],
   "source": []
  }
 ],
 "metadata": {
  "kernelspec": {
   "display_name": "Python 3",
   "language": "python",
   "name": "python3"
  },
  "language_info": {
   "codemirror_mode": {
    "name": "ipython",
    "version": 3
   },
   "file_extension": ".py",
   "mimetype": "text/x-python",
   "name": "python",
   "nbconvert_exporter": "python",
   "pygments_lexer": "ipython3",
   "version": "3.6.4"
  }
 },
 "nbformat": 4,
 "nbformat_minor": 2
}
