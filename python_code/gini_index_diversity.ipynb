{
 "cells": [
  {
   "cell_type": "code",
   "execution_count": 1,
   "metadata": {},
   "outputs": [],
   "source": [
    "import pandas as pd\n",
    "import numpy as np\n",
    "import pandas.io.sql as pdsql"
   ]
  },
  {
   "cell_type": "code",
   "execution_count": 28,
   "metadata": {},
   "outputs": [],
   "source": [
    "import json\n",
    "import psycopg2\n",
    "\n",
    "# connect to the PostgreSQL server\n",
    "conn = psycopg2.connect(host=\"imt575group4.cdzfpivjhvbj.us-east-1.rds.amazonaws.com\", database=\"imt575\", user=\"amir\", password=\"pleasework123\")\n",
    "\n",
    "cur = conn.cursor()\n",
    "#cur.execute(\"SELECT * FROM neighborhood_center;\")"
   ]
  },
  {
   "cell_type": "markdown",
   "metadata": {},
   "source": [
    "### Read in Businesses Table"
   ]
  },
  {
   "cell_type": "code",
   "execution_count": null,
   "metadata": {},
   "outputs": [],
   "source": [
    "bus = pd.read_sql(\"SELECT * FROM business\", conn)\n",
    "bus.shape"
   ]
  },
  {
   "cell_type": "code",
   "execution_count": 3,
   "metadata": {},
   "outputs": [],
   "source": [
    "bus = pd.read_sql(\"SELECT * FROM business WHERE city LIKE '%Las%Vegas%'\", conn)"
   ]
  },
  {
   "cell_type": "code",
   "execution_count": 4,
   "metadata": {},
   "outputs": [
    {
     "data": {
      "text/plain": [
       "(30430, 15)"
      ]
     },
     "execution_count": 4,
     "metadata": {},
     "output_type": "execute_result"
    }
   ],
   "source": [
    "bus.shape"
   ]
  },
  {
   "cell_type": "code",
   "execution_count": 5,
   "metadata": {},
   "outputs": [],
   "source": [
    "high_level_cat = {\n",
    "'Active Life' :'active',\n",
    "'Arts & Entertainment' :'arts',\n",
    "'Automotive': 'auto',\n",
    "'Beauty & Spas': 'beautysvc',\n",
    "'Education' :'education',\n",
    "'Event Planning & Services' :'eventservices',\n",
    "'Financial Services' :'financialservices',\n",
    "'Food' : 'restaurants', #food\n",
    "'Health & Medical' :'health',\n",
    "'Home Services' :'homeservices',\n",
    "'Hotels & Travel' :'hotelstravel',\n",
    "'Local Flavor' :'localflavor',\n",
    "'Local Services' :'localservices',\n",
    "'Mass Media' :'massmedia',\n",
    "'Nightlife' :'nightlife',\n",
    "'Pets' :'pets',\n",
    "'Professional Services' : 'professional',\n",
    "'Public Services & Government' : 'publicservicesgovt',\n",
    "'Real Estate' :'realestate',\n",
    "'Religious Organizations' :'religiousorgs',\n",
    "'Restaurants' :'restaurants',\n",
    "'Shopping' :'shopping'\n",
    "}"
   ]
  },
  {
   "cell_type": "code",
   "execution_count": 6,
   "metadata": {},
   "outputs": [],
   "source": [
    "def filter_category(list_cat):\n",
    "    #print(list_cat)\n",
    "    new_cat = ''\n",
    "    for k,v in high_level_cat.items():\n",
    "        if k in list_cat and v not in new_cat:\n",
    "            if new_cat != '':\n",
    "                new_cat=new_cat+','+v\n",
    "            else:\n",
    "                new_cat=new_cat+v\n",
    "    return new_cat"
   ]
  },
  {
   "cell_type": "code",
   "execution_count": null,
   "metadata": {},
   "outputs": [],
   "source": [
    "bus.categories.fillna('None', inplace = True)"
   ]
  },
  {
   "cell_type": "code",
   "execution_count": 7,
   "metadata": {},
   "outputs": [],
   "source": [
    "bus['category'] = bus.categories.apply(filter_category)"
   ]
  },
  {
   "cell_type": "code",
   "execution_count": null,
   "metadata": {},
   "outputs": [],
   "source": [
    "bus[['category', 'categories']].head(10)"
   ]
  },
  {
   "cell_type": "code",
   "execution_count": 8,
   "metadata": {},
   "outputs": [],
   "source": [
    "df = bus[['category','neighborhood']]"
   ]
  },
  {
   "cell_type": "code",
   "execution_count": null,
   "metadata": {},
   "outputs": [],
   "source": [
    "df.neighborhood.value_counts(dropna=False)"
   ]
  },
  {
   "cell_type": "code",
   "execution_count": null,
   "metadata": {},
   "outputs": [],
   "source": [
    "df.head()"
   ]
  },
  {
   "cell_type": "code",
   "execution_count": null,
   "metadata": {},
   "outputs": [],
   "source": [
    "df.head(15)"
   ]
  },
  {
   "cell_type": "markdown",
   "metadata": {},
   "source": [
    "### Implement Gini"
   ]
  },
  {
   "cell_type": "code",
   "execution_count": 9,
   "metadata": {},
   "outputs": [],
   "source": [
    "def gini(list_of_values):\n",
    "    sorted_list = sorted(list_of_values)\n",
    "    height, area = 0, 0\n",
    "    for value in sorted_list:\n",
    "        height += value\n",
    "        area += height - value / 2.\n",
    "    fair_area = height * len(list_of_values) / 2.\n",
    "    return 1 - ((fair_area - area) / fair_area)"
   ]
  },
  {
   "cell_type": "code",
   "execution_count": 10,
   "metadata": {},
   "outputs": [
    {
     "name": "stdout",
     "output_type": "stream",
     "text": [
      "1.0\n",
      "1.0\n"
     ]
    }
   ],
   "source": [
    "A = [3,3,3]\n",
    "B = [5,5,5]\n",
    "print(gini(A))\n",
    "print(gini(B))"
   ]
  },
  {
   "cell_type": "code",
   "execution_count": null,
   "metadata": {},
   "outputs": [],
   "source": [
    "df.neighborhood.value_counts()"
   ]
  },
  {
   "cell_type": "code",
   "execution_count": 12,
   "metadata": {},
   "outputs": [
    {
     "name": "stdout",
     "output_type": "stream",
     "text": [
      "Downtown 0.5007460973370064\n",
      "The Strip 0.3765730732722986\n",
      "Spring Valley 0.45045196599600745\n",
      "Southeast 0.48377352328856593\n",
      "Westside 0.4665546636799204\n",
      "Eastside 0.4706078379098907\n",
      "South Summerlin 0.4787347155768208\n",
      "Southwest 0.46824599587030524\n",
      "Sunrise 0.45685740236148953\n",
      "Chinatown 0.4418616690826258\n",
      "Centennial 0.44588045234248785\n",
      "Northwest 0.444604806538449\n",
      "Summerlin 0.44877883310719136\n",
      "Anthem 0.5016299918500408\n",
      "University 0.47526881720430103\n",
      "The Lakes 0.48349687778768957\n",
      "North Valley 1.0\n"
     ]
    }
   ],
   "source": [
    "nbd_cats = {}\n",
    "for row in range(df.shape[0]):\n",
    "    nbd = df.iloc[row,1]\n",
    "    cats = df.iloc[row,0].split(',')\n",
    "    if nbd in nbd_cats:\n",
    "        for cat in cats:\n",
    "            if cat in nbd_cats[nbd]:\n",
    "                nbd_cats[nbd][cat] += 1\n",
    "            else:\n",
    "                nbd_cats[nbd][cat] = 1\n",
    "    else: # new nbd\n",
    "        for cat in cats:\n",
    "            nbd_cats[nbd] = {cat: 1}\n",
    "for nbd in nbd_cats:\n",
    "    print(nbd, gini(nbd_cats[nbd].values()))#nbd_cats[nbd])"
   ]
  },
  {
   "cell_type": "code",
   "execution_count": 18,
   "metadata": {},
   "outputs": [
    {
     "name": "stdout",
     "output_type": "stream",
     "text": [
      "Downtown 0.5007460973370064\n",
      "The Strip 0.3765730732722986\n",
      "Spring Valley 0.45045196599600745\n",
      "Southeast 0.48377352328856593\n",
      "Westside 0.4665546636799204\n",
      "Eastside 0.4706078379098907\n",
      "South Summerlin 0.4787347155768208\n",
      "Southwest 0.46824599587030524\n",
      "Sunrise 0.45685740236148953\n",
      "Chinatown 0.4418616690826258\n",
      "Centennial 0.44588045234248785\n",
      "Northwest 0.444604806538449\n",
      "Summerlin 0.44877883310719136\n",
      "Anthem 0.5016299918500408\n",
      "University 0.47526881720430103\n",
      "The Lakes 0.48349687778768957\n",
      "North Valley 1.0\n"
     ]
    }
   ],
   "source": [
    "## Compute gini values for each nbd\n",
    "nbd_gini = {nbd:gini(nbd_cats[nbd].values()) for nbd in nbd_cats}\n",
    "nbd_gini\n",
    "for k,v in nbd_gini.items():\n",
    "    print(k,v)"
   ]
  },
  {
   "cell_type": "code",
   "execution_count": 22,
   "metadata": {},
   "outputs": [
    {
     "name": "stdout",
     "output_type": "stream",
     "text": [
      "UPDATE neighborhood_center SET gini_index=12.1235 WHERE neighborhood = HIHIHI\n"
     ]
    }
   ],
   "source": [
    "print('UPDATE neighborhood_center SET gini_index=%.4f WHERE neighborhood = %s'%(12.123456, 'HIHIHI'))\n"
   ]
  },
  {
   "cell_type": "code",
   "execution_count": null,
   "metadata": {},
   "outputs": [],
   "source": [
    "cur = conn.cursor()"
   ]
  },
  {
   "cell_type": "code",
   "execution_count": 36,
   "metadata": {},
   "outputs": [
    {
     "data": {
      "text/plain": [
       "'\"Mon-0\" + \"Mon-1\" + \"Mon-2\" + \"Mon-3\" + \"Mon-4\" + \"Mon-5\" + \"Mon-6\" + \"Mon-7\" + \"Mon-8\" + \"Mon-9\" + \"Mon-10\" + \"Mon-11\" + \"Mon-12\" + \"Mon-13\" + \"Mon-14\" + \"Mon-15\" + \"Mon-16\" + \"Mon-17\" + \"Mon-18\" + \"Mon-19\" + \"Mon-20\" + \"Mon-21\" + \"Mon-22\" + \"Mon-23\" + \"Tue-0\" + \"Tue-1\" + \"Tue-2\" + \"Tue-3\" + \"Tue-4\" + \"Tue-5\" + \"Tue-6\" + \"Tue-7\" + \"Tue-8\" + \"Tue-9\" + \"Tue-10\" + \"Tue-11\" + \"Tue-12\" + \"Tue-13\" + \"Tue-14\" + \"Tue-15\" + \"Tue-16\" + \"Tue-17\" + \"Tue-18\" + \"Tue-19\" + \"Tue-20\" + \"Tue-21\" + \"Tue-22\" + \"Tue-23\" + \"Wed-0\" + \"Wed-1\" + \"Wed-2\" + \"Wed-3\" + \"Wed-4\" + \"Wed-5\" + \"Wed-6\" + \"Wed-7\" + \"Wed-8\" + \"Wed-9\" + \"Wed-10\" + \"Wed-11\" + \"Wed-12\" + \"Wed-13\" + \"Wed-14\" + \"Wed-15\" + \"Wed-16\" + \"Wed-17\" + \"Wed-18\" + \"Wed-19\" + \"Wed-20\" + \"Wed-21\" + \"Wed-22\" + \"Wed-23\" + \"Thu-0\" + \"Thu-1\" + \"Thu-2\" + \"Thu-3\" + \"Thu-4\" + \"Thu-5\" + \"Thu-6\" + \"Thu-7\" + \"Thu-8\" + \"Thu-9\" + \"Thu-10\" + \"Thu-11\" + \"Thu-12\" + \"Thu-13\" + \"Thu-14\" + \"Thu-15\" + \"Thu-16\" + \"Thu-17\" + \"Thu-18\" + \"Thu-19\" + \"Thu-20\" + \"Thu-21\" + \"Thu-22\" + \"Thu-23\" + \"Fri-0\" + \"Fri-1\" + \"Fri-2\" + \"Fri-3\" + \"Fri-4\" + \"Fri-5\" + \"Fri-6\" + \"Fri-7\" + \"Fri-8\" + \"Fri-9\" + \"Fri-10\" + \"Fri-11\" + \"Fri-12\" + \"Fri-13\" + \"Fri-14\" + \"Fri-15\" + \"Fri-16\" + \"Fri-17\" + \"Fri-18\" + \"Fri-19\" + \"Fri-20\" + \"Fri-21\" + \"Fri-22\" + \"Fri-23\" + \"Sat-0\" + \"Sat-1\" + \"Sat-2\" + \"Sat-3\" + \"Sat-4\" + \"Sat-5\" + \"Sat-6\" + \"Sat-7\" + \"Sat-8\" + \"Sat-9\" + \"Sat-10\" + \"Sat-11\" + \"Sat-12\" + \"Sat-13\" + \"Sat-14\" + \"Sat-15\" + \"Sat-16\" + \"Sat-17\" + \"Sat-18\" + \"Sat-19\" + \"Sat-20\" + \"Sat-21\" + \"Sat-22\" + \"Sat-23\" + \"Sun-0\" + \"Sun-1\" + \"Sun-2\" + \"Sun-3\" + \"Sun-4\" + \"Sun-5\" + \"Sun-6\" + \"Sun-7\" + \"Sun-8\" + \"Sun-9\" + \"Sun-10\" + \"Sun-11\" + \"Sun-12\" + \"Sun-13\" + \"Sun-14\" + \"Sun-15\" + \"Sun-16\" + \"Sun-17\" + \"Sun-18\" + \"Sun-19\" + \"Sun-20\" + \"Sun-21\" + \"Sun-22\" + \"Sun-23\"'"
      ]
     },
     "execution_count": 36,
     "metadata": {},
     "output_type": "execute_result"
    }
   ],
   "source": [
    "weekdays = ['Mon', 'Tue', 'Wed', 'Thu', 'Fri', 'Sat', 'Sun']\n",
    "hours = list(range(24))\n",
    "items = [\"\\\"\"+ wk +'-' +str(hr)+\"\\\"\" for wk in weekdays for hr in hours]\n",
    "' + '.join(items)"
   ]
  },
  {
   "cell_type": "markdown",
   "metadata": {},
   "source": [
    "### Update neighborhood_center table with gini indexes"
   ]
  },
  {
   "cell_type": "code",
   "execution_count": 29,
   "metadata": {},
   "outputs": [],
   "source": [
    "for neighborhood, gini_index in nbd_gini.items():\n",
    "    cur.execute(\"UPDATE neighborhood_center SET gini_index=%.4f WHERE neighborhood = '%s'\"%(gini_index, neighborhood))\n",
    "    conn.commit()\n"
   ]
  },
  {
   "cell_type": "code",
   "execution_count": 30,
   "metadata": {},
   "outputs": [
    {
     "ename": "TypeError",
     "evalue": "'NoneType' object is not iterable",
     "output_type": "error",
     "traceback": [
      "\u001b[0;31m---------------------------------------------------------------------------\u001b[0m",
      "\u001b[0;31mTypeError\u001b[0m                                 Traceback (most recent call last)",
      "\u001b[0;32m<ipython-input-30-3b2cc1b94c0e>\u001b[0m in \u001b[0;36m<module>\u001b[0;34m()\u001b[0m\n\u001b[0;32m----> 1\u001b[0;31m \u001b[0;32mfor\u001b[0m \u001b[0mrow\u001b[0m \u001b[0;32min\u001b[0m \u001b[0mcur\u001b[0m\u001b[0;34m.\u001b[0m\u001b[0mexecute\u001b[0m\u001b[0;34m(\u001b[0m\u001b[0;34m\"SELECT * FROM neighborhood_center\"\u001b[0m\u001b[0;34m)\u001b[0m\u001b[0;34m:\u001b[0m\u001b[0;34m\u001b[0m\u001b[0m\n\u001b[0m\u001b[1;32m      2\u001b[0m     \u001b[0mprint\u001b[0m\u001b[0;34m(\u001b[0m\u001b[0mrow\u001b[0m\u001b[0;34m)\u001b[0m\u001b[0;34m\u001b[0m\u001b[0m\n",
      "\u001b[0;31mTypeError\u001b[0m: 'NoneType' object is not iterable"
     ]
    }
   ],
   "source": [
    "for row in cur.execute(\"SELECT * FROM neighborhood_center\"):\n",
    "    print(row)"
   ]
  },
  {
   "cell_type": "markdown",
   "metadata": {},
   "source": [
    "### Add Gini Values for Restaurants to CSV (then add to Neighborhood_Center Table)"
   ]
  },
  {
   "cell_type": "code",
   "execution_count": null,
   "metadata": {},
   "outputs": [],
   "source": [
    "# New dataframe\n",
    "nbd_gini_df = pd.DataFrame({'neighborhood':[], 'gini':[]})\n",
    "#nbd_gini_df.append(pd.Series(['A', 123]), ignore_index=True)"
   ]
  },
  {
   "cell_type": "code",
   "execution_count": null,
   "metadata": {},
   "outputs": [],
   "source": [
    "# New dataframe\n",
    "nbd_gini_df = pd.DataFrame({'neighborhood':[], 'gini':[]})\n",
    "\n",
    "nbd_cats = {}\n",
    "for row in range(df.shape[0]):\n",
    "    nbd = df.iloc[row,1]\n",
    "    cats = df.iloc[row,0].split(',')\n",
    "    if nbd in nbd_cats:\n",
    "        for cat in cats:\n",
    "            if cat in nbd_cats[nbd]:\n",
    "                nbd_cats[nbd][cat] += 1\n",
    "            else:\n",
    "                nbd_cats[nbd][cat] = 1\n",
    "    else: # new nbd\n",
    "        for cat in cats:\n",
    "            nbd_cats[nbd] = {cat: 1}\n",
    "for nbd in nbd_cats:\n",
    "    print(nbd, gini(nbd_cats[nbd].values()))\n",
    "    nbd_gini_df"
   ]
  },
  {
   "cell_type": "code",
   "execution_count": null,
   "metadata": {},
   "outputs": [],
   "source": []
  },
  {
   "cell_type": "code",
   "execution_count": null,
   "metadata": {},
   "outputs": [],
   "source": []
  },
  {
   "cell_type": "code",
   "execution_count": null,
   "metadata": {},
   "outputs": [],
   "source": [
    "print(nbd_cats['Anthem'])\n",
    "print('\\n'*3)\n",
    "print(nbd_cats['The Strip'])\n"
   ]
  },
  {
   "cell_type": "code",
   "execution_count": null,
   "metadata": {},
   "outputs": [],
   "source": [
    "nbd_cats_copy = nbd_cats.copy()\n",
    "nbd_cats_copy['The Strip'].pop('restaurants')\n",
    "nbd_cats_copy['Anthem'].pop('restaurants')\n",
    "\n",
    "for nbd in ['The Strip', 'Anthem']:\n",
    "    print(nbd, gini(nbd_cats_copy[nbd].values()))"
   ]
  },
  {
   "cell_type": "code",
   "execution_count": null,
   "metadata": {},
   "outputs": [],
   "source": []
  },
  {
   "cell_type": "code",
   "execution_count": null,
   "metadata": {},
   "outputs": [],
   "source": [
    "[len(nbd_cats[nbd]) for nbd in nbd_cats]"
   ]
  },
  {
   "cell_type": "code",
   "execution_count": null,
   "metadata": {},
   "outputs": [],
   "source": []
  },
  {
   "cell_type": "code",
   "execution_count": null,
   "metadata": {},
   "outputs": [],
   "source": []
  },
  {
   "cell_type": "code",
   "execution_count": null,
   "metadata": {},
   "outputs": [],
   "source": []
  },
  {
   "cell_type": "code",
   "execution_count": null,
   "metadata": {},
   "outputs": [],
   "source": []
  },
  {
   "cell_type": "code",
   "execution_count": null,
   "metadata": {},
   "outputs": [],
   "source": []
  },
  {
   "cell_type": "code",
   "execution_count": null,
   "metadata": {},
   "outputs": [],
   "source": []
  },
  {
   "cell_type": "code",
   "execution_count": null,
   "metadata": {},
   "outputs": [],
   "source": []
  },
  {
   "cell_type": "code",
   "execution_count": null,
   "metadata": {},
   "outputs": [],
   "source": [
    "df.neighborhood.unique()"
   ]
  },
  {
   "cell_type": "code",
   "execution_count": null,
   "metadata": {},
   "outputs": [],
   "source": [
    "dict1 = {'Summerlin':0, 'Westside':0, 'Centennial':0, 'Southwest':0,\n",
    "       'Chinatown':0, 'Sunrise':0, 'Eastside':0, 'Spring Valley':0, 'Southeast':0,\n",
    "       'Northwest':0, 'Anthem':0, 'The Strip':0, 'Downtown':0, 'South Summerlin':0,\n",
    "       'The Lakes':0, 'University':0, 'North Valley':0}\n",
    "x = set()\n",
    "for i in range(0,in df.shape[0]):\n",
    "    if df.neighborhood.iloc[i] not 'None':\n",
    "        x.add(df.category.iloc[i])"
   ]
  },
  {
   "cell_type": "code",
   "execution_count": null,
   "metadata": {},
   "outputs": [],
   "source": [
    "df.neighborhood.shape[0]"
   ]
  },
  {
   "cell_type": "code",
   "execution_count": null,
   "metadata": {},
   "outputs": [],
   "source": []
  },
  {
   "cell_type": "code",
   "execution_count": null,
   "metadata": {},
   "outputs": [],
   "source": []
  },
  {
   "cell_type": "code",
   "execution_count": null,
   "metadata": {},
   "outputs": [],
   "source": [
    "restaurant = df[df['category']=='restaurants']"
   ]
  },
  {
   "cell_type": "code",
   "execution_count": null,
   "metadata": {},
   "outputs": [],
   "source": [
    "restaurant.head()"
   ]
  },
  {
   "cell_type": "code",
   "execution_count": null,
   "metadata": {},
   "outputs": [],
   "source": []
  },
  {
   "cell_type": "code",
   "execution_count": null,
   "metadata": {},
   "outputs": [],
   "source": []
  },
  {
   "cell_type": "code",
   "execution_count": null,
   "metadata": {},
   "outputs": [],
   "source": []
  },
  {
   "cell_type": "code",
   "execution_count": null,
   "metadata": {},
   "outputs": [],
   "source": []
  },
  {
   "cell_type": "code",
   "execution_count": null,
   "metadata": {},
   "outputs": [],
   "source": [
    "vegas.drop(['categories'], axis=1, inplace = True)"
   ]
  },
  {
   "cell_type": "code",
   "execution_count": null,
   "metadata": {},
   "outputs": [],
   "source": [
    "df_rest = vegas[vegas.category == 'restaurants']"
   ]
  },
  {
   "cell_type": "code",
   "execution_count": null,
   "metadata": {},
   "outputs": [],
   "source": [
    "df_rest.shape"
   ]
  },
  {
   "cell_type": "code",
   "execution_count": null,
   "metadata": {},
   "outputs": [],
   "source": [
    "vegas.head()"
   ]
  },
  {
   "cell_type": "code",
   "execution_count": null,
   "metadata": {},
   "outputs": [],
   "source": [
    "vegas.shape"
   ]
  },
  {
   "cell_type": "code",
   "execution_count": null,
   "metadata": {},
   "outputs": [],
   "source": [
    "vegas.columns"
   ]
  },
  {
   "cell_type": "code",
   "execution_count": null,
   "metadata": {},
   "outputs": [],
   "source": [
    "vegas.attributes_WheelchairAccessible.value_counts(dropna=False)"
   ]
  },
  {
   "cell_type": "code",
   "execution_count": null,
   "metadata": {},
   "outputs": [],
   "source": [
    "my_dict = \"{'parking':False}\"\n",
    "vegas.attributes_BusinessParking = vegas.attributes_BusinessParking.fillna(my_dict)"
   ]
  },
  {
   "cell_type": "code",
   "execution_count": null,
   "metadata": {},
   "outputs": [],
   "source": [
    "vegas.attributes_BusinessParking.head(10)"
   ]
  },
  {
   "cell_type": "code",
   "execution_count": null,
   "metadata": {},
   "outputs": [],
   "source": [
    "import ast\n",
    "#ast.literal_eval"
   ]
  },
  {
   "cell_type": "code",
   "execution_count": null,
   "metadata": {},
   "outputs": [],
   "source": [
    "vegas['Parking'] = 'False'"
   ]
  },
  {
   "cell_type": "code",
   "execution_count": null,
   "metadata": {},
   "outputs": [],
   "source": [
    "type(vegas.Parking.iloc[0])"
   ]
  },
  {
   "cell_type": "code",
   "execution_count": null,
   "metadata": {},
   "outputs": [],
   "source": [
    "def attr_func(i):\n",
    "    print(i)\n",
    "    i = ast.literal_eval(i)\n",
    "    for k,v in i.items():\n",
    "        if v== True:\n",
    "            return True\n",
    "    else:\n",
    "        return False"
   ]
  },
  {
   "cell_type": "code",
   "execution_count": null,
   "metadata": {},
   "outputs": [],
   "source": [
    "vegas['Parking'] = vegas['attributes_BusinessParking'].apply(attr_func)"
   ]
  },
  {
   "cell_type": "code",
   "execution_count": null,
   "metadata": {},
   "outputs": [],
   "source": [
    "vegas['Parking']"
   ]
  },
  {
   "cell_type": "code",
   "execution_count": null,
   "metadata": {},
   "outputs": [],
   "source": [
    "vegas.attributes_RestaurantsAttire"
   ]
  },
  {
   "cell_type": "code",
   "execution_count": null,
   "metadata": {},
   "outputs": [],
   "source": [
    "vegas.columns"
   ]
  },
  {
   "cell_type": "code",
   "execution_count": null,
   "metadata": {},
   "outputs": [],
   "source": [
    "vegas.attributes_AcceptsInsurance.value_counts(dropna=False)"
   ]
  },
  {
   "cell_type": "code",
   "execution_count": null,
   "metadata": {},
   "outputs": [],
   "source": [
    "vegas.attributes_AgesAllowed.value_counts(dropna=False)"
   ]
  },
  {
   "cell_type": "code",
   "execution_count": null,
   "metadata": {},
   "outputs": [],
   "source": [
    "vegas.attributes_Alcohol.value_counts(dropna=False)"
   ]
  },
  {
   "cell_type": "code",
   "execution_count": null,
   "metadata": {},
   "outputs": [],
   "source": [
    "vegas.attributes_BYOB.value_counts(dropna=False)"
   ]
  },
  {
   "cell_type": "code",
   "execution_count": null,
   "metadata": {},
   "outputs": [],
   "source": [
    "vegas.attributes_BusinessAcceptsCreditCards.value_counts(dropna=False)"
   ]
  },
  {
   "cell_type": "code",
   "execution_count": null,
   "metadata": {},
   "outputs": [],
   "source": [
    "vegas['credit_card'] = vegas.attributes_BusinessAcceptsCreditCards"
   ]
  },
  {
   "cell_type": "code",
   "execution_count": null,
   "metadata": {},
   "outputs": [],
   "source": [
    "vegas.drop(['attributes_BusinessAcceptsCreditCards','attributes_BusinessParking'],axis=1,inplace=True)"
   ]
  },
  {
   "cell_type": "code",
   "execution_count": null,
   "metadata": {},
   "outputs": [],
   "source": [
    "vegas.columns"
   ]
  },
  {
   "cell_type": "code",
   "execution_count": null,
   "metadata": {},
   "outputs": [],
   "source": [
    "vegas.attributes_DogsAllowed.value_counts(dropna=False)"
   ]
  },
  {
   "cell_type": "code",
   "execution_count": null,
   "metadata": {},
   "outputs": [],
   "source": [
    "vegas.attributes_DogsAllowed.fillna('NA',inplace=True)"
   ]
  },
  {
   "cell_type": "code",
   "execution_count": null,
   "metadata": {},
   "outputs": [],
   "source": [
    "vegas.attributes_DogsAllowed.value_counts(dropna=False)"
   ]
  },
  {
   "cell_type": "code",
   "execution_count": null,
   "metadata": {},
   "outputs": [],
   "source": [
    "nulls = pd.DataFrame(vegas.isnull().sum())"
   ]
  },
  {
   "cell_type": "code",
   "execution_count": null,
   "metadata": {},
   "outputs": [],
   "source": [
    "nulls.to_csv('nulls')"
   ]
  },
  {
   "cell_type": "code",
   "execution_count": null,
   "metadata": {},
   "outputs": [],
   "source": [
    "nulls.to_excel()"
   ]
  },
  {
   "cell_type": "code",
   "execution_count": null,
   "metadata": {},
   "outputs": [],
   "source": [
    "vegas.columns"
   ]
  },
  {
   "cell_type": "code",
   "execution_count": null,
   "metadata": {},
   "outputs": [],
   "source": [
    "a = ['attributes_BusinessAcceptsBitcoin','attributes_BestNights','attributes_AcceptsInsurance','']"
   ]
  },
  {
   "cell_type": "code",
   "execution_count": null,
   "metadata": {},
   "outputs": [],
   "source": [
    "vegas.drop(a,axis=1,inplace=True)"
   ]
  },
  {
   "cell_type": "code",
   "execution_count": null,
   "metadata": {},
   "outputs": [],
   "source": [
    "vegas.columns"
   ]
  },
  {
   "cell_type": "code",
   "execution_count": null,
   "metadata": {},
   "outputs": [],
   "source": [
    "df_sum = pd.DataFrame(df_rest.isnull().sum(), columns = ['missing_count'])\n",
    "df_sum.sort_values(by='missing_count')\n",
    "#df_sum.to_csv('data/rest_missing_data.csv')"
   ]
  },
  {
   "cell_type": "code",
   "execution_count": null,
   "metadata": {},
   "outputs": [],
   "source": [
    "vegas.category.hist()"
   ]
  },
  {
   "cell_type": "code",
   "execution_count": null,
   "metadata": {},
   "outputs": [],
   "source": [
    "import matplotlib.pyplot as plt"
   ]
  },
  {
   "cell_type": "code",
   "execution_count": null,
   "metadata": {},
   "outputs": [],
   "source": [
    "plt.show()"
   ]
  },
  {
   "cell_type": "code",
   "execution_count": null,
   "metadata": {},
   "outputs": [],
   "source": [
    "vegas.groupby(['neighborhood'])['category'].count().sort_values()"
   ]
  },
  {
   "cell_type": "code",
   "execution_count": null,
   "metadata": {},
   "outputs": [],
   "source": [
    "df_rest.groupby(['neighborhood'])['category'].count().sort_values()"
   ]
  },
  {
   "cell_type": "code",
   "execution_count": null,
   "metadata": {},
   "outputs": [],
   "source": [
    "vegas.groupby(['neighborhood'])['business_id'].count().sort_values()"
   ]
  },
  {
   "cell_type": "code",
   "execution_count": null,
   "metadata": {},
   "outputs": [],
   "source": [
    "df_rest.attributes_RestaurantsPriceRange2.value_counts(dropna=False)"
   ]
  },
  {
   "cell_type": "code",
   "execution_count": null,
   "metadata": {},
   "outputs": [],
   "source": [
    "df_rest.attributes_GoodForKids.value_counts(dropna=False)"
   ]
  },
  {
   "cell_type": "code",
   "execution_count": null,
   "metadata": {},
   "outputs": [],
   "source": [
    "df_rest.attributes_RestaurantsReservations.value_counts(dropna=False)"
   ]
  },
  {
   "cell_type": "code",
   "execution_count": null,
   "metadata": {},
   "outputs": [],
   "source": []
  }
 ],
 "metadata": {
  "kernelspec": {
   "display_name": "Python 3",
   "language": "python",
   "name": "python3"
  },
  "language_info": {
   "codemirror_mode": {
    "name": "ipython",
    "version": 3
   },
   "file_extension": ".py",
   "mimetype": "text/x-python",
   "name": "python",
   "nbconvert_exporter": "python",
   "pygments_lexer": "ipython3",
   "version": "3.6.4"
  },
  "toc": {
   "base_numbering": 1,
   "nav_menu": {},
   "number_sections": true,
   "sideBar": true,
   "skip_h1_title": false,
   "title_cell": "Table of Contents",
   "title_sidebar": "Contents",
   "toc_cell": false,
   "toc_position": {},
   "toc_section_display": true,
   "toc_window_display": false
  }
 },
 "nbformat": 4,
 "nbformat_minor": 2
}
